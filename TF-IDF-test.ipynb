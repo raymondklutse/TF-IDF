{
 "cells": [
  {
   "cell_type": "markdown",
   "metadata": {},
   "source": [
    "This work is to calculate the TF-IDF of words in documents provided in the bbctext folder"
   ]
  },
  {
   "cell_type": "code",
   "execution_count": 1,
   "metadata": {},
   "outputs": [],
   "source": [
    "//libraries to import \n",
    "\n",
    "import scala.collection.immutable.WrappedString;\n",
    "import scala.collection.Map\n",
    "\n",
    "import org.apache.spark.sql.SparkSession\n",
    "import org.apache.spark.SparkContext\n",
    "//import sqlContext.implicits._            // import useful stuff\n",
    "import org.apache.spark.sql.functions._  // here, import min, max, etc. \n"
   ]
  },
  {
   "cell_type": "code",
   "execution_count": 2,
   "metadata": {},
   "outputs": [
    {
     "data": {
      "text/plain": [
       "spark = org.apache.spark.sql.SparkSession@1bbfbc89\n",
       "sc = org.apache.spark.SparkContext@39ab7567\n",
       "sqlContext = org.apache.spark.sql.SQLContext@5c1e212b\n"
      ]
     },
     "metadata": {},
     "output_type": "display_data"
    },
    {
     "data": {
      "text/plain": [
       "org.apache.spark.sql.SQLContext@5c1e212b"
      ]
     },
     "execution_count": 2,
     "metadata": {},
     "output_type": "execute_result"
    }
   ],
   "source": [
    "//initialise Spark\n",
    "val spark = SparkSession.builder.        // builder pattern to construct the session\n",
    "  master(\"local[*]\").                    // run locally on all cores ([*])\n",
    "  appName(\"TF-IDF\").\n",
    "  config(\"spark.app.id\", \"Console\").     // to silence Metrics warning\n",
    "  getOrCreate()                          // create it!\n",
    "\n",
    "val sc = spark.sparkContext              // get the SparkContext\n",
    "val sqlContext = spark.sqlContext        // get the old SQLContext, if needed\n",
    "\n",
    "\n"
   ]
  },
  {
   "cell_type": "code",
   "execution_count": 3,
   "metadata": {},
   "outputs": [
    {
     "data": {
      "text/plain": [
       "class org.apache.spark.sql.SparkSession"
      ]
     },
     "execution_count": 3,
     "metadata": {},
     "output_type": "execute_result"
    }
   ],
   "source": [
    "spark.getClass"
   ]
  },
  {
   "cell_type": "code",
   "execution_count": 4,
   "metadata": {},
   "outputs": [
    {
     "data": {
      "text/plain": [
       "class org.apache.spark.SparkContext"
      ]
     },
     "execution_count": 4,
     "metadata": {},
     "output_type": "execute_result"
    }
   ],
   "source": [
    "sc.getClass"
   ]
  },
  {
   "cell_type": "code",
   "execution_count": 5,
   "metadata": {},
   "outputs": [
    {
     "data": {
      "text/plain": [
       "bus_text = ../TF-IDF/bbctext/business MapPartitionsRDD[1] at wholeTextFiles at <console>:35\n"
      ]
     },
     "metadata": {},
     "output_type": "display_data"
    },
    {
     "data": {
      "text/plain": [
       "../TF-IDF/bbctext/business MapPartitionsRDD[1] at wholeTextFiles at <console>:35"
      ]
     },
     "execution_count": 5,
     "metadata": {},
     "output_type": "execute_result"
    }
   ],
   "source": [
    "//initialise the variable to hold the business folder\n",
    "val bus_text = sc.wholeTextFiles(\"../TF-IDF/bbctext/business\")"
   ]
  },
  {
   "cell_type": "code",
   "execution_count": 13,
   "metadata": {},
   "outputs": [
    {
     "data": {
      "text/plain": [
       "tech_text = ../TF-IDF/bbctext/tech MapPartitionsRDD[17] at wholeTextFiles at <console>:35\n"
      ]
     },
     "metadata": {},
     "output_type": "display_data"
    },
    {
     "data": {
      "text/plain": [
       "../TF-IDF/bbctext/tech MapPartitionsRDD[17] at wholeTextFiles at <console>:35"
      ]
     },
     "execution_count": 13,
     "metadata": {},
     "output_type": "execute_result"
    }
   ],
   "source": [
    "//initialise the variable to hold the tech folder\n",
    "val tech_text = sc.wholeTextFiles(\"../TF-IDF/bbctext/tech\")"
   ]
  },
  {
   "cell_type": "code",
   "execution_count": 14,
   "metadata": {},
   "outputs": [
    {
     "data": {
      "text/plain": [
       "sport_text = ../TF-IDF/bbctext/sport MapPartitionsRDD[19] at wholeTextFiles at <console>:35\n"
      ]
     },
     "metadata": {},
     "output_type": "display_data"
    },
    {
     "data": {
      "text/plain": [
       "../TF-IDF/bbctext/sport MapPartitionsRDD[19] at wholeTextFiles at <console>:35"
      ]
     },
     "execution_count": 14,
     "metadata": {},
     "output_type": "execute_result"
    }
   ],
   "source": [
    "//initialise the variable to hold the sports folder\n",
    "val sport_text = sc.wholeTextFiles(\"../TF-IDF/bbctext/sport\")"
   ]
  },
  {
   "cell_type": "code",
   "execution_count": 15,
   "metadata": {},
   "outputs": [
    {
     "data": {
      "text/plain": [
       "pol_text = ../TF-IDF/bbctext/politics MapPartitionsRDD[21] at wholeTextFiles at <console>:35\n"
      ]
     },
     "metadata": {},
     "output_type": "display_data"
    },
    {
     "data": {
      "text/plain": [
       "../TF-IDF/bbctext/politics MapPartitionsRDD[21] at wholeTextFiles at <console>:35"
      ]
     },
     "execution_count": 15,
     "metadata": {},
     "output_type": "execute_result"
    }
   ],
   "source": [
    "//initialise the variable to hold the politics folder\n",
    "val pol_text = sc.wholeTextFiles(\"../TF-IDF/bbctext/politics\")"
   ]
  },
  {
   "cell_type": "code",
   "execution_count": 16,
   "metadata": {},
   "outputs": [
    {
     "data": {
      "text/plain": [
       "ent_text = ../TF-IDF/bbctext/entertainment MapPartitionsRDD[23] at wholeTextFiles at <console>:35\n"
      ]
     },
     "metadata": {},
     "output_type": "display_data"
    },
    {
     "data": {
      "text/plain": [
       "../TF-IDF/bbctext/entertainment MapPartitionsRDD[23] at wholeTextFiles at <console>:35"
      ]
     },
     "execution_count": 16,
     "metadata": {},
     "output_type": "execute_result"
    }
   ],
   "source": [
    "//initialise the variable to hold the business folder\n",
    "val ent_text = sc.wholeTextFiles(\"../TF-IDF/bbctext/entertainment\")"
   ]
  },
  {
   "cell_type": "code",
   "execution_count": 7,
   "metadata": {},
   "outputs": [
    {
     "data": {
      "text/plain": [
       "510"
      ]
     },
     "execution_count": 7,
     "metadata": {},
     "output_type": "execute_result"
    }
   ],
   "source": [
    "//get size of business folder\n",
    "bus_text.count() "
   ]
  },
  {
   "cell_type": "code",
   "execution_count": 18,
   "metadata": {},
   "outputs": [
    {
     "data": {
      "text/plain": [
       "511"
      ]
     },
     "execution_count": 18,
     "metadata": {},
     "output_type": "execute_result"
    }
   ],
   "source": [
    "//get size of business folder\n",
    "sport_text.count() "
   ]
  },
  {
   "cell_type": "code",
   "execution_count": 19,
   "metadata": {},
   "outputs": [
    {
     "data": {
      "text/plain": [
       "386"
      ]
     },
     "execution_count": 19,
     "metadata": {},
     "output_type": "execute_result"
    }
   ],
   "source": [
    "//get size of business folder\n",
    "ent_text.count() "
   ]
  },
  {
   "cell_type": "code",
   "execution_count": 20,
   "metadata": {},
   "outputs": [
    {
     "data": {
      "text/plain": [
       "417"
      ]
     },
     "execution_count": 20,
     "metadata": {},
     "output_type": "execute_result"
    }
   ],
   "source": [
    "//get size of business folder\n",
    "pol_text.count() "
   ]
  },
  {
   "cell_type": "code",
   "execution_count": 21,
   "metadata": {},
   "outputs": [
    {
     "name": "stdout",
     "output_type": "stream",
     "text": [
      "(file:/Users/drcaptainray/Documents/IMTA/SDS202/TP/TF-IDF/bbctext/business/289.txt,UK economy facing 'major risks'\n",
      "\n",
      "The UK manufacturing sector will continue to face \"serious challenges\" over the next two years, the British Chamber of Commerce (BCC) has said.\n",
      "\n",
      "The group's quarterly survey of companies found exports had picked up in the last three months of 2004 to their best levels in eight years. The rise came despite exchange rates being cited as a major concern. However, the BCC found the whole UK economy still faced \"major risks\" and warned that growth is set to slow. It recently forecast economic growth will slow from more than 3% in 2004 to a little below 2.5% in both 2005 and 2006.\n",
      "\n",
      "Manufacturers' domestic sales growth fell back slightly in the quarter, the survey of 5,196 firms found. Employment in manufacturing also fell and job expectations were at their lowest level for a year.\n",
      "\n",
      "\"Despite some positive news for the export sector, there are worrying signs for manufacturing,\" the BCC said. \"These results reinforce our concern over the sector's persistent inability to sustain recovery.\" The outlook for the service sector was \"uncertain\" despite an increase in exports and orders over the quarter, the BCC noted.\n",
      "\n",
      "The BCC found confidence increased in the quarter across both the manufacturing and service sectors although overall it failed to reach the levels at the start of 2004. The reduced threat of interest rate increases had contributed to improved confidence, it said. The Bank of England raised interest rates five times between November 2003 and August last year. But rates have been kept on hold since then amid signs of falling consumer confidence and a slowdown in output. \"The pressure on costs and margins, the relentless increase in regulations, and the threat of higher taxes remain serious problems,\" BCC director general David Frost said. \"While consumer spending is set to decelerate significantly over the next 12-18 months, it is unlikely that investment and exports will rise sufficiently strongly to pick up the slack.\"\n",
      ")\n",
      "(file:/Users/drcaptainray/Documents/IMTA/SDS202/TP/TF-IDF/bbctext/business/504.txt,Aids and climate top Davos agenda\n",
      "\n",
      "Climate change and the fight against Aids are leading the list of concerns for the first day of the World Economic Forum in the Swiss resort of Davos.\n",
      "\n",
      "Some 2,000 business and political leaders from around the globe will listen to UK Prime Minister Tony Blair's opening speech on Wednesday. Mr Blair will focus on Africa's development plans and global warming. Earlier in the day came an update on efforts to have 3 million people on anti-Aids drugs by the end of 2005. The World Health Organisation (WHO) said 700,000 people in poor countries were on life-extending drugs - up from 440,000 six months earlier but amounting to only 12% of the 5.8 million who needed them. A $2bn \"funding gap\" still stood in the way of hitting the 2005 target, the WHO said.\n",
      "\n",
      "The themes to be stressed by Mr Blair - whose attendance was announced at the last minute - are those he wants to dominate the UK's chairmanship of the G8 group of industrialised states. Other issues to be discussed at the five-day conference range from China's\n",
      "\n",
      "economic power to Iraq's future after this Sunday's elections. Aside from Mr Blair, more than 20 other world leaders are expected to attend including French President Jacques Chirac - due to speak by video link after bad weather delayed his helicopter - and South African President Thabo Mbeki, whose arrival has been delayed by Ivory Coast peace talks. The Ukraine's new president, Viktor Yushchenko, will also be there - as will newly elected Palestinian leader Mahmoud Abbas. Showbiz figures will also put in an appearance, from U2 frontman Bono - a well-known campaigner on trade and development issues - to Angelina Jolie, a goodwill campaigner for the UN on refugees.\n",
      "\n",
      "Unlike previous years, protests against the WEF are expected to be muted. Anti-globalisation campaigners have called off a demonstration planned for the weekend. At the same time, about 100,000 people are expected to converge on the Brazilian resort of Porto Alegre for the World Social Forum - the so-called \"anti-Davos\" for campaigners against globalisation, for fair trade, and many other causes.\n",
      "\n",
      "In contrast, the Davos forum is dominated by business issues - from outsourcing to corporate leadership - with bosses of more than a fifth of the world's 500 largest companies scheduled to attend. A survey published on the eve of the conference by PricewaterhouseCoopers said four in ten business leaders were \"very confident\" that their companies would see sales rise in 2005. Asian and American executives, however, were much more confident than their European counterparts. But the political discussions, focusing on Iran, Iraq and China, are likely to dominate media attention.\n",
      ")\n",
      "(file:/Users/drcaptainray/Documents/IMTA/SDS202/TP/TF-IDF/bbctext/business/262.txt,Asian quake hits European shares\n",
      "\n",
      "Shares in Europe's leading reinsurers and travel firms have fallen as the scale of the damage wrought by tsunamis across south Asia has become apparent.\n",
      "\n",
      "More than 23,000 people have been killed following a massive underwater earthquake and many of the worst hit areas are popular tourist destinations. Reisurance firms such as Swiss Re and Munich Re lost value as investors worried about rebuilding costs. But the disaster has little impact on stock markets in the US and Asia.\n",
      "\n",
      "Currencies including the Thai baht and Indonesian rupiah weakened as analysts warned that economic growth may slow. \"It came at the worst possible time,\" said Hans Goetti, a Singapore-based fund manager. \"The impact on the tourist industry is pretty devastating, especially in Thailand.\" Travel-related shares dropped in Europe, with companies such as Germany's TUI and Lufthansa and France's Club Mediterranne sliding. Insurers and reinsurance firms were also under pressure in Europe.\n",
      "\n",
      "Shares in Munich Re and Swiss Re - the world's two biggest reinsurers - both fell 1.7% as the market speculated about the cost of rebuilding in Asia. Zurich Financial, Allianz and Axa also suffered a decline in value.\n",
      "\n",
      "However, their losses were much smaller, reflecting the market's view that reinsurers were likely to pick up the bulk of the costs. Worries about the size of insurance liabilities dragged European shares down, although the impact was exacerbated by light post-Christmas trading. Germany's benchmark Dax index closed the day 16.29 points lower at 3.817.69 while France's Cac index of leading shares fell 5.07 points to 3.817.69. Investors pointed out, however, that declines probably would be industry specific, with the travel and insurance firms hit hardest. \"It's still too early for concrete damage figures,\" Swiss Re's spokesman Floiran Woest told Associated Press. \"That also has to do with the fact that the damage is very widely spread geographically.\"\n",
      "\n",
      "The unfolding scale of the disaster in south Asia had little immediate impact on US shares, however. The Dow Jones index had risen 20.54 points, or 0.2%, to 10,847.66 by late morning as analsyts were cheered by more encouraging reports from retailers about post-Christmas sales. In Asian markets, adjustments were made quickly to account for lower earnings and the cost of repairs. Thai Airways shed almost 4%. The country relies on tourism for about 6% of its total economy. Singapore Airlines dropped 2.6%. About 5% of Singapore's annual gross domestic product (GDP) comes from tourism. Malaysia's budget airline, AirAsia fell 2.9%. Resort operator Tanco Holdings slumped 5%.\n",
      "\n",
      "Travel companies also took a hit, with Japan's Kinki Nippon sliding 1.5% and HIS dropping 3.3%. However, the overall impact on Asia's largest stock market, Japan's Nikkei, was slight. Shares fell just 0.03%. Concerns about the strength of economic growth going forward weighed on the currency markets. The Indonesian rupiah lost as much as 0.6% against the US dollar, before bouncing back slightly to trade at 9,300. The Thai baht lost 0.3% against the US currency, trading at 39.10. In India, where more than 2,000 people are thought to have died, the rupee shed 0.1% against the dollar Analysts said that it was difficult to predict the total cost of the disaster and warned that share prices and currencies would come under increasing pressure as the bills mounted.\n",
      ")\n",
      "(file:/Users/drcaptainray/Documents/IMTA/SDS202/TP/TF-IDF/bbctext/business/276.txt,India power shares jump on debut\n",
      "\n",
      "Shares in India's largest power producer, National Thermal Power Corp (NTPC) have risen 13% on their stock market debut.\n",
      "\n",
      "The government's partial sell-off of NTPC is part of a controversial programme to privatise state-run firms. The 865 million share offer, a mix of new shares and sales by the government, raised 54bn rupees($1.2bn). It was India's second $1bn stock debut in three months, coming after the flotation by software firm Tata. The share offer was eleven times oversubscribed. \"It is a good investment bet,\" said Suhas Naik, an investment analyst from ING Mutual Fund. \"Power needs in India are set to rise and NTPC will benefit from that.\" Analysts say the success of the NTPC flotation would encourage the government to reduce stakes in more power companies. NTPC has said it will use the money from the share sale to feed the growing needs of the country's energy-starved economy. The firm is the largest utility company in India, and the sixth largest power producer in the world.\n",
      ")\n",
      "(file:/Users/drcaptainray/Documents/IMTA/SDS202/TP/TF-IDF/bbctext/business/510.txt,Lacroix label bought by US firm\n",
      "\n",
      "Luxury goods group LVMH has sold its loss-making Christian Lacroix clothing label to a US investment group.\n",
      "\n",
      "The Paris-based firm has been shedding non-core businesses and focusing on its most profitable brands including Moet & Chandon champagne and Louis Vuitton. LVMH said the French designer's haute couture and ready-to-wear labels had been purchased by the Falic Group for an unspecified sum. The Falic Group bought two cosmetics labels from LVMH in 2003. The sale of the Lacroix label comes as many fashion houses are struggling to make money from their expensive haute couture ranges. The Florida-based Falic group, which also runs a chain of 90 duty free stores in the US, said it planned to expand the brand by opening new stores. Mr Lacroix said he planned to stay at the label he founded in 1987 although exact details are still to be confirmed.\n",
      ")\n"
     ]
    }
   ],
   "source": [
    "//show the content of each file\n",
    "bus_text.take(5).foreach(println)  "
   ]
  },
  {
   "cell_type": "code",
   "execution_count": 29,
   "metadata": {},
   "outputs": [
    {
     "data": {
      "text/plain": [
       "stopwords = ../TF-IDF/bbctext/stopwords.txt MapPartitionsRDD[32] at textFile at <console>:35\n"
      ]
     },
     "metadata": {},
     "output_type": "display_data"
    },
    {
     "data": {
      "text/plain": [
       "../TF-IDF/bbctext/stopwords.txt MapPartitionsRDD[32] at textFile at <console>:35"
      ]
     },
     "execution_count": 29,
     "metadata": {},
     "output_type": "execute_result"
    }
   ],
   "source": [
    "//get stop words\n",
    "val stopwords = sc.textFile(\"../TF-IDF/bbctext/stopwords.txt\")"
   ]
  },
  {
   "cell_type": "code",
   "execution_count": 30,
   "metadata": {},
   "outputs": [
    {
     "data": {
      "text/plain": [
       "stopwords_size = 429\n"
      ]
     },
     "metadata": {},
     "output_type": "display_data"
    },
    {
     "data": {
      "text/plain": [
       "429"
      ]
     },
     "execution_count": 30,
     "metadata": {},
     "output_type": "execute_result"
    }
   ],
   "source": [
    "val stopwords_size : Int = stopwords.count().asInstanceOf[Int]"
   ]
  },
  {
   "cell_type": "code",
   "execution_count": 31,
   "metadata": {},
   "outputs": [
    {
     "name": "stdout",
     "output_type": "stream",
     "text": [
      "a\n",
      "about\n",
      "above\n",
      "across\n",
      "after\n",
      "again\n",
      "against\n",
      "all\n",
      "almost\n",
      "alone\n",
      "along\n",
      "already\n",
      "also\n",
      "although\n",
      "always\n",
      "among\n",
      "an\n",
      "and\n",
      "another\n",
      "any\n",
      "anybody\n",
      "anyone\n",
      "anything\n",
      "anywhere\n",
      "are\n",
      "area\n",
      "areas\n",
      "around\n",
      "as\n",
      "ask\n",
      "asked\n",
      "asking\n",
      "asks\n",
      "at\n",
      "away\n",
      "b\n",
      "back\n",
      "backed\n",
      "backing\n",
      "backs\n",
      "be\n",
      "became\n",
      "because\n",
      "become\n",
      "becomes\n",
      "been\n",
      "before\n",
      "began\n",
      "behind\n",
      "being\n",
      "beings\n",
      "best\n",
      "better\n",
      "between\n",
      "big\n",
      "both\n",
      "but\n",
      "by\n",
      "c\n",
      "came\n",
      "can\n",
      "cannot\n",
      "case\n",
      "cases\n",
      "certain\n",
      "certainly\n",
      "clear\n",
      "clearly\n",
      "come\n",
      "could\n",
      "d\n",
      "did\n",
      "differ\n",
      "different\n",
      "differently\n",
      "do\n",
      "does\n",
      "done\n",
      "down\n",
      "down\n",
      "downed\n",
      "downing\n",
      "downs\n",
      "during\n",
      "e\n",
      "each\n",
      "early\n",
      "either\n",
      "end\n",
      "ended\n",
      "ending\n",
      "ends\n",
      "enough\n",
      "even\n",
      "evenly\n",
      "ever\n",
      "every\n",
      "everybody\n",
      "everyone\n",
      "everything\n",
      "everywhere\n",
      "f\n",
      "face\n",
      "faces\n",
      "fact\n",
      "facts\n",
      "far\n",
      "felt\n",
      "few\n",
      "find\n",
      "finds\n",
      "first\n",
      "for\n",
      "four\n",
      "from\n",
      "full\n",
      "fully\n",
      "further\n",
      "furthered\n",
      "furthering\n",
      "furthers\n",
      "g\n",
      "gave\n",
      "general\n",
      "generally\n",
      "get\n",
      "gets\n",
      "give\n",
      "given\n",
      "gives\n",
      "go\n",
      "going\n",
      "good\n",
      "goods\n",
      "got\n",
      "great\n",
      "greater\n",
      "greatest\n",
      "group\n",
      "grouped\n",
      "grouping\n",
      "groups\n",
      "h\n",
      "had\n",
      "has\n",
      "have\n",
      "having\n",
      "he\n",
      "her\n",
      "here\n",
      "herself\n",
      "high\n",
      "high\n",
      "high\n",
      "higher\n",
      "highest\n",
      "him\n",
      "himself\n",
      "his\n",
      "how\n",
      "however\n",
      "i\n",
      "if\n",
      "important\n",
      "in\n",
      "interest\n",
      "interested\n",
      "interesting\n",
      "interests\n",
      "into\n",
      "is\n",
      "it\n",
      "its\n",
      "itself\n",
      "j\n",
      "just\n",
      "k\n",
      "keep\n",
      "keeps\n",
      "kind\n",
      "knew\n",
      "know\n",
      "known\n",
      "knows\n",
      "l\n",
      "large\n",
      "largely\n",
      "last\n",
      "later\n",
      "latest\n",
      "least\n",
      "less\n",
      "let\n",
      "lets\n",
      "like\n",
      "likely\n",
      "long\n",
      "longer\n",
      "longest\n",
      "m\n",
      "made\n",
      "make\n",
      "making\n",
      "man\n",
      "many\n",
      "may\n",
      "me\n",
      "member\n",
      "members\n",
      "men\n",
      "might\n",
      "more\n",
      "most\n",
      "mostly\n",
      "mr\n",
      "mrs\n",
      "much\n",
      "must\n",
      "my\n",
      "myself\n",
      "n\n",
      "necessary\n",
      "need\n",
      "needed\n",
      "needing\n",
      "needs\n",
      "never\n",
      "new\n",
      "new\n",
      "newer\n",
      "newest\n",
      "next\n",
      "no\n",
      "nobody\n",
      "non\n",
      "noone\n",
      "not\n",
      "nothing\n",
      "now\n",
      "nowhere\n",
      "number\n",
      "numbers\n",
      "o\n",
      "of\n",
      "off\n",
      "often\n",
      "old\n",
      "older\n",
      "oldest\n",
      "on\n",
      "once\n",
      "one\n",
      "only\n",
      "open\n",
      "opened\n",
      "opening\n",
      "opens\n",
      "or\n",
      "order\n",
      "ordered\n",
      "ordering\n",
      "orders\n",
      "other\n",
      "others\n",
      "our\n",
      "out\n",
      "over\n",
      "p\n",
      "part\n",
      "parted\n",
      "parting\n",
      "parts\n",
      "per\n",
      "perhaps\n",
      "place\n",
      "places\n",
      "point\n",
      "pointed\n",
      "pointing\n",
      "points\n",
      "possible\n",
      "present\n",
      "presented\n",
      "presenting\n",
      "presents\n",
      "problem\n",
      "problems\n",
      "put\n",
      "puts\n",
      "q\n",
      "quite\n",
      "r\n",
      "rather\n",
      "really\n",
      "right\n",
      "right\n",
      "room\n",
      "rooms\n",
      "s\n",
      "said\n",
      "same\n",
      "saw\n",
      "say\n",
      "says\n",
      "second\n",
      "seconds\n",
      "see\n",
      "seem\n",
      "seemed\n",
      "seeming\n",
      "seems\n",
      "sees\n",
      "several\n",
      "shall\n",
      "she\n",
      "should\n",
      "show\n",
      "showed\n",
      "showing\n",
      "shows\n",
      "side\n",
      "sides\n",
      "since\n",
      "small\n",
      "smaller\n",
      "smallest\n",
      "so\n",
      "some\n",
      "somebody\n",
      "someone\n",
      "something\n",
      "somewhere\n",
      "state\n",
      "states\n",
      "still\n",
      "still\n",
      "such\n",
      "sure\n",
      "t\n",
      "take\n",
      "taken\n",
      "than\n",
      "that\n",
      "the\n",
      "their\n",
      "them\n",
      "then\n",
      "there\n",
      "therefore\n",
      "these\n",
      "they\n",
      "thing\n",
      "things\n",
      "think\n",
      "thinks\n",
      "this\n",
      "those\n",
      "though\n",
      "thought\n",
      "thoughts\n",
      "three\n",
      "through\n",
      "thus\n",
      "to\n",
      "today\n",
      "together\n",
      "too\n",
      "took\n",
      "toward\n",
      "turn\n",
      "turned\n",
      "turning\n",
      "turns\n",
      "two\n",
      "u\n",
      "under\n",
      "until\n",
      "up\n",
      "upon\n",
      "us\n",
      "use\n",
      "used\n",
      "uses\n",
      "v\n",
      "very\n",
      "w\n",
      "want\n",
      "wanted\n",
      "wanting\n",
      "wants\n",
      "was\n",
      "way\n",
      "ways\n",
      "we\n",
      "well\n",
      "wells\n",
      "went\n",
      "were\n",
      "what\n",
      "when\n",
      "where\n",
      "whether\n",
      "which\n",
      "while\n",
      "who\n",
      "whole\n",
      "whose\n",
      "why\n",
      "will\n",
      "with\n",
      "within\n",
      "without\n",
      "work\n",
      "worked\n",
      "working\n",
      "works\n",
      "would\n",
      "x\n",
      "y\n",
      "year\n",
      "years\n",
      "yet\n",
      "you\n",
      "young\n",
      "younger\n",
      "youngest\n",
      "your\n",
      "yours\n",
      "z\n"
     ]
    }
   ],
   "source": [
    "//read the content of stop words\n",
    "stopwords.take(stopwords_size).foreach(println)"
   ]
  },
  {
   "cell_type": "code",
   "execution_count": 32,
   "metadata": {},
   "outputs": [
    {
     "data": {
      "text/plain": [
       "s_words = MapPartitionsRDD[33] at flatMap at <console>:34\n"
      ]
     },
     "metadata": {},
     "output_type": "display_data"
    },
    {
     "data": {
      "text/plain": [
       "MapPartitionsRDD[33] at flatMap at <console>:34"
      ]
     },
     "execution_count": 32,
     "metadata": {},
     "output_type": "execute_result"
    }
   ],
   "source": [
    "val s_words = stopwords.flatMap(line => line.split(\",\"))"
   ]
  },
  {
   "cell_type": "code",
   "execution_count": 33,
   "metadata": {},
   "outputs": [
    {
     "data": {
      "text/plain": [
       "s_wordGroups = ShuffledRDD[35] at groupBy at <console>:34\n"
      ]
     },
     "metadata": {},
     "output_type": "display_data"
    },
    {
     "data": {
      "text/plain": [
       "ShuffledRDD[35] at groupBy at <console>:34"
      ]
     },
     "execution_count": 33,
     "metadata": {},
     "output_type": "execute_result"
    }
   ],
   "source": [
    "val s_wordGroups = s_words.groupBy(word => word)"
   ]
  },
  {
   "cell_type": "code",
   "execution_count": 12,
   "metadata": {},
   "outputs": [
    {
     "data": {
      "text/plain": [
       "peek: (rdd: org.apache.spark.rdd.RDD[_], n: Int)Unit\n"
      ]
     },
     "metadata": {},
     "output_type": "display_data"
    }
   ],
   "source": [
    "import org.apache.spark.rdd.RDD\n",
    "\n",
    "def peek(rdd: RDD[_],n: Int = 20): Unit = {\n",
    "  println(\"RDD type signature: \"+rdd+\"\\n\")\n",
    "  println(\"=====================\")\n",
    "  rdd.take(n).foreach(println)\n",
    "  println(\"=====================\")\n",
    "}"
   ]
  },
  {
   "cell_type": "code",
   "execution_count": 35,
   "metadata": {},
   "outputs": [
    {
     "name": "stdout",
     "output_type": "stream",
     "text": [
      "RDD type signature: ShuffledRDD[35] at groupBy at <console>:34\n",
      "\n",
      "=====================\n",
      "(someone,CompactBuffer(someone))\n",
      "(under,CompactBuffer(under))\n",
      "(its,CompactBuffer(its))\n",
      "(greater,CompactBuffer(greater))\n",
      "(opening,CompactBuffer(opening))\n",
      "(have,CompactBuffer(have))\n",
      "(needing,CompactBuffer(needing))\n",
      "(highest,CompactBuffer(highest))\n",
      "(order,CompactBuffer(order))\n",
      "(several,CompactBuffer(several))\n",
      "(behind,CompactBuffer(behind))\n",
      "(we,CompactBuffer(we))\n",
      "(been,CompactBuffer(been))\n",
      "(thing,CompactBuffer(thing))\n",
      "(who,CompactBuffer(who))\n",
      "(grouped,CompactBuffer(grouped))\n",
      "(however,CompactBuffer(however))\n",
      "(over,CompactBuffer(over))\n",
      "(ever,CompactBuffer(ever))\n",
      "(seeming,CompactBuffer(seeming))\n",
      "(any,CompactBuffer(any))\n",
      "(largely,CompactBuffer(largely))\n",
      "(make,CompactBuffer(make))\n",
      "(problems,CompactBuffer(problems))\n",
      "(years,CompactBuffer(years))\n",
      "(kind,CompactBuffer(kind))\n",
      "(knows,CompactBuffer(knows))\n",
      "(out,CompactBuffer(out))\n",
      "(presented,CompactBuffer(presented))\n",
      "(me,CompactBuffer(me))\n",
      "(d,CompactBuffer(d))\n",
      "(parts,CompactBuffer(parts))\n",
      "(are,CompactBuffer(are))\n",
      "(p,CompactBuffer(p))\n",
      "(ended,CompactBuffer(ended))\n",
      "(away,CompactBuffer(away))\n",
      "(presents,CompactBuffer(presents))\n",
      "(when,CompactBuffer(when))\n",
      "(ends,CompactBuffer(ends))\n",
      "(our,CompactBuffer(our))\n",
      "(as,CompactBuffer(as))\n",
      "(whose,CompactBuffer(whose))\n",
      "(going,CompactBuffer(going))\n",
      "(together,CompactBuffer(together))\n",
      "(thus,CompactBuffer(thus))\n",
      "(v,CompactBuffer(v))\n",
      "(better,CompactBuffer(better))\n",
      "(them,CompactBuffer(them))\n",
      "(myself,CompactBuffer(myself))\n",
      "(parted,CompactBuffer(parted))\n",
      "(anybody,CompactBuffer(anybody))\n",
      "(showed,CompactBuffer(showed))\n",
      "(sides,CompactBuffer(sides))\n",
      "(backed,CompactBuffer(backed))\n",
      "(is,CompactBuffer(is))\n",
      "(long,CompactBuffer(long))\n",
      "(newest,CompactBuffer(newest))\n",
      "(same,CompactBuffer(same))\n",
      "(even,CompactBuffer(even))\n",
      "(backs,CompactBuffer(backs))\n",
      "(b,CompactBuffer(b))\n",
      "(rather,CompactBuffer(rather))\n",
      "(certain,CompactBuffer(certain))\n",
      "(shall,CompactBuffer(shall))\n",
      "(come,CompactBuffer(come))\n",
      "(n,CompactBuffer(n))\n",
      "(shows,CompactBuffer(shows))\n",
      "(j,CompactBuffer(j))\n",
      "(they,CompactBuffer(they))\n",
      "(new,CompactBuffer(new, new))\n",
      "(again,CompactBuffer(again))\n",
      "(likely,CompactBuffer(likely))\n",
      "(goods,CompactBuffer(goods))\n",
      "(gives,CompactBuffer(gives))\n",
      "(my,CompactBuffer(my))\n",
      "(now,CompactBuffer(now))\n",
      "(has,CompactBuffer(has))\n",
      "(four,CompactBuffer(four))\n",
      "(us,CompactBuffer(us))\n",
      "(z,CompactBuffer(z))\n",
      "(men,CompactBuffer(men))\n",
      "(after,CompactBuffer(after))\n",
      "(areas,CompactBuffer(areas))\n",
      "(puts,CompactBuffer(puts))\n",
      "(need,CompactBuffer(need))\n",
      "(turns,CompactBuffer(turns))\n",
      "(uses,CompactBuffer(uses))\n",
      "(places,CompactBuffer(places))\n",
      "(anyone,CompactBuffer(anyone))\n",
      "(ways,CompactBuffer(ways))\n",
      "(point,CompactBuffer(point))\n",
      "(fact,CompactBuffer(fact))\n",
      "(three,CompactBuffer(three))\n",
      "(yours,CompactBuffer(yours))\n",
      "(why,CompactBuffer(why))\n",
      "(mrs,CompactBuffer(mrs))\n",
      "(often,CompactBuffer(often))\n",
      "(quite,CompactBuffer(quite))\n",
      "(worked,CompactBuffer(worked))\n",
      "(went,CompactBuffer(went))\n",
      "(right,CompactBuffer(right, right))\n",
      "(this,CompactBuffer(this))\n",
      "(differently,CompactBuffer(differently))\n",
      "(ordering,CompactBuffer(ordering))\n",
      "(therefore,CompactBuffer(therefore))\n",
      "(youngest,CompactBuffer(youngest))\n",
      "(general,CompactBuffer(general))\n",
      "(think,CompactBuffer(think))\n",
      "(upon,CompactBuffer(upon))\n",
      "(until,CompactBuffer(until))\n",
      "(differ,CompactBuffer(differ))\n",
      "(big,CompactBuffer(big))\n",
      "(here,CompactBuffer(here))\n",
      "(h,CompactBuffer(h))\n",
      "(only,CompactBuffer(only))\n",
      "(still,CompactBuffer(still, still))\n",
      "(wanting,CompactBuffer(wanting))\n",
      "(first,CompactBuffer(first))\n",
      "(member,CompactBuffer(member))\n",
      "(longest,CompactBuffer(longest))\n",
      "(although,CompactBuffer(although))\n",
      "(without,CompactBuffer(without))\n",
      "(just,CompactBuffer(just))\n",
      "(already,CompactBuffer(already))\n",
      "(man,CompactBuffer(man))\n",
      "(go,CompactBuffer(go))\n",
      "(what,CompactBuffer(what))\n",
      "(asked,CompactBuffer(asked))\n",
      "(some,CompactBuffer(some))\n",
      "(too,CompactBuffer(too))\n",
      "(his,CompactBuffer(his))\n",
      "(got,CompactBuffer(got))\n",
      "(asks,CompactBuffer(asks))\n",
      "(few,CompactBuffer(few))\n",
      "(second,CompactBuffer(second))\n",
      "(x,CompactBuffer(x))\n",
      "(enough,CompactBuffer(enough))\n",
      "(can,CompactBuffer(can))\n",
      "(finds,CompactBuffer(finds))\n",
      "(sees,CompactBuffer(sees))\n",
      "(how,CompactBuffer(how))\n",
      "(works,CompactBuffer(works))\n",
      "(into,CompactBuffer(into))\n",
      "(done,CompactBuffer(done))\n",
      "(furthering,CompactBuffer(furthering))\n",
      "(seem,CompactBuffer(seem))\n",
      "(since,CompactBuffer(since))\n",
      "(there,CompactBuffer(there))\n",
      "(somebody,CompactBuffer(somebody))\n",
      "(something,CompactBuffer(something))\n",
      "(everywhere,CompactBuffer(everywhere))\n",
      "(r,CompactBuffer(r))\n",
      "(want,CompactBuffer(want))\n",
      "(beings,CompactBuffer(beings))\n",
      "(yet,CompactBuffer(yet))\n",
      "(rooms,CompactBuffer(rooms))\n",
      "(thoughts,CompactBuffer(thoughts))\n",
      "(high,CompactBuffer(high, high, high))\n",
      "(smaller,CompactBuffer(smaller))\n",
      "(states,CompactBuffer(states))\n",
      "(came,CompactBuffer(came))\n",
      "(older,CompactBuffer(older))\n",
      "(never,CompactBuffer(never))\n",
      "(one,CompactBuffer(one))\n",
      "(with,CompactBuffer(with))\n",
      "(later,CompactBuffer(later))\n",
      "(best,CompactBuffer(best))\n",
      "(groups,CompactBuffer(groups))\n",
      "(interesting,CompactBuffer(interesting))\n",
      "(keeps,CompactBuffer(keeps))\n",
      "(she,CompactBuffer(she))\n",
      "(lets,CompactBuffer(lets))\n",
      "(numbers,CompactBuffer(numbers))\n",
      "(from,CompactBuffer(from))\n",
      "(interest,CompactBuffer(interest))\n",
      "(nowhere,CompactBuffer(nowhere))\n",
      "(open,CompactBuffer(open))\n",
      "(l,CompactBuffer(l))\n",
      "(well,CompactBuffer(well))\n",
      "(further,CompactBuffer(further))\n",
      "(him,CompactBuffer(him))\n",
      "(among,CompactBuffer(among))\n",
      "(fully,CompactBuffer(fully))\n",
      "(other,CompactBuffer(other))\n",
      "(two,CompactBuffer(two))\n",
      "(becomes,CompactBuffer(becomes))\n",
      "(because,CompactBuffer(because))\n",
      "(says,CompactBuffer(says))\n",
      "(their,CompactBuffer(their))\n",
      "(anything,CompactBuffer(anything))\n",
      "(mostly,CompactBuffer(mostly))\n",
      "(down,CompactBuffer(down, down))\n",
      "(between,CompactBuffer(between))\n",
      "(t,CompactBuffer(t))\n",
      "(last,CompactBuffer(last))\n",
      "(will,CompactBuffer(will))\n",
      "(pointing,CompactBuffer(pointing))\n",
      "(turned,CompactBuffer(turned))\n",
      "(get,CompactBuffer(get))\n",
      "(very,CompactBuffer(very))\n",
      "(f,CompactBuffer(f))\n",
      "(important,CompactBuffer(important))\n",
      "(downing,CompactBuffer(downing))\n",
      "(case,CompactBuffer(case))\n",
      "(almost,CompactBuffer(almost))\n",
      "(faces,CompactBuffer(faces))\n",
      "(so,CompactBuffer(so))\n",
      "(himself,CompactBuffer(himself))\n",
      "(clearly,CompactBuffer(clearly))\n",
      "(young,CompactBuffer(young))\n",
      "(next,CompactBuffer(next))\n",
      "(it,CompactBuffer(it))\n",
      "(facts,CompactBuffer(facts))\n",
      "(than,CompactBuffer(than))\n",
      "(others,CompactBuffer(others))\n",
      "(full,CompactBuffer(full))\n",
      "(nothing,CompactBuffer(nothing))\n",
      "(old,CompactBuffer(old))\n",
      "(having,CompactBuffer(having))\n",
      "(such,CompactBuffer(such))\n",
      "(ending,CompactBuffer(ending))\n",
      "(could,CompactBuffer(could))\n",
      "(through,CompactBuffer(through))\n",
      "(end,CompactBuffer(end))\n",
      "(he,CompactBuffer(he))\n",
      "(place,CompactBuffer(place))\n",
      "(used,CompactBuffer(used))\n",
      "(great,CompactBuffer(great))\n",
      "(along,CompactBuffer(along))\n",
      "(seconds,CompactBuffer(seconds))\n",
      "(felt,CompactBuffer(felt))\n",
      "(less,CompactBuffer(less))\n",
      "(these,CompactBuffer(these))\n",
      "(the,CompactBuffer(the))\n",
      "(seemed,CompactBuffer(seemed))\n",
      "(not,CompactBuffer(not))\n",
      "(began,CompactBuffer(began))\n",
      "(alone,CompactBuffer(alone))\n",
      "(different,CompactBuffer(different))\n",
      "(either,CompactBuffer(either))\n",
      "(part,CompactBuffer(part))\n",
      "(longer,CompactBuffer(longer))\n",
      "(if,CompactBuffer(if))\n",
      "(most,CompactBuffer(most))\n",
      "(given,CompactBuffer(given))\n",
      "(be,CompactBuffer(be))\n",
      "(really,CompactBuffer(really))\n",
      "(all,CompactBuffer(all))\n",
      "(furthers,CompactBuffer(furthers))\n",
      "(though,CompactBuffer(though))\n",
      "(toward,CompactBuffer(toward))\n",
      "(certainly,CompactBuffer(certainly))\n",
      "(generally,CompactBuffer(generally))\n",
      "(q,CompactBuffer(q))\n",
      "(become,CompactBuffer(become))\n",
      "(but,CompactBuffer(but))\n",
      "(anywhere,CompactBuffer(anywhere))\n",
      "(clear,CompactBuffer(clear))\n",
      "(during,CompactBuffer(during))\n",
      "(per,CompactBuffer(per))\n",
      "(itself,CompactBuffer(itself))\n",
      "(about,CompactBuffer(about))\n",
      "(opens,CompactBuffer(opens))\n",
      "(small,CompactBuffer(small))\n",
      "(least,CompactBuffer(least))\n",
      "(let,CompactBuffer(let))\n",
      "(had,CompactBuffer(had))\n",
      "(necessary,CompactBuffer(necessary))\n",
      "(possible,CompactBuffer(possible))\n",
      "(ask,CompactBuffer(ask))\n",
      "(against,CompactBuffer(against))\n",
      "(across,CompactBuffer(across))\n",
      "(mr,CompactBuffer(mr))\n",
      "(show,CompactBuffer(show))\n",
      "(would,CompactBuffer(would))\n",
      "(before,CompactBuffer(before))\n",
      "(on,CompactBuffer(on))\n",
      "(at,CompactBuffer(at))\n",
      "(sure,CompactBuffer(sure))\n",
      "(while,CompactBuffer(while))\n",
      "(face,CompactBuffer(face))\n",
      "(downs,CompactBuffer(downs))\n",
      "(gave,CompactBuffer(gave))\n",
      "(cases,CompactBuffer(cases))\n",
      "(year,CompactBuffer(year))\n",
      "(interests,CompactBuffer(interests))\n",
      "(give,CompactBuffer(give))\n",
      "(oldest,CompactBuffer(oldest))\n",
      "(m,CompactBuffer(m))\n",
      "(everybody,CompactBuffer(everybody))\n",
      "(may,CompactBuffer(may))\n",
      "(use,CompactBuffer(use))\n",
      "(wells,CompactBuffer(wells))\n",
      "(s,CompactBuffer(s))\n",
      "(find,CompactBuffer(find))\n",
      "(or,CompactBuffer(or))\n",
      "(say,CompactBuffer(say))\n",
      "(thinks,CompactBuffer(thinks))\n",
      "(pointed,CompactBuffer(pointed))\n",
      "(wanted,CompactBuffer(wanted))\n",
      "(more,CompactBuffer(more))\n",
      "(see,CompactBuffer(see))\n",
      "(asking,CompactBuffer(asking))\n",
      "(of,CompactBuffer(of))\n",
      "(does,CompactBuffer(does))\n",
      "(ordered,CompactBuffer(ordered))\n",
      "(points,CompactBuffer(points))\n",
      "(must,CompactBuffer(must))\n",
      "(making,CompactBuffer(making))\n",
      "(saw,CompactBuffer(saw))\n",
      "(working,CompactBuffer(working))\n",
      "(seems,CompactBuffer(seems))\n",
      "(gets,CompactBuffer(gets))\n",
      "(back,CompactBuffer(back))\n",
      "(e,CompactBuffer(e))\n",
      "(grouping,CompactBuffer(grouping))\n",
      "(greatest,CompactBuffer(greatest))\n",
      "(i,CompactBuffer(i))\n",
      "(knew,CompactBuffer(knew))\n",
      "(each,CompactBuffer(each))\n",
      "(o,CompactBuffer(o))\n",
      "(evenly,CompactBuffer(evenly))\n",
      "(which,CompactBuffer(which))\n",
      "(once,CompactBuffer(once))\n",
      "(side,CompactBuffer(side))\n",
      "(also,CompactBuffer(also))\n",
      "(backing,CompactBuffer(backing))\n",
      "(somewhere,CompactBuffer(somewhere))\n",
      "(for,CompactBuffer(for))\n",
      "(needed,CompactBuffer(needed))\n",
      "(should,CompactBuffer(should))\n",
      "(did,CompactBuffer(did))\n",
      "(whether,CompactBuffer(whether))\n",
      "(interested,CompactBuffer(interested))\n",
      "(g,CompactBuffer(g))\n",
      "(present,CompactBuffer(present))\n",
      "(much,CompactBuffer(much))\n",
      "(latest,CompactBuffer(latest))\n",
      "(your,CompactBuffer(your))\n",
      "(everyone,CompactBuffer(everyone))\n",
      "(c,CompactBuffer(c))\n",
      "(her,CompactBuffer(her))\n",
      "(problem,CompactBuffer(problem))\n",
      "(up,CompactBuffer(up))\n",
      "(opened,CompactBuffer(opened))\n",
      "(put,CompactBuffer(put))\n",
      "(was,CompactBuffer(was))\n",
      "(non,CompactBuffer(non))\n",
      "(do,CompactBuffer(do))\n",
      "(newer,CompactBuffer(newer))\n",
      "(no,CompactBuffer(no))\n",
      "(room,CompactBuffer(room))\n",
      "(then,CompactBuffer(then))\n",
      "(said,CompactBuffer(said))\n",
      "(off,CompactBuffer(off))\n",
      "(area,CompactBuffer(area))\n",
      "(by,CompactBuffer(by))\n",
      "(far,CompactBuffer(far))\n",
      "(like,CompactBuffer(like))\n",
      "(younger,CompactBuffer(younger))\n",
      "(today,CompactBuffer(today))\n",
      "(noone,CompactBuffer(noone))\n",
      "(both,CompactBuffer(both))\n",
      "(an,CompactBuffer(an))\n",
      "(things,CompactBuffer(things))\n",
      "(perhaps,CompactBuffer(perhaps))\n",
      "(early,CompactBuffer(early))\n",
      "(presenting,CompactBuffer(presenting))\n",
      "(turning,CompactBuffer(turning))\n",
      "(wants,CompactBuffer(wants))\n",
      "(smallest,CompactBuffer(smallest))\n",
      "(parting,CompactBuffer(parting))\n",
      "(w,CompactBuffer(w))\n",
      "(made,CompactBuffer(made))\n",
      "(members,CompactBuffer(members))\n",
      "(number,CompactBuffer(number))\n",
      "(known,CompactBuffer(known))\n",
      "(k,CompactBuffer(k))\n",
      "(might,CompactBuffer(might))\n",
      "(higher,CompactBuffer(higher))\n",
      "(around,CompactBuffer(around))\n",
      "(took,CompactBuffer(took))\n",
      "(whole,CompactBuffer(whole))\n",
      "(in,CompactBuffer(in))\n",
      "(y,CompactBuffer(y))\n",
      "(furthered,CompactBuffer(furthered))\n",
      "(good,CompactBuffer(good))\n",
      "(those,CompactBuffer(those))\n",
      "(take,CompactBuffer(take))\n",
      "(taken,CompactBuffer(taken))\n",
      "(nobody,CompactBuffer(nobody))\n",
      "(turn,CompactBuffer(turn))\n",
      "(way,CompactBuffer(way))\n",
      "(within,CompactBuffer(within))\n",
      "(keep,CompactBuffer(keep))\n",
      "(every,CompactBuffer(every))\n",
      "(you,CompactBuffer(you))\n",
      "(cannot,CompactBuffer(cannot))\n",
      "(another,CompactBuffer(another))\n",
      "(showing,CompactBuffer(showing))\n",
      "(a,CompactBuffer(a))\n",
      "(above,CompactBuffer(above))\n",
      "(many,CompactBuffer(many))\n",
      "(herself,CompactBuffer(herself))\n",
      "(that,CompactBuffer(that))\n",
      "(everything,CompactBuffer(everything))\n",
      "(state,CompactBuffer(state))\n",
      "(u,CompactBuffer(u))\n",
      "(large,CompactBuffer(large))\n",
      "(to,CompactBuffer(to))\n",
      "(know,CompactBuffer(know))\n",
      "(work,CompactBuffer(work))\n",
      "(group,CompactBuffer(group))\n",
      "(where,CompactBuffer(where))\n",
      "(were,CompactBuffer(were))\n",
      "(always,CompactBuffer(always))\n",
      "(downed,CompactBuffer(downed))\n",
      "(and,CompactBuffer(and))\n",
      "(thought,CompactBuffer(thought))\n",
      "(being,CompactBuffer(being))\n",
      "(needs,CompactBuffer(needs))\n",
      "(orders,CompactBuffer(orders))\n",
      "(became,CompactBuffer(became))\n",
      "=====================\n"
     ]
    }
   ],
   "source": [
    "peek(s_wordGroups,stopwords_size)"
   ]
  },
  {
   "cell_type": "code",
   "execution_count": 37,
   "metadata": {},
   "outputs": [
    {
     "name": "stdout",
     "output_type": "stream",
     "text": [
      "RDD type signature: MapPartitionsRDD[36] at mapValues at <console>:39\n",
      "\n",
      "=====================\n",
      "(someone,1)\n",
      "(under,1)\n",
      "(its,1)\n",
      "(greater,1)\n",
      "(opening,1)\n",
      "(have,1)\n",
      "(needing,1)\n",
      "(highest,1)\n",
      "(order,1)\n",
      "(several,1)\n",
      "(behind,1)\n",
      "(we,1)\n",
      "(been,1)\n",
      "(thing,1)\n",
      "(who,1)\n",
      "(grouped,1)\n",
      "(however,1)\n",
      "(over,1)\n",
      "(ever,1)\n",
      "(seeming,1)\n",
      "(any,1)\n",
      "(largely,1)\n",
      "(make,1)\n",
      "(problems,1)\n",
      "(years,1)\n",
      "(kind,1)\n",
      "(knows,1)\n",
      "(out,1)\n",
      "(presented,1)\n",
      "(me,1)\n",
      "(d,1)\n",
      "(parts,1)\n",
      "(are,1)\n",
      "(p,1)\n",
      "(ended,1)\n",
      "(away,1)\n",
      "(presents,1)\n",
      "(when,1)\n",
      "(ends,1)\n",
      "(our,1)\n",
      "(as,1)\n",
      "(whose,1)\n",
      "(going,1)\n",
      "(together,1)\n",
      "(thus,1)\n",
      "(v,1)\n",
      "(better,1)\n",
      "(them,1)\n",
      "(myself,1)\n",
      "(parted,1)\n",
      "(anybody,1)\n",
      "(showed,1)\n",
      "(sides,1)\n",
      "(backed,1)\n",
      "(is,1)\n",
      "(long,1)\n",
      "(newest,1)\n",
      "(same,1)\n",
      "(even,1)\n",
      "(backs,1)\n",
      "(b,1)\n",
      "(rather,1)\n",
      "(certain,1)\n",
      "(shall,1)\n",
      "(come,1)\n",
      "(n,1)\n",
      "(shows,1)\n",
      "(j,1)\n",
      "(they,1)\n",
      "(new,2)\n",
      "(again,1)\n",
      "(likely,1)\n",
      "(goods,1)\n",
      "(gives,1)\n",
      "(my,1)\n",
      "(now,1)\n",
      "(has,1)\n",
      "(four,1)\n",
      "(us,1)\n",
      "(z,1)\n",
      "(men,1)\n",
      "(after,1)\n",
      "(areas,1)\n",
      "(puts,1)\n",
      "(need,1)\n",
      "(turns,1)\n",
      "(uses,1)\n",
      "(places,1)\n",
      "(anyone,1)\n",
      "(ways,1)\n",
      "(point,1)\n",
      "(fact,1)\n",
      "(three,1)\n",
      "(yours,1)\n",
      "(why,1)\n",
      "(mrs,1)\n",
      "(often,1)\n",
      "(quite,1)\n",
      "(worked,1)\n",
      "(went,1)\n",
      "(right,2)\n",
      "(this,1)\n",
      "(differently,1)\n",
      "(ordering,1)\n",
      "(therefore,1)\n",
      "(youngest,1)\n",
      "(general,1)\n",
      "(think,1)\n",
      "(upon,1)\n",
      "(until,1)\n",
      "(differ,1)\n",
      "(big,1)\n",
      "(here,1)\n",
      "(h,1)\n",
      "(only,1)\n",
      "(still,2)\n",
      "(wanting,1)\n",
      "(first,1)\n",
      "(member,1)\n",
      "(longest,1)\n",
      "(although,1)\n",
      "(without,1)\n",
      "(just,1)\n",
      "(already,1)\n",
      "(man,1)\n",
      "(go,1)\n",
      "(what,1)\n",
      "(asked,1)\n",
      "(some,1)\n",
      "(too,1)\n",
      "(his,1)\n",
      "(got,1)\n",
      "(asks,1)\n",
      "(few,1)\n",
      "(second,1)\n",
      "(x,1)\n",
      "(enough,1)\n",
      "(can,1)\n",
      "(finds,1)\n",
      "(sees,1)\n",
      "(how,1)\n",
      "(works,1)\n",
      "(into,1)\n",
      "(done,1)\n",
      "(furthering,1)\n",
      "(seem,1)\n",
      "(since,1)\n",
      "(there,1)\n",
      "(somebody,1)\n",
      "(something,1)\n",
      "(everywhere,1)\n",
      "(r,1)\n",
      "(want,1)\n",
      "(beings,1)\n",
      "(yet,1)\n",
      "(rooms,1)\n",
      "(thoughts,1)\n",
      "(high,3)\n",
      "(smaller,1)\n",
      "(states,1)\n",
      "(came,1)\n",
      "(older,1)\n",
      "(never,1)\n",
      "(one,1)\n",
      "(with,1)\n",
      "(later,1)\n",
      "(best,1)\n",
      "(groups,1)\n",
      "(interesting,1)\n",
      "(keeps,1)\n",
      "(she,1)\n",
      "(lets,1)\n",
      "(numbers,1)\n",
      "(from,1)\n",
      "(interest,1)\n",
      "(nowhere,1)\n",
      "(open,1)\n",
      "(l,1)\n",
      "(well,1)\n",
      "(further,1)\n",
      "(him,1)\n",
      "(among,1)\n",
      "(fully,1)\n",
      "(other,1)\n",
      "(two,1)\n",
      "(becomes,1)\n",
      "(because,1)\n",
      "(says,1)\n",
      "(their,1)\n",
      "(anything,1)\n",
      "(mostly,1)\n",
      "(down,2)\n",
      "(between,1)\n",
      "(t,1)\n",
      "(last,1)\n",
      "(will,1)\n",
      "(pointing,1)\n",
      "(turned,1)\n",
      "(get,1)\n",
      "(very,1)\n",
      "(f,1)\n",
      "(important,1)\n",
      "(downing,1)\n",
      "(case,1)\n",
      "(almost,1)\n",
      "(faces,1)\n",
      "(so,1)\n",
      "(himself,1)\n",
      "(clearly,1)\n",
      "(young,1)\n",
      "(next,1)\n",
      "(it,1)\n",
      "(facts,1)\n",
      "(than,1)\n",
      "(others,1)\n",
      "(full,1)\n",
      "(nothing,1)\n",
      "(old,1)\n",
      "(having,1)\n",
      "(such,1)\n",
      "(ending,1)\n",
      "(could,1)\n",
      "(through,1)\n",
      "(end,1)\n",
      "(he,1)\n",
      "(place,1)\n",
      "(used,1)\n",
      "(great,1)\n",
      "(along,1)\n",
      "(seconds,1)\n",
      "(felt,1)\n",
      "(less,1)\n",
      "(these,1)\n",
      "(the,1)\n",
      "(seemed,1)\n",
      "(not,1)\n",
      "(began,1)\n",
      "(alone,1)\n",
      "(different,1)\n",
      "(either,1)\n",
      "(part,1)\n",
      "(longer,1)\n",
      "(if,1)\n",
      "(most,1)\n",
      "(given,1)\n",
      "(be,1)\n",
      "(really,1)\n",
      "(all,1)\n",
      "(furthers,1)\n",
      "(though,1)\n",
      "(toward,1)\n",
      "(certainly,1)\n",
      "(generally,1)\n",
      "(q,1)\n",
      "(become,1)\n",
      "(but,1)\n",
      "(anywhere,1)\n",
      "(clear,1)\n",
      "(during,1)\n",
      "(per,1)\n",
      "(itself,1)\n",
      "(about,1)\n",
      "(opens,1)\n",
      "(small,1)\n",
      "(least,1)\n",
      "(let,1)\n",
      "(had,1)\n",
      "(necessary,1)\n",
      "(possible,1)\n",
      "(ask,1)\n",
      "(against,1)\n",
      "(across,1)\n",
      "(mr,1)\n",
      "(show,1)\n",
      "(would,1)\n",
      "(before,1)\n",
      "(on,1)\n",
      "(at,1)\n",
      "(sure,1)\n",
      "(while,1)\n",
      "(face,1)\n",
      "(downs,1)\n",
      "(gave,1)\n",
      "(cases,1)\n",
      "(year,1)\n",
      "(interests,1)\n",
      "(give,1)\n",
      "(oldest,1)\n",
      "(m,1)\n",
      "(everybody,1)\n",
      "(may,1)\n",
      "(use,1)\n",
      "(wells,1)\n",
      "(s,1)\n",
      "(find,1)\n",
      "(or,1)\n",
      "(say,1)\n",
      "(thinks,1)\n",
      "(pointed,1)\n",
      "(wanted,1)\n",
      "(more,1)\n",
      "(see,1)\n",
      "(asking,1)\n",
      "(of,1)\n",
      "(does,1)\n",
      "(ordered,1)\n",
      "(points,1)\n",
      "(must,1)\n",
      "(making,1)\n",
      "(saw,1)\n",
      "(working,1)\n",
      "(seems,1)\n",
      "(gets,1)\n",
      "(back,1)\n",
      "(e,1)\n",
      "(grouping,1)\n",
      "(greatest,1)\n",
      "(i,1)\n",
      "(knew,1)\n",
      "(each,1)\n",
      "(o,1)\n",
      "(evenly,1)\n",
      "(which,1)\n",
      "(once,1)\n",
      "(side,1)\n",
      "(also,1)\n",
      "(backing,1)\n",
      "(somewhere,1)\n",
      "(for,1)\n",
      "(needed,1)\n",
      "(should,1)\n",
      "(did,1)\n",
      "(whether,1)\n",
      "(interested,1)\n",
      "(g,1)\n",
      "(present,1)\n",
      "(much,1)\n",
      "(latest,1)\n",
      "(your,1)\n",
      "(everyone,1)\n",
      "(c,1)\n",
      "(her,1)\n",
      "(problem,1)\n",
      "(up,1)\n",
      "(opened,1)\n",
      "(put,1)\n",
      "(was,1)\n",
      "(non,1)\n",
      "(do,1)\n",
      "(newer,1)\n",
      "(no,1)\n",
      "(room,1)\n",
      "(then,1)\n",
      "(said,1)\n",
      "(off,1)\n",
      "(area,1)\n",
      "(by,1)\n",
      "(far,1)\n",
      "(like,1)\n",
      "(younger,1)\n",
      "(today,1)\n",
      "(noone,1)\n",
      "(both,1)\n",
      "(an,1)\n",
      "(things,1)\n",
      "(perhaps,1)\n",
      "(early,1)\n",
      "(presenting,1)\n",
      "(turning,1)\n",
      "(wants,1)\n",
      "(smallest,1)\n",
      "(parting,1)\n",
      "(w,1)\n",
      "(made,1)\n",
      "(members,1)\n",
      "(number,1)\n",
      "(known,1)\n",
      "(k,1)\n",
      "(might,1)\n",
      "(higher,1)\n",
      "(around,1)\n",
      "(took,1)\n",
      "(whole,1)\n",
      "(in,1)\n",
      "(y,1)\n",
      "(furthered,1)\n",
      "(good,1)\n",
      "(those,1)\n",
      "(take,1)\n",
      "(taken,1)\n",
      "(nobody,1)\n",
      "(turn,1)\n",
      "(way,1)\n",
      "(within,1)\n",
      "(keep,1)\n",
      "(every,1)\n",
      "(you,1)\n",
      "(cannot,1)\n",
      "(another,1)\n",
      "(showing,1)\n",
      "(a,1)\n",
      "(above,1)\n",
      "(many,1)\n",
      "(herself,1)\n",
      "(that,1)\n",
      "(everything,1)\n",
      "(state,1)\n",
      "(u,1)\n",
      "(large,1)\n",
      "(to,1)\n",
      "(know,1)\n",
      "(work,1)\n",
      "(group,1)\n",
      "(where,1)\n",
      "(were,1)\n",
      "(always,1)\n",
      "(downed,1)\n",
      "(and,1)\n",
      "(thought,1)\n",
      "(being,1)\n",
      "(needs,1)\n",
      "(orders,1)\n",
      "(became,1)\n",
      "=====================\n"
     ]
    },
    {
     "data": {
      "text/plain": [
       "wordCounts = MapPartitionsRDD[36] at mapValues at <console>:39\n"
      ]
     },
     "metadata": {},
     "output_type": "display_data"
    },
    {
     "data": {
      "text/plain": [
       "MapPartitionsRDD[36] at mapValues at <console>:39"
      ]
     },
     "execution_count": 37,
     "metadata": {},
     "output_type": "execute_result"
    }
   ],
   "source": [
    "val wordCounts = s_wordGroups.mapValues(group => group.size)\n",
    "peek(wordCounts,stopwords_size)"
   ]
  },
  {
   "cell_type": "code",
   "execution_count": 47,
   "metadata": {},
   "outputs": [
    {
     "data": {
      "text/plain": [
       "tokenize: (line: String)Array[String]\n"
      ]
     },
     "metadata": {},
     "output_type": "display_data"
    }
   ],
   "source": [
    "def tokenize(line:String) : Array[String] = new WrappedString(line).toLowerCase().split(\"\\\\W+\")"
   ]
  },
  {
   "cell_type": "code",
   "execution_count": 6,
   "metadata": {},
   "outputs": [
    {
     "data": {
      "text/plain": [
       "bus_text_map = MapPartitionsRDD[2] at map at <console>:37\n"
      ]
     },
     "metadata": {},
     "output_type": "display_data"
    },
    {
     "data": {
      "text/plain": [
       "MapPartitionsRDD[2] at map at <console>:37"
      ]
     },
     "execution_count": 6,
     "metadata": {},
     "output_type": "execute_result"
    }
   ],
   "source": [
    "val bus_text_map = bus_text.map(line => line.toLowerCase)"
   ]
  },
  {
   "cell_type": "code",
   "execution_count": 8,
   "metadata": {},
   "outputs": [
    {
     "data": {
      "text/plain": [
       "new_tokenizedtext = MapPartitionsRDD[4] at flatMap at <console>:37\n"
      ]
     },
     "metadata": {},
     "output_type": "display_data"
    },
    {
     "data": {
      "text/plain": [
       "MapPartitionsRDD[4] at flatMap at <console>:37"
      ]
     },
     "execution_count": 8,
     "metadata": {},
     "output_type": "execute_result"
    }
   ],
   "source": [
    "val new_tokenizedtext = bus_text.flatMap(line => line.split(\"\"\"[^\\p{IsAlphabetic}]+\"\"\"))"
   ]
  },
  {
   "cell_type": "code",
   "execution_count": 13,
   "metadata": {},
   "outputs": [
    {
     "name": "stdout",
     "output_type": "stream",
     "text": [
      "RDD type signature: MapPartitionsRDD[4] at flatMap at <console>:37\n",
      "\n",
      "=====================\n",
      "UK\n",
      "economy\n",
      "facing\n",
      "major\n",
      "risks\n",
      "\n",
      "The\n",
      "UK\n",
      "manufacturing\n",
      "sector\n",
      "will\n",
      "continue\n",
      "to\n",
      "face\n",
      "serious\n",
      "challenges\n",
      "over\n",
      "the\n",
      "next\n",
      "two\n",
      "=====================\n"
     ]
    }
   ],
   "source": [
    "peek(new_tokenizedtext)"
   ]
  },
  {
   "cell_type": "code",
   "execution_count": 14,
   "metadata": {},
   "outputs": [
    {
     "name": "stdout",
     "output_type": "stream",
     "text": [
      "RDD type signature: ShuffledRDD[6] at groupBy at <console>:41\n",
      "\n",
      "=====================\n",
      "(\"emi music's sales, particularly re-orders, in january have also been lower than anticipated and this is expected to continue through february and march,\" the company added. \"therefore, for the full year, at constant currency, emi music's sales are now expected to be 8% to 9% lower than the prior year.\" the company said it expected profits to be about £138m ($259.8m). alain levy, chairman and chief executive of emi music, described the performance as \"disappointing\", but added that he remained optimistic over future trends in the industry. \"the physical music market is showing signs of stabilisation in many parts of the world and digital music, in all its forms, continues to develop at a rapid pace,\" he said.,CompactBuffer(\"emi music's sales, particularly re-orders, in january have also been lower than anticipated and this is expected to continue through february and march,\" the company added. \"therefore, for the full year, at constant currency, emi music's sales are now expected to be 8% to 9% lower than the prior year.\" the company said it expected profits to be about £138m ($259.8m). alain levy, chairman and chief executive of emi music, described the performance as \"disappointing\", but added that he remained optimistic over future trends in the industry. \"the physical music market is showing signs of stabilisation in many parts of the world and digital music, in all its forms, continues to develop at a rapid pace,\" he said.))\n",
      "(,CompactBuffer(, , , , , , , , , , , , , , , , , , , , , , , , , , , , , , , , , , , , , , , , , , , , , , , , , , , , , , , , , , , , , , , , , , , , , , , , , , , , , , , , , , , , , , , , , , , , , , , , , , , , , , , , , , , , , , , , , , , , , , , , , , , , , , , , , , , , , , , , , , , , , , , , , , , , , , , , , , , , , , , , , , , , , , , , , , , , , , , , , , , , , , , , , , , , , , , , , , , , , , , , , , , , , , , , , , , , , , , , , , , , , , , , , , , , , , , , , , , , , , , , , , , , , , , , , , , , , , , , , , , , , , , , , , , , , , , , , , , , , , , , , , , , , , , , , , , , , , , , , , , , , , , , , , , , , , , , , , , , , , , , , , , , , , , , , , , , , , , , , , , , , , , , , , , , , , , , , , , , , , , , , , , , , , , , , , , , , , , , , , , , , , , , , , , , , , , , , , , , , , , , , , , , , , , , , , , , , , , , , , , , , , , , , , , , , , , , , , , , , , , , , , , , , , , , , , , , , , , , , , , , , , , , , , , , , , , , , , , , , , , , , , , , , , , , , , , , , , , , , , , , , , , , , , , , , , , , , , , , , , , , , , , , , , , , , , , , , , , , , , , , , , , , , , , , , , , , , , , , , , , , , , , , , , , , , , , , , , , , , , , , , , , , , , , , , , , , , , , , , , , , , , , , , , , , , , , , , , , , , , , , , , , , , , , , , , , , , , , , , , , , , , , , , , , , , , , , , , , , , , , , , , , , , , , , , , , , , , , , , , , , , , , , , , , , , , , , , , , , , , , , , , , , , , , , , , , , , , , , , , , , , , , , , , , , , , , , , , , , , , , , , , , , , , , , , , , , , , , , , , , , , , , , , , , , , , , , , , , , , , , , , , , , , , , , , , , , , , , , , , , , , , , , , , , , , , , , , , , , , , , , , , , , , , , , , , , , , , , , , , , , , , , , , , , , , , , , , , , , , , , , , , , , , , , , , , , , , , , , , , , , , , , , , , , , , , , , , , , , , , , , , , , , , , , , , , , , , , , , , , , , , , , , , , , , , , , , , , , , , , , , , , , , , , , , , , , , , , , , , , , , , , , , , , , , , , , , , , , , , , , , , , , , , , , , , , , , , , , , , , , , , , , , , , , , , , , , , , , , , , , , , , , , , , , , , , , , , , , , , , , , , , , , , , , , , , , , , , , , , , , , , , , , , , , , , , , , , , , , , , , , , , , , , , , , , , , , , , , , , , , , , , , , , , , , , , , , , , , , , , , , , , , , , , , , , , , , , , , , , , , , , , , , , , , , , , , , , , , , , , , , , , , , , , , , , , , , , , , , , , , , , , , , , , , , , , , , , , , , , , , , , , , , , , , , , , , , , , , , , , , , , , , , , , , , , , , , , , , , , , , , , , , , , , , , , , , , , , , , , , , , , , , , , , , , , , , , , , , , , , , , , , , , , , , , , , , , , , , , , , , , , , , , , , , , , , , , , , , , , , , , , , , , , , , , , , , , , , , , , , , , , , , , , , , , , , , , , , , , , , , , , , , , , , , , , , , , , , , , , , , , , , , , , , , , , , , , , , , , , , , , , , , , , , , , , , , , , , , , , , , , , , , , , , , , , , , , , , , , , , , , , , , , , , , , , , , , , , , , , , , , , , , , , , , , , , , , , , , , , , , , , , , , , , , , , , , , , , , , , , , , , , , , , , , , , , , , , , , , , , , , , , , , , , , , , , , , , , , , , , , , , , , , , , , , , , , , , , , , , , , , , , , , , , , , , , , , , , , , , , , , , , , , , , , , , , , , , , , , , , , , , , , , , , , , , , , , , , , , , , , , , , , , , , , , , , , , , , , , , , , , , , , , , , , , , , , , , , , , , , , , , , , , , , , , , , , , , , , , , , , , , , , , , , , , , , , , , , , , , , , , , , , , , , , , , , , , , , , , , , , , , , , , , , , , , , , , , , , , , , , , , , , , , , , , , , , , , , , , , , , , , , , , , , , , , , , , , , , , , , , , , , , , , , , , , , , , , , , , , , , , , , , , , , , , , , , , , , , , , , , , , , , , , , , , , , , , , , , , , , , , , , , , , , , , , , , , , , , , , , , , , , , , , , , , , , , , , , , , , , , , , , , , , , , , , , , , , , , , , , , , , , , , , , , , , , , , , , , , , , , , , , , , , , , , , , , , , , , , , , , , , , , , , , , , , , , , , , , , , , , , , , , , , , , , , , , , , , , , , , , , , , , , , , , , , , , , , , , , , , , , , , , , , , , , , , , , , , , , , , , , , , , , , , , , , , , , , , , , , , , , , , , , , , , , , , , , , , , , , , , , , , , , , , , , , , , , , , , , , , , , , , , , , , , , , , , , , , , , , , , , , , , , , , , , , , , , , , , , , , , , , , , , , , , , , , , , , , , , , , , , , , , , , , , , , , , , , , , , , , , , , , , , , , , , , , , ))\n",
      "(ba to suspend two saudi services,CompactBuffer(ba to suspend two saudi services))\n",
      "(new york attorney general elliot spitzer said senior vice president robert stearns had pleaded guilty to scheming to defraud. the offence carries a sentence of 16 months to four years in state prison. mr spitzer's office added mr stearns had also agreed to testify in future cases during the industry inquiry. \"we are saddened by the development,\" marsh said in a statement. the company added it would continue to co-operate in the case, adding it was \"committed to resolving the company's legal issues and to serving our clients with the highest standards of transparency and ethics\".,CompactBuffer(new york attorney general elliot spitzer said senior vice president robert stearns had pleaded guilty to scheming to defraud. the offence carries a sentence of 16 months to four years in state prison. mr spitzer's office added mr stearns had also agreed to testify in future cases during the industry inquiry. \"we are saddened by the development,\" marsh said in a statement. the company added it would continue to co-operate in the case, adding it was \"committed to resolving the company's legal issues and to serving our clients with the highest standards of transparency and ethics\".))\n",
      "(fbi agent colludes with analyst,CompactBuffer(fbi agent colludes with analyst))\n",
      "(the value of the uk's housing stock reached the £3.3 trillion mark in 2004 - triple the value 10 years earlier, a report indicates.,CompactBuffer(the value of the uk's housing stock reached the £3.3 trillion mark in 2004 - triple the value 10 years earlier, a report indicates.))\n",
      "(s korean credit card firm rescued,CompactBuffer(s korean credit card firm rescued))\n",
      "(bank opts to leave rates on hold,CompactBuffer(bank opts to leave rates on hold))\n",
      "(sports fans who drive to matches may also find themselves the target of the commission's road rage. it wants them to use public transport, and is considering jacking up the prices of car parks near sports grounds. mr wang said his review team may scrap the relatively cheap hourly fee near such places and impose a higher flat rate during matches. indoor parking may be costly, but it is not always secure. mr wang's team are also going to look into complaints from residents about poor service received in exchange for compulsory monthly fees of up to 400 yuan ($48; £26). the beijing authorities decided two years ago that visiting foreign dignitaries' motorcades should not longer get motorcycle outriders as they blocked the traffic. unclogging beijing's increasingly impassable streets is a major concern for the chinese authorities, who are building dozens of new roads to create a showcase modern city ahead of the 2008 olympic games.,CompactBuffer(sports fans who drive to matches may also find themselves the target of the commission's road rage. it wants them to use public transport, and is considering jacking up the prices of car parks near sports grounds. mr wang said his review team may scrap the relatively cheap hourly fee near such places and impose a higher flat rate during matches. indoor parking may be costly, but it is not always secure. mr wang's team are also going to look into complaints from residents about poor service received in exchange for compulsory monthly fees of up to 400 yuan ($48; £26). the beijing authorities decided two years ago that visiting foreign dignitaries' motorcades should not longer get motorcycle outriders as they blocked the traffic. unclogging beijing's increasingly impassable streets is a major concern for the chinese authorities, who are building dozens of new roads to create a showcase modern city ahead of the 2008 olympic games.))\n",
      "(the companies will have three months to respond to the commission's allegations and the process \"may go on for some time yet\", the spokesman said. the commission could charge the companies up to 10% of their annual turnover, though in practice that sort of figure is rarely demanded. the commission's latest move comes just a few months after national telecoms regulators across europe launched a joint investigation which could lead to people being charged less for using their mobile phone when travelling abroad. the investigation involves regulators assessing whether there is effective competition in the roaming market.,CompactBuffer(the companies will have three months to respond to the commission's allegations and the process \"may go on for some time yet\", the spokesman said. the commission could charge the companies up to 10% of their annual turnover, though in practice that sort of figure is rarely demanded. the commission's latest move comes just a few months after national telecoms regulators across europe launched a joint investigation which could lead to people being charged less for using their mobile phone when travelling abroad. the investigation involves regulators assessing whether there is effective competition in the roaming market.))\n",
      "(the owners of rossignol, the boix-vives family, are said to be considering an offer from quiksilver. analysts believe other sporting goods companies may now take a closer look at rossignol, prompting an auction and pushing the sale price higher. nike and k2 have previously been mentioned as possible suitors.,CompactBuffer(the owners of rossignol, the boix-vives family, are said to be considering an offer from quiksilver. analysts believe other sporting goods companies may now take a closer look at rossignol, prompting an auction and pushing the sale price higher. nike and k2 have previously been mentioned as possible suitors.))\n",
      "(she said reports of a slump in pre-christmas sales were related to the growing popularity of internet sales. \"i do think this has had a lot to do with reports of lower sales figures,\" she said. \"internet shopping has gone up enormously and not all stores have websites.\",CompactBuffer(she said reports of a slump in pre-christmas sales were related to the growing popularity of internet sales. \"i do think this has had a lot to do with reports of lower sales figures,\" she said. \"internet shopping has gone up enormously and not all stores have websites.\"))\n",
      "(figures released by the government's cabinet office showed that gdp, on an annualised basis, fell 0.5% in the last three months of 2004. however, politicians remain upbeat about prospects for an economic boost later in the year. \"the economy has some soft patches but if you look at the bigger picture, it is in a recovery stage,\" said economic and fiscal policy minister heizo takenaka. gross domestic product measures the overall value of goods and services produced in a country. \"the economy must be assessed comprehensively and we cannot look at gdp alone,\" mr takenaka stressed.,CompactBuffer(figures released by the government's cabinet office showed that gdp, on an annualised basis, fell 0.5% in the last three months of 2004. however, politicians remain upbeat about prospects for an economic boost later in the year. \"the economy has some soft patches but if you look at the bigger picture, it is in a recovery stage,\" said economic and fiscal policy minister heizo takenaka. gross domestic product measures the overall value of goods and services produced in a country. \"the economy must be assessed comprehensively and we cannot look at gdp alone,\" mr takenaka stressed.))\n",
      "(the bank of america has revealed it has lost computer tapes containing account details of more than one million customers who are us federal employees.,CompactBuffer(the bank of america has revealed it has lost computer tapes containing account details of more than one million customers who are us federal employees.))\n",
      "(the us federal reserve said output from factories, mines and utilities rose 0.3% - in line with forecasts - from a revised 0.6% increase in october. analysts added that if the carmaking sector - which saw production fall 0.5% - had been excluded the data would have been more impressive. the latest increase means industrial output has grown 4.2% in the past year. many analysts were upbeat about the prospects for the us economy, with the increase in production coming on the heels of news of a recovery in retail sales. \"this is very consistent with an economy growing at 3.5 to 4.0%. it is congruent with job growth and consumer optimism,\" comerica chief economist david littman said of the figures.,CompactBuffer(the us federal reserve said output from factories, mines and utilities rose 0.3% - in line with forecasts - from a revised 0.6% increase in october. analysts added that if the carmaking sector - which saw production fall 0.5% - had been excluded the data would have been more impressive. the latest increase means industrial output has grown 4.2% in the past year. many analysts were upbeat about the prospects for the us economy, with the increase in production coming on the heels of news of a recovery in retail sales. \"this is very consistent with an economy growing at 3.5 to 4.0%. it is congruent with job growth and consumer optimism,\" comerica chief economist david littman said of the figures.))\n",
      "(us manufacturing expands,CompactBuffer(us manufacturing expands))\n",
      "(boeing's corporate ethics have come under scrutiny on several occasions in recent years. boeing was sued by lockheed martin after its rival accused it of industrial espionage during a 1998 contract competition. boeing apologised publicly for the affair - although it claimed it did not gain any unfair advantage - and pledged to improve its procedures. the pentagon subsequently revoked $1bn worth of contracts assigned to boeing and prohibited the seattle-based company from future rocket work.,CompactBuffer(boeing's corporate ethics have come under scrutiny on several occasions in recent years. boeing was sued by lockheed martin after its rival accused it of industrial espionage during a 1998 contract competition. boeing apologised publicly for the affair - although it claimed it did not gain any unfair advantage - and pledged to improve its procedures. the pentagon subsequently revoked $1bn worth of contracts assigned to boeing and prohibited the seattle-based company from future rocket work.))\n",
      "(the move is in response to a british medical journal article that claimed \"missing\" lilly documents linked prozac to suicide and violent behaviour. in the averts, entitled an open letter from chief executive sidney taurel, the company says the article continues to \"needlessly spread fear among patients who take prozac\". \"it was simply wrong to suggest that information on prozac was missing, or that important research data on the benefits and possible side effects of the drug were not available to doctors and regulators,\" the letter added. eli lilly's chief medical officer alan breier said that the article was \"false and misleading\" as the documents it referred to were actually created by officials at the us food and drug administration (fda) and presented to an fda meeting in 1991. later, fda medical advisors agreed the claims were based on faulty data and there was no increased risk of suicide.,CompactBuffer(the move is in response to a british medical journal article that claimed \"missing\" lilly documents linked prozac to suicide and violent behaviour. in the averts, entitled an open letter from chief executive sidney taurel, the company says the article continues to \"needlessly spread fear among patients who take prozac\". \"it was simply wrong to suggest that information on prozac was missing, or that important research data on the benefits and possible side effects of the drug were not available to doctors and regulators,\" the letter added. eli lilly's chief medical officer alan breier said that the article was \"false and misleading\" as the documents it referred to were actually created by officials at the us food and drug administration (fda) and presented to an fda meeting in 1991. later, fda medical advisors agreed the claims were based on faulty data and there was no increased risk of suicide.))\n",
      "(seasonally adjusted sales rose 1.2% in the month, compared to 0.1% a month earlier, boosted by a surge in shopping just before and after christmas. sales climbed 8% for the year, the best performance since an 8.5% rise in 1999, the commerce department added. the gains were led by a 4.3% jump in auto sales as dealers used enhanced offers to get cars out of showrooms. dealers were forced to cut prices in december to maintain sales growth in a tough quarter when the usual end-of-year holiday sales boom was slow to get started.,CompactBuffer(seasonally adjusted sales rose 1.2% in the month, compared to 0.1% a month earlier, boosted by a surge in shopping just before and after christmas. sales climbed 8% for the year, the best performance since an 8.5% rise in 1999, the commerce department added. the gains were led by a 4.3% jump in auto sales as dealers used enhanced offers to get cars out of showrooms. dealers were forced to cut prices in december to maintain sales growth in a tough quarter when the usual end-of-year holiday sales boom was slow to get started.))\n",
      "(egypt and israel seal trade deal,CompactBuffer(egypt and israel seal trade deal))\n",
      "=====================\n"
     ]
    },
    {
     "data": {
      "text/plain": [
       "bustext_wordGroups = ShuffledRDD[6] at groupBy at <console>:41\n"
      ]
     },
     "metadata": {},
     "output_type": "display_data"
    },
    {
     "data": {
      "text/plain": [
       "ShuffledRDD[6] at groupBy at <console>:41"
      ]
     },
     "execution_count": 14,
     "metadata": {},
     "output_type": "execute_result"
    }
   ],
   "source": [
    "val bustext_wordGroups = bus_text_map .groupBy(word => word)\n",
    "peek(bustext_wordGroups)"
   ]
  },
  {
   "cell_type": "code",
   "execution_count": 15,
   "metadata": {},
   "outputs": [
    {
     "name": "stdout",
     "output_type": "stream",
     "text": [
      "RDD type signature: MapPartitionsRDD[7] at map at <console>:41\n",
      "\n",
      "=====================\n",
      "(\"emi music's sales, particularly re-orders, in january have also been lower than anticipated and this is expected to continue through february and march,\" the company added. \"therefore, for the full year, at constant currency, emi music's sales are now expected to be 8% to 9% lower than the prior year.\" the company said it expected profits to be about £138m ($259.8m). alain levy, chairman and chief executive of emi music, described the performance as \"disappointing\", but added that he remained optimistic over future trends in the industry. \"the physical music market is showing signs of stabilisation in many parts of the world and digital music, in all its forms, continues to develop at a rapid pace,\" he said.,1)\n",
      "(,2172)\n",
      "(ba to suspend two saudi services,1)\n",
      "(new york attorney general elliot spitzer said senior vice president robert stearns had pleaded guilty to scheming to defraud. the offence carries a sentence of 16 months to four years in state prison. mr spitzer's office added mr stearns had also agreed to testify in future cases during the industry inquiry. \"we are saddened by the development,\" marsh said in a statement. the company added it would continue to co-operate in the case, adding it was \"committed to resolving the company's legal issues and to serving our clients with the highest standards of transparency and ethics\".,1)\n",
      "(fbi agent colludes with analyst,1)\n",
      "(the value of the uk's housing stock reached the £3.3 trillion mark in 2004 - triple the value 10 years earlier, a report indicates.,1)\n",
      "(s korean credit card firm rescued,1)\n",
      "(bank opts to leave rates on hold,1)\n",
      "(sports fans who drive to matches may also find themselves the target of the commission's road rage. it wants them to use public transport, and is considering jacking up the prices of car parks near sports grounds. mr wang said his review team may scrap the relatively cheap hourly fee near such places and impose a higher flat rate during matches. indoor parking may be costly, but it is not always secure. mr wang's team are also going to look into complaints from residents about poor service received in exchange for compulsory monthly fees of up to 400 yuan ($48; £26). the beijing authorities decided two years ago that visiting foreign dignitaries' motorcades should not longer get motorcycle outriders as they blocked the traffic. unclogging beijing's increasingly impassable streets is a major concern for the chinese authorities, who are building dozens of new roads to create a showcase modern city ahead of the 2008 olympic games.,1)\n",
      "(the companies will have three months to respond to the commission's allegations and the process \"may go on for some time yet\", the spokesman said. the commission could charge the companies up to 10% of their annual turnover, though in practice that sort of figure is rarely demanded. the commission's latest move comes just a few months after national telecoms regulators across europe launched a joint investigation which could lead to people being charged less for using their mobile phone when travelling abroad. the investigation involves regulators assessing whether there is effective competition in the roaming market.,1)\n",
      "(the owners of rossignol, the boix-vives family, are said to be considering an offer from quiksilver. analysts believe other sporting goods companies may now take a closer look at rossignol, prompting an auction and pushing the sale price higher. nike and k2 have previously been mentioned as possible suitors.,1)\n",
      "(she said reports of a slump in pre-christmas sales were related to the growing popularity of internet sales. \"i do think this has had a lot to do with reports of lower sales figures,\" she said. \"internet shopping has gone up enormously and not all stores have websites.\",1)\n",
      "(figures released by the government's cabinet office showed that gdp, on an annualised basis, fell 0.5% in the last three months of 2004. however, politicians remain upbeat about prospects for an economic boost later in the year. \"the economy has some soft patches but if you look at the bigger picture, it is in a recovery stage,\" said economic and fiscal policy minister heizo takenaka. gross domestic product measures the overall value of goods and services produced in a country. \"the economy must be assessed comprehensively and we cannot look at gdp alone,\" mr takenaka stressed.,1)\n",
      "(the bank of america has revealed it has lost computer tapes containing account details of more than one million customers who are us federal employees.,1)\n",
      "(the us federal reserve said output from factories, mines and utilities rose 0.3% - in line with forecasts - from a revised 0.6% increase in october. analysts added that if the carmaking sector - which saw production fall 0.5% - had been excluded the data would have been more impressive. the latest increase means industrial output has grown 4.2% in the past year. many analysts were upbeat about the prospects for the us economy, with the increase in production coming on the heels of news of a recovery in retail sales. \"this is very consistent with an economy growing at 3.5 to 4.0%. it is congruent with job growth and consumer optimism,\" comerica chief economist david littman said of the figures.,1)\n",
      "(us manufacturing expands,1)\n",
      "(boeing's corporate ethics have come under scrutiny on several occasions in recent years. boeing was sued by lockheed martin after its rival accused it of industrial espionage during a 1998 contract competition. boeing apologised publicly for the affair - although it claimed it did not gain any unfair advantage - and pledged to improve its procedures. the pentagon subsequently revoked $1bn worth of contracts assigned to boeing and prohibited the seattle-based company from future rocket work.,1)\n",
      "(the move is in response to a british medical journal article that claimed \"missing\" lilly documents linked prozac to suicide and violent behaviour. in the averts, entitled an open letter from chief executive sidney taurel, the company says the article continues to \"needlessly spread fear among patients who take prozac\". \"it was simply wrong to suggest that information on prozac was missing, or that important research data on the benefits and possible side effects of the drug were not available to doctors and regulators,\" the letter added. eli lilly's chief medical officer alan breier said that the article was \"false and misleading\" as the documents it referred to were actually created by officials at the us food and drug administration (fda) and presented to an fda meeting in 1991. later, fda medical advisors agreed the claims were based on faulty data and there was no increased risk of suicide.,1)\n",
      "(seasonally adjusted sales rose 1.2% in the month, compared to 0.1% a month earlier, boosted by a surge in shopping just before and after christmas. sales climbed 8% for the year, the best performance since an 8.5% rise in 1999, the commerce department added. the gains were led by a 4.3% jump in auto sales as dealers used enhanced offers to get cars out of showrooms. dealers were forced to cut prices in december to maintain sales growth in a tough quarter when the usual end-of-year holiday sales boom was slow to get started.,1)\n",
      "(egypt and israel seal trade deal,1)\n",
      "=====================\n"
     ]
    },
    {
     "data": {
      "text/plain": [
       "wordCounts1 = MapPartitionsRDD[7] at map at <console>:41\n"
      ]
     },
     "metadata": {},
     "output_type": "display_data"
    },
    {
     "data": {
      "text/plain": [
       "MapPartitionsRDD[7] at map at <console>:41"
      ]
     },
     "execution_count": 15,
     "metadata": {},
     "output_type": "execute_result"
    }
   ],
   "source": [
    "val wordCounts1 = bustext_wordGroups.map( word_group => (word_group._1, word_group._2.size))\n",
    "peek(wordCounts1)"
   ]
  },
  {
   "cell_type": "code",
   "execution_count": 45,
   "metadata": {},
   "outputs": [
    {
     "data": {
      "text/plain": [
       "lastException = null\n"
      ]
     },
     "metadata": {},
     "output_type": "display_data"
    },
    {
     "data": {
      "text/plain": [
       "Name: org.apache.spark.SparkException\n",
       "Message: Task not serializable\n",
       "StackTrace:   at org.apache.spark.util.ClosureCleaner$.ensureSerializable(ClosureCleaner.scala:403)\n",
       "  at org.apache.spark.util.ClosureCleaner$.org$apache$spark$util$ClosureCleaner$$clean(ClosureCleaner.scala:393)\n",
       "  at org.apache.spark.util.ClosureCleaner$.clean(ClosureCleaner.scala:162)\n",
       "  at org.apache.spark.SparkContext.clean(SparkContext.scala:2326)\n",
       "  at org.apache.spark.rdd.RDD$$anonfun$map$1.apply(RDD.scala:371)\n",
       "  at org.apache.spark.rdd.RDD$$anonfun$map$1.apply(RDD.scala:370)\n",
       "  at org.apache.spark.rdd.RDDOperationScope$.withScope(RDDOperationScope.scala:151)\n",
       "  at org.apache.spark.rdd.RDDOperationScope$.withScope(RDDOperationScope.scala:112)\n",
       "  at org.apache.spark.rdd.RDD.withScope(RDD.scala:363)\n",
       "  at org.apache.spark.rdd.RDD.map(RDD.scala:370)\n",
       "  ... 46 elided\n",
       "Caused by: java.io.NotSerializableException: org.apache.spark.SparkContext\n",
       "Serialization stack:\n",
       "\t- object not serializable (class: org.apache.spark.SparkContext, value: org.apache.spark.SparkContext@7f936da9)\n",
       "\t- field (class: $iw, name: sc, type: class org.apache.spark.SparkContext)\n",
       "\t- object (class $iw, $iw@42093e62)\n",
       "\t- field (class: $iw, name: $iw, type: class $iw)\n",
       "\t- object (class $iw, $iw@6421d830)\n",
       "\t- field (class: $iw, name: $iw, type: class $iw)\n",
       "\t- object (class $iw, $iw@91dfddc)\n",
       "\t- field (class: $iw, name: $iw, type: class $iw)\n",
       "\t- object (class $iw, $iw@3083a235)\n",
       "\t- field (class: $iw, name: $iw, type: class $iw)\n",
       "\t- object (class $iw, $iw@be57caf)\n",
       "\t- field (class: $iw, name: $iw, type: class $iw)\n",
       "\t- object (class $iw, $iw@6edb513c)\n",
       "\t- field (class: $iw, name: $iw, type: class $iw)\n",
       "\t- object (class $iw, $iw@7c4041d4)\n",
       "\t- field (class: $iw, name: $iw, type: class $iw)\n",
       "\t- object (class $iw, $iw@56c8b463)\n",
       "\t- field (class: $line26.$read, name: $iw, type: class $iw)\n",
       "\t- object (class $line26.$read, $line26.$read@2208e8fc)\n",
       "\t- field (class: $iw, name: $line26$read, type: class $line26.$read)\n",
       "\t- object (class $iw, $iw@3ca16183)\n",
       "\t- field (class: $iw, name: $iw, type: class $iw)\n",
       "\t- object (class $iw, $iw@2813fcc3)\n",
       "\t- field (class: $iw, name: $iw, type: class $iw)\n",
       "\t- object (class $iw, $iw@6ca0c332)\n",
       "\t- field (class: $iw, name: $iw, type: class $iw)\n",
       "\t- object (class $iw, $iw@2609d5af)\n",
       "\t- field (class: $iw, name: $iw, type: class $iw)\n",
       "\t- object (class $iw, $iw@20ee8735)\n",
       "\t- field (class: $iw, name: $iw, type: class $iw)\n",
       "\t- object (class $iw, $iw@98672f5)\n",
       "\t- field (class: $iw, name: $iw, type: class $iw)\n",
       "\t- object (class $iw, $iw@555f5361)\n",
       "\t- field (class: $line61.$read, name: $iw, type: class $iw)\n",
       "\t- object (class $line61.$read, $line61.$read@758341c)\n",
       "\t- field (class: $iw, name: $line61$read, type: class $line61.$read)\n",
       "\t- object (class $iw, $iw@65f830db)\n",
       "\t- field (class: $iw, name: $outer, type: class $iw)\n",
       "\t- object (class $iw, $iw@4e1dd295)\n",
       "\t- field (class: $iw, name: $outer, type: class $iw)\n",
       "\t- object (class $iw, $iw@3e9fe1a4)\n",
       "\t- field (class: $iw, name: $outer, type: class $iw)\n",
       "\t- object (class $iw, $iw@4929a95a)\n",
       "\t- field (class: $anonfun$1, name: $outer, type: class $iw)\n",
       "\t- object (class $anonfun$1, <function1>)\n",
       "  at org.apache.spark.serializer.SerializationDebugger$.improveException(SerializationDebugger.scala:40)\n",
       "  at org.apache.spark.serializer.JavaSerializationStream.writeObject(JavaSerializer.scala:46)\n",
       "  at org.apache.spark.serializer.JavaSerializerInstance.serialize(JavaSerializer.scala:100)\n",
       "  at org.apache.spark.util.ClosureCleaner$.ensureSerializable(ClosureCleaner.scala:400)"
      ]
     },
     "execution_count": 45,
     "metadata": {},
     "output_type": "execute_result"
    }
   ],
   "source": [
    "val tokenized_text = tech_text.map(t => (t._1.toString,tokenize(t._2.toString)))"
   ]
  },
  {
   "cell_type": "code",
   "execution_count": 112,
   "metadata": {},
   "outputs": [
    {
     "data": {
      "text/plain": [
       "Name: Unknown Error\n",
       "Message: lastException: Throwable = null\n",
       "<console>:63: error: not found: value tokenized_text\n",
       "       val term_frequency = tokenized_text.flatMapValues(x => x).countByValue()\n",
       "                            ^\n",
       "\n",
       "StackTrace: "
      ]
     },
     "execution_count": 112,
     "metadata": {},
     "output_type": "execute_result"
    }
   ],
   "source": [
    "val term_frequency = tokenized_text.flatMapValues(x => x).countByValue()"
   ]
  },
  {
   "cell_type": "code",
   "execution_count": null,
   "metadata": {},
   "outputs": [],
   "source": []
  }
 ],
 "metadata": {
  "kernelspec": {
   "display_name": "Apache Toree - Scala",
   "language": "scala",
   "name": "apache_toree_scala"
  },
  "language_info": {
   "codemirror_mode": "text/x-scala",
   "file_extension": ".scala",
   "mimetype": "text/x-scala",
   "name": "scala",
   "pygments_lexer": "scala",
   "version": "2.11.12"
  }
 },
 "nbformat": 4,
 "nbformat_minor": 2
}
