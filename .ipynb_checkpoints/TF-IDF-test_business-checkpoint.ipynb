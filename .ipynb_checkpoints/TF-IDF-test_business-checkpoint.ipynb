{
 "cells": [
  {
   "cell_type": "code",
   "execution_count": 1,
   "metadata": {},
   "outputs": [],
   "source": [
    "//libraries to import \n",
    "\n",
    "\n",
    "import org.apache.spark.rdd.RDD\n",
    "import org.apache.spark.{SparkContext,SparkConf}\n",
    "import org.apache.spark.SparkConf\n",
    "import org.apache.spark.sql.SparkSession\n",
    "import org.apache.spark.sql._\n",
    "import org.apache.spark.sql.types._\n",
    "import org.apache.spark.sql.{DataFrame,Row,SQLContext}\n",
    "import sys.process._\n",
    "\n",
    "import scala.collection.immutable.WrappedString;\n",
    "import scala.collection.Map\n",
    "import scala.math._"
   ]
  },
  {
   "cell_type": "markdown",
   "metadata": {},
   "source": [
    "Initialise Spark and set its configurations"
   ]
  },
  {
   "cell_type": "code",
   "execution_count": 2,
   "metadata": {},
   "outputs": [
    {
     "data": {
      "text/plain": [
       "sconf = org.apache.spark.SparkConf@71220c69\n",
       "sc = org.apache.spark.SparkContext@17e3c092\n"
      ]
     },
     "metadata": {},
     "output_type": "display_data"
    },
    {
     "data": {
      "text/plain": [
       "org.apache.spark.SparkContext@17e3c092"
      ]
     },
     "execution_count": 2,
     "metadata": {},
     "output_type": "execute_result"
    }
   ],
   "source": [
    "val sconf = new SparkConf().setMaster(\"local\")\n",
    "sconf.setMaster(\"local\")\n",
    "sconf.setAppName(\"TF-IDF\")\n",
    "sconf.set(\"spark.driver.allowMultipleContexts\", \"true\")\n",
    "val sc = new SparkContext(sconf)"
   ]
  },
  {
   "cell_type": "markdown",
   "metadata": {},
   "source": [
    "Function that takes an RDD as a parameter and runs through each item and displays the result."
   ]
  },
  {
   "cell_type": "code",
   "execution_count": 3,
   "metadata": {},
   "outputs": [
    {
     "data": {
      "text/plain": [
       "peek: (rdd: org.apache.spark.rdd.RDD[_], n: Int)Unit\n"
      ]
     },
     "metadata": {},
     "output_type": "display_data"
    }
   ],
   "source": [
    "import org.apache.spark.rdd.RDD\n",
    "\n",
    "def peek(rdd: RDD[_], n: Int = 20): Unit = {\n",
    "  println(\"RDD type signature: \"+rdd+\"\\n\")\n",
    "  println(\"=====================\")\n",
    "  rdd.take(n).foreach(println)\n",
    "  println(\"=====================\")\n",
    "}"
   ]
  },
  {
   "cell_type": "code",
   "execution_count": 4,
   "metadata": {},
   "outputs": [
    {
     "data": {
      "text/plain": [
       "bus_files = ../TF-IDF/bbctext/business/ MapPartitionsRDD[1] at wholeTextFiles at <console>:48\n"
      ]
     },
     "metadata": {},
     "output_type": "display_data"
    },
    {
     "data": {
      "text/plain": [
       "../TF-IDF/bbctext/business/ MapPartitionsRDD[1] at wholeTextFiles at <console>:48"
      ]
     },
     "execution_count": 4,
     "metadata": {},
     "output_type": "execute_result"
    }
   ],
   "source": [
    "//initialise the variable to hold the business folder\n",
    "val bus_files = sc.wholeTextFiles(\"../TF-IDF/bbctext/business/\",8)\n"
   ]
  },
  {
   "cell_type": "markdown",
   "metadata": {},
   "source": [
    "SparkContext’s whole text files method, i.e., sc.wholeTextFiles in Spark Shell, creates a PairRDD with the key being the file name with a path. It’s a full path like “../001.txt”. The value is the whole content of file in String. Here the number of partitions will be 1 or more depending upon how many executor cores you have."
   ]
  },
  {
   "cell_type": "code",
   "execution_count": 5,
   "metadata": {},
   "outputs": [
    {
     "data": {
      "text/plain": [
       "businessfilecount = 510\n"
      ]
     },
     "metadata": {},
     "output_type": "display_data"
    },
    {
     "data": {
      "text/plain": [
       "510"
      ]
     },
     "execution_count": 5,
     "metadata": {},
     "output_type": "execute_result"
    }
   ],
   "source": [
    "//get size of business folder\n",
    "val businessfilecount = bus_files.count() "
   ]
  },
  {
   "cell_type": "code",
   "execution_count": 6,
   "metadata": {},
   "outputs": [
    {
     "data": {
      "text/plain": [
       "tech_files = ../TF-IDF/bbctext/tech/ MapPartitionsRDD[3] at wholeTextFiles at <console>:48\n"
      ]
     },
     "metadata": {},
     "output_type": "display_data"
    },
    {
     "data": {
      "text/plain": [
       "../TF-IDF/bbctext/tech/ MapPartitionsRDD[3] at wholeTextFiles at <console>:48"
      ]
     },
     "execution_count": 6,
     "metadata": {},
     "output_type": "execute_result"
    }
   ],
   "source": [
    "//initialise the variable to hold the tech folder\n",
    "val tech_files = sc.wholeTextFiles(\"../TF-IDF/bbctext/tech/\",8)"
   ]
  },
  {
   "cell_type": "code",
   "execution_count": 7,
   "metadata": {},
   "outputs": [
    {
     "data": {
      "text/plain": [
       "techfilecount = 401\n"
      ]
     },
     "metadata": {},
     "output_type": "display_data"
    },
    {
     "data": {
      "text/plain": [
       "401"
      ]
     },
     "execution_count": 7,
     "metadata": {},
     "output_type": "execute_result"
    }
   ],
   "source": [
    "val techfilecount = tech_files.count() "
   ]
  },
  {
   "cell_type": "code",
   "execution_count": 8,
   "metadata": {},
   "outputs": [
    {
     "data": {
      "text/plain": [
       "sport_files = ../TF-IDF/bbctext/sport/ MapPartitionsRDD[5] at wholeTextFiles at <console>:48\n"
      ]
     },
     "metadata": {},
     "output_type": "display_data"
    },
    {
     "data": {
      "text/plain": [
       "../TF-IDF/bbctext/sport/ MapPartitionsRDD[5] at wholeTextFiles at <console>:48"
      ]
     },
     "execution_count": 8,
     "metadata": {},
     "output_type": "execute_result"
    }
   ],
   "source": [
    "//initialise the variable to hold the sports folder\n",
    "val sport_files = sc.wholeTextFiles(\"../TF-IDF/bbctext/sport/\",8)"
   ]
  },
  {
   "cell_type": "code",
   "execution_count": 9,
   "metadata": {},
   "outputs": [
    {
     "data": {
      "text/plain": [
       "sportfilecount = 511\n"
      ]
     },
     "metadata": {},
     "output_type": "display_data"
    },
    {
     "data": {
      "text/plain": [
       "511"
      ]
     },
     "execution_count": 9,
     "metadata": {},
     "output_type": "execute_result"
    }
   ],
   "source": [
    "val sportfilecount = sport_files.count() "
   ]
  },
  {
   "cell_type": "code",
   "execution_count": 10,
   "metadata": {},
   "outputs": [
    {
     "data": {
      "text/plain": [
       "pol_files = ../TF-IDF/bbctext/politics/ MapPartitionsRDD[7] at wholeTextFiles at <console>:48\n"
      ]
     },
     "metadata": {},
     "output_type": "display_data"
    },
    {
     "data": {
      "text/plain": [
       "../TF-IDF/bbctext/politics/ MapPartitionsRDD[7] at wholeTextFiles at <console>:48"
      ]
     },
     "execution_count": 10,
     "metadata": {},
     "output_type": "execute_result"
    }
   ],
   "source": [
    "//initialise the variable to hold the politics folder\n",
    "val pol_files = sc.wholeTextFiles(\"../TF-IDF/bbctext/politics/\",8)"
   ]
  },
  {
   "cell_type": "code",
   "execution_count": 11,
   "metadata": {},
   "outputs": [
    {
     "data": {
      "text/plain": [
       "polfilecount = 417\n"
      ]
     },
     "metadata": {},
     "output_type": "display_data"
    },
    {
     "data": {
      "text/plain": [
       "417"
      ]
     },
     "execution_count": 11,
     "metadata": {},
     "output_type": "execute_result"
    }
   ],
   "source": [
    "val polfilecount = pol_files.count() "
   ]
  },
  {
   "cell_type": "code",
   "execution_count": 12,
   "metadata": {},
   "outputs": [
    {
     "data": {
      "text/plain": [
       "ent_files = ../TF-IDF/bbctext/entertainment/ MapPartitionsRDD[9] at wholeTextFiles at <console>:48\n"
      ]
     },
     "metadata": {},
     "output_type": "display_data"
    },
    {
     "data": {
      "text/plain": [
       "../TF-IDF/bbctext/entertainment/ MapPartitionsRDD[9] at wholeTextFiles at <console>:48"
      ]
     },
     "execution_count": 12,
     "metadata": {},
     "output_type": "execute_result"
    }
   ],
   "source": [
    "//initialise the variable to hold the entertainment folder\n",
    "val ent_files = sc.wholeTextFiles(\"../TF-IDF/bbctext/entertainment/\",8)"
   ]
  },
  {
   "cell_type": "code",
   "execution_count": 13,
   "metadata": {},
   "outputs": [
    {
     "data": {
      "text/plain": [
       "entfilecount = 386\n"
      ]
     },
     "metadata": {},
     "output_type": "display_data"
    },
    {
     "data": {
      "text/plain": [
       "386"
      ]
     },
     "execution_count": 13,
     "metadata": {},
     "output_type": "execute_result"
    }
   ],
   "source": [
    "val entfilecount = ent_files.count() "
   ]
  },
  {
   "cell_type": "code",
   "execution_count": 14,
   "metadata": {},
   "outputs": [
    {
     "data": {
      "text/plain": [
       "all_files = UnionRDD[13] at $plus$plus at <console>:55\n"
      ]
     },
     "metadata": {},
     "output_type": "display_data"
    },
    {
     "data": {
      "text/plain": [
       "UnionRDD[13] at $plus$plus at <console>:55"
      ]
     },
     "execution_count": 14,
     "metadata": {},
     "output_type": "execute_result"
    }
   ],
   "source": [
    "val all_files = bus_files ++ tech_files ++ sport_files ++ pol_files ++ent_files "
   ]
  },
  {
   "cell_type": "code",
   "execution_count": 15,
   "metadata": {},
   "outputs": [
    {
     "data": {
      "text/plain": [
       "all_files_count = 2225\n"
      ]
     },
     "metadata": {},
     "output_type": "display_data"
    },
    {
     "data": {
      "text/plain": [
       "2225"
      ]
     },
     "execution_count": 15,
     "metadata": {},
     "output_type": "execute_result"
    }
   ],
   "source": [
    "val all_files_count = all_files.count()"
   ]
  },
  {
   "cell_type": "code",
   "execution_count": 16,
   "metadata": {},
   "outputs": [
    {
     "data": {
      "text/plain": [
       "totalnumberfiles = 2225\n"
      ]
     },
     "metadata": {},
     "output_type": "display_data"
    },
    {
     "data": {
      "text/plain": [
       "2225"
      ]
     },
     "execution_count": 16,
     "metadata": {},
     "output_type": "execute_result"
    }
   ],
   "source": [
    "val totalnumberfiles = businessfilecount + techfilecount + sportfilecount + polfilecount + entfilecount"
   ]
  },
  {
   "cell_type": "code",
   "execution_count": 17,
   "metadata": {},
   "outputs": [
    {
     "name": "stdout",
     "output_type": "stream",
     "text": [
      "RDD type signature: MapPartitionsRDD[14] at map at <console>:49\n",
      "\n",
      "=====================\n",
      "(file:/Users/drcaptainray/Documents/IMTA/SDS202/TP/TF-IDF/bbctext/business/289.txt,UK economy facing 'major risks'\n",
      "\n",
      "The UK manufacturing sector will continue to face \"serious challenges\" over the next two years, the British Chamber of Commerce (BCC) has said.\n",
      "\n",
      "The group's quarterly survey of companies found exports had picked up in the last three months of 2004 to their best levels in eight years. The rise came despite exchange rates being cited as a major concern. However, the BCC found the whole UK economy still faced \"major risks\" and warned that growth is set to slow. It recently forecast economic growth will slow from more than 3% in 2004 to a little below 2.5% in both 2005 and 2006.\n",
      "\n",
      "Manufacturers' domestic sales growth fell back slightly in the quarter, the survey of 5,196 firms found. Employment in manufacturing also fell and job expectations were at their lowest level for a year.\n",
      "\n",
      "\"Despite some positive news for the export sector, there are worrying signs for manufacturing,\" the BCC said. \"These results reinforce our concern over the sector's persistent inability to sustain recovery.\" The outlook for the service sector was \"uncertain\" despite an increase in exports and orders over the quarter, the BCC noted.\n",
      "\n",
      "The BCC found confidence increased in the quarter across both the manufacturing and service sectors although overall it failed to reach the levels at the start of 2004. The reduced threat of interest rate increases had contributed to improved confidence, it said. The Bank of England raised interest rates five times between November 2003 and August last year. But rates have been kept on hold since then amid signs of falling consumer confidence and a slowdown in output. \"The pressure on costs and margins, the relentless increase in regulations, and the threat of higher taxes remain serious problems,\" BCC director general David Frost said. \"While consumer spending is set to decelerate significantly over the next 12-18 months, it is unlikely that investment and exports will rise sufficiently strongly to pick up the slack.\"\n",
      ")\n",
      "(file:/Users/drcaptainray/Documents/IMTA/SDS202/TP/TF-IDF/bbctext/business/504.txt,Aids and climate top Davos agenda\n",
      "\n",
      "Climate change and the fight against Aids are leading the list of concerns for the first day of the World Economic Forum in the Swiss resort of Davos.\n",
      "\n",
      "Some 2,000 business and political leaders from around the globe will listen to UK Prime Minister Tony Blair's opening speech on Wednesday. Mr Blair will focus on Africa's development plans and global warming. Earlier in the day came an update on efforts to have 3 million people on anti-Aids drugs by the end of 2005. The World Health Organisation (WHO) said 700,000 people in poor countries were on life-extending drugs - up from 440,000 six months earlier but amounting to only 12% of the 5.8 million who needed them. A $2bn \"funding gap\" still stood in the way of hitting the 2005 target, the WHO said.\n",
      "\n",
      "The themes to be stressed by Mr Blair - whose attendance was announced at the last minute - are those he wants to dominate the UK's chairmanship of the G8 group of industrialised states. Other issues to be discussed at the five-day conference range from China's\n",
      "\n",
      "economic power to Iraq's future after this Sunday's elections. Aside from Mr Blair, more than 20 other world leaders are expected to attend including French President Jacques Chirac - due to speak by video link after bad weather delayed his helicopter - and South African President Thabo Mbeki, whose arrival has been delayed by Ivory Coast peace talks. The Ukraine's new president, Viktor Yushchenko, will also be there - as will newly elected Palestinian leader Mahmoud Abbas. Showbiz figures will also put in an appearance, from U2 frontman Bono - a well-known campaigner on trade and development issues - to Angelina Jolie, a goodwill campaigner for the UN on refugees.\n",
      "\n",
      "Unlike previous years, protests against the WEF are expected to be muted. Anti-globalisation campaigners have called off a demonstration planned for the weekend. At the same time, about 100,000 people are expected to converge on the Brazilian resort of Porto Alegre for the World Social Forum - the so-called \"anti-Davos\" for campaigners against globalisation, for fair trade, and many other causes.\n",
      "\n",
      "In contrast, the Davos forum is dominated by business issues - from outsourcing to corporate leadership - with bosses of more than a fifth of the world's 500 largest companies scheduled to attend. A survey published on the eve of the conference by PricewaterhouseCoopers said four in ten business leaders were \"very confident\" that their companies would see sales rise in 2005. Asian and American executives, however, were much more confident than their European counterparts. But the political discussions, focusing on Iran, Iraq and China, are likely to dominate media attention.\n",
      ")\n",
      "(file:/Users/drcaptainray/Documents/IMTA/SDS202/TP/TF-IDF/bbctext/business/262.txt,Asian quake hits European shares\n",
      "\n",
      "Shares in Europe's leading reinsurers and travel firms have fallen as the scale of the damage wrought by tsunamis across south Asia has become apparent.\n",
      "\n",
      "More than 23,000 people have been killed following a massive underwater earthquake and many of the worst hit areas are popular tourist destinations. Reisurance firms such as Swiss Re and Munich Re lost value as investors worried about rebuilding costs. But the disaster has little impact on stock markets in the US and Asia.\n",
      "\n",
      "Currencies including the Thai baht and Indonesian rupiah weakened as analysts warned that economic growth may slow. \"It came at the worst possible time,\" said Hans Goetti, a Singapore-based fund manager. \"The impact on the tourist industry is pretty devastating, especially in Thailand.\" Travel-related shares dropped in Europe, with companies such as Germany's TUI and Lufthansa and France's Club Mediterranne sliding. Insurers and reinsurance firms were also under pressure in Europe.\n",
      "\n",
      "Shares in Munich Re and Swiss Re - the world's two biggest reinsurers - both fell 1.7% as the market speculated about the cost of rebuilding in Asia. Zurich Financial, Allianz and Axa also suffered a decline in value.\n",
      "\n",
      "However, their losses were much smaller, reflecting the market's view that reinsurers were likely to pick up the bulk of the costs. Worries about the size of insurance liabilities dragged European shares down, although the impact was exacerbated by light post-Christmas trading. Germany's benchmark Dax index closed the day 16.29 points lower at 3.817.69 while France's Cac index of leading shares fell 5.07 points to 3.817.69. Investors pointed out, however, that declines probably would be industry specific, with the travel and insurance firms hit hardest. \"It's still too early for concrete damage figures,\" Swiss Re's spokesman Floiran Woest told Associated Press. \"That also has to do with the fact that the damage is very widely spread geographically.\"\n",
      "\n",
      "The unfolding scale of the disaster in south Asia had little immediate impact on US shares, however. The Dow Jones index had risen 20.54 points, or 0.2%, to 10,847.66 by late morning as analsyts were cheered by more encouraging reports from retailers about post-Christmas sales. In Asian markets, adjustments were made quickly to account for lower earnings and the cost of repairs. Thai Airways shed almost 4%. The country relies on tourism for about 6% of its total economy. Singapore Airlines dropped 2.6%. About 5% of Singapore's annual gross domestic product (GDP) comes from tourism. Malaysia's budget airline, AirAsia fell 2.9%. Resort operator Tanco Holdings slumped 5%.\n",
      "\n",
      "Travel companies also took a hit, with Japan's Kinki Nippon sliding 1.5% and HIS dropping 3.3%. However, the overall impact on Asia's largest stock market, Japan's Nikkei, was slight. Shares fell just 0.03%. Concerns about the strength of economic growth going forward weighed on the currency markets. The Indonesian rupiah lost as much as 0.6% against the US dollar, before bouncing back slightly to trade at 9,300. The Thai baht lost 0.3% against the US currency, trading at 39.10. In India, where more than 2,000 people are thought to have died, the rupee shed 0.1% against the dollar Analysts said that it was difficult to predict the total cost of the disaster and warned that share prices and currencies would come under increasing pressure as the bills mounted.\n",
      ")\n",
      "(file:/Users/drcaptainray/Documents/IMTA/SDS202/TP/TF-IDF/bbctext/business/276.txt,India power shares jump on debut\n",
      "\n",
      "Shares in India's largest power producer, National Thermal Power Corp (NTPC) have risen 13% on their stock market debut.\n",
      "\n",
      "The government's partial sell-off of NTPC is part of a controversial programme to privatise state-run firms. The 865 million share offer, a mix of new shares and sales by the government, raised 54bn rupees($1.2bn). It was India's second $1bn stock debut in three months, coming after the flotation by software firm Tata. The share offer was eleven times oversubscribed. \"It is a good investment bet,\" said Suhas Naik, an investment analyst from ING Mutual Fund. \"Power needs in India are set to rise and NTPC will benefit from that.\" Analysts say the success of the NTPC flotation would encourage the government to reduce stakes in more power companies. NTPC has said it will use the money from the share sale to feed the growing needs of the country's energy-starved economy. The firm is the largest utility company in India, and the sixth largest power producer in the world.\n",
      ")\n",
      "(file:/Users/drcaptainray/Documents/IMTA/SDS202/TP/TF-IDF/bbctext/business/510.txt,Lacroix label bought by US firm\n",
      "\n",
      "Luxury goods group LVMH has sold its loss-making Christian Lacroix clothing label to a US investment group.\n",
      "\n",
      "The Paris-based firm has been shedding non-core businesses and focusing on its most profitable brands including Moet & Chandon champagne and Louis Vuitton. LVMH said the French designer's haute couture and ready-to-wear labels had been purchased by the Falic Group for an unspecified sum. The Falic Group bought two cosmetics labels from LVMH in 2003. The sale of the Lacroix label comes as many fashion houses are struggling to make money from their expensive haute couture ranges. The Florida-based Falic group, which also runs a chain of 90 duty free stores in the US, said it planned to expand the brand by opening new stores. Mr Lacroix said he planned to stay at the label he founded in 1987 although exact details are still to be confirmed.\n",
      ")\n",
      "(file:/Users/drcaptainray/Documents/IMTA/SDS202/TP/TF-IDF/bbctext/business/060.txt,Insurance bosses plead guilty\n",
      "\n",
      "Another three US insurance executives have pleaded guilty to fraud charges stemming from an ongoing investigation into industry malpractice.\n",
      "\n",
      "Two executives from American International Group (AIG) and one from Marsh & McLennan were the latest. The investigation by New York attorney general Eliot Spitzer has now obtained nine guilty pleas. The highest ranking executive pleading guilty on Tuesday was former Marsh senior vice president Joshua Bewlay.\n",
      "\n",
      "He admitted one felony count of scheming to defraud and faces up to four years in prison. A Marsh spokeswoman said Mr Bewlay was no longer with the company. Mr Spitzer's investigation of the US insurance industry looked at whether companies rigged bids and fixed prices. Last month Marsh agreed to pay $850m (£415m) to settle a lawsuit filed by Mr Spitzer, but under the settlement it \"neither admits nor denies the allegations\".\n",
      ")\n",
      "(file:/Users/drcaptainray/Documents/IMTA/SDS202/TP/TF-IDF/bbctext/business/074.txt,Turkey-Iran mobile deal 'at risk'\n",
      "\n",
      "Turkey's investment in Iran's mobile industry looks set to be scrapped after its biggest mobile firm saw its investment there slashed by MPs.\n",
      "\n",
      "Iran's parliament voted by a large majority to cut Turkcell's stake in a new mobile network from 70% to 49%. The move, which was justified on national security grounds, follows an earlier vote by MPs to give themselves a veto over foreign investments. Turkcell said the decision \"increases the risks\" attached to the project. Although the company's statement said it would continue to monitor developments, observers said they thought Turkcell was set to pull out of the $3bn deal. \"The possibility of carrying out this project is next to zero,\" said Atinc Ozkan, analyst at Finans Investment in Istanbul. If Turkcell does back out, MTN - the South African firm which lost out in the original tender - may well be back in the running. The company has said it is prepared to accept a minority stake if Iran will award it the mobile deal.\n",
      "\n",
      "Turkcell's mobile deal is the second Turkish investment in Iran to run into trouble. Turkish-Austrian consortium TAV was chosen to build and run Tehran's new Imam Khomeini International Airport - but the army closed it just hours after it opened in May 2004. In both cases, the justification has been national security, amid allegations that the Turkish firms are too close to Israel. The hardline posture taken by parliament, which is dominated by religious conservatives, could yet impact other inward investments.\n",
      ")\n",
      "(file:/Users/drcaptainray/Documents/IMTA/SDS202/TP/TF-IDF/bbctext/business/048.txt,Parmalat to return to stockmarket\n",
      "\n",
      "Parmalat, the Italian dairy company which went bust after an accounting scandal, hopes to be back on the Italian stock exchange in July.\n",
      "\n",
      "The firm gained protection from creditors in 2003 after revealing debts of 14bn euros ($18.34bn; £9.6bn). This was eight times higher than it had previously stated. In a statement issued on Wednesday night, Parmalat Finanziaria detailed administrators' latest plans for re-listing the shares of the group.\n",
      "\n",
      "As part of the re-listing on the Italian stock exchange, creditors' debts are expected to be converted into shares through two new share issues amounting to more than 2bn euros. The company's creditors will be asked to vote on the plan later this year. The plan is likely to give creditors of Parmalat Finanziaria shares worth about 5.7% of the debts they are owed. This is lower than the 11.3% creditors previously hoped to receive. Creditors of Parmalat, the main operating company, are likely to see the percentage of debt they receive fall from 7.3% to 6.9%.\n",
      "\n",
      "Several former top Parmalat executives are under investigation for the fraud scandal. Lawmakers said on Wednesday night Enrico Bondi, the turnaround specialist appointed by the Italian government as Parmalat's chief executive, spoke positively about the company during a closed-door hearing of the Chamber of Deputies industry commission. \"Bondi supplied us with elements of positive results on the industrial positions and on the history of debt which will find a point of solution through the Parmalat group's quotation on the market in July,\" Italian news agency Apcom quoted several lawmakers as saying in a statement.\n",
      ")\n",
      "(file:/Users/drcaptainray/Documents/IMTA/SDS202/TP/TF-IDF/bbctext/business/114.txt,WorldCom director admits lying\n",
      "\n",
      "The former chief financial officer at US telecoms firm WorldCom has admitted before a New York court that he used to lie to fellow board members.\n",
      "\n",
      "Speaking at the trial of his former boss Bernard Ebbers, Scott Sullivan said he lied to the board to cover up the hole in WorldCom's finances. Mr Ebbers is on trial for fraud and conspiracy in relation to WorldCom's collapse in 2002. He pleads not guilty. The firm had been overstating its accounts by $11bn (£8.5bn). Mr Sullivan, 42, has already pleaded guilty to fraud and will be sentenced following Mr Ebbers' trial, where he is appearing as a prosecution witness. Mr Ebbers, 63, has always insisted that he was unaware of any hidden shortfalls in WorldCom's finances.\n",
      "\n",
      "In the New York court on Wednesday, Mr Ebbers' lawyer Reid Weingarten asked Mr Sullivan: \"If you believe something is in your interest, you are willing and able to lie to accomplish it, isn't that right?\"\n",
      "\n",
      "\"On that date, yes. I was lying,\" replied Mr Sullivan. Mr Weingarten has suggested that Mr Sullivan is implicating Mr Ebbers only to win a lighter sentence, something Mr Sullivan denies. Mr Sullivan also rejects a suggestion that he had once told fellow WorldCom board member Bert Roberts that Mr Ebbers was unaware of the accounting fraud at WorldCom. The trial of Mr Ebbers is now into its third week.\n",
      "\n",
      "Under 23 hours of questioning from a federal prosecutor, Mr Sullivan has previously told the court that he repeatedly warned Mr Ebbers that falsifying the books would be the only way to meet Wall Street revenue and earnings expectations. Mr Sullivan claims that Mr Ebbers refused to stop the fraud. Mr Ebbers could face a sentence of 85 years if convicted of all the charges he is facing. WorldCom's problems appear to have begun with the collapse of the dotcom boom which cut its business from internet companies. Prosecutors allege that the company's top executives responded by orchestrating massive fraud over a two-year period. WorldCom emerged from bankruptcy protection in 2004, and is now known as MCI.\n",
      ")\n",
      "(file:/Users/drcaptainray/Documents/IMTA/SDS202/TP/TF-IDF/bbctext/business/100.txt,Ebbers denies WorldCom fraud\n",
      "\n",
      "Former WorldCom chief Bernie Ebbers has denied claims that he knew accountants were doctoring the books at the firm.\n",
      "\n",
      "Speaking in court, Mr Ebbers rejected allegations he pressured ex-chief financial officer Scott Sullivan to falsify company financial statements. Mr Sullivan \"made accounting decisions,\" he told the federal court, saying his finance chief had \"a keen command of the numbers\". Mr Ebbers has denied charges of fraud and conspiracy. During his second day of questioning in the New York trial Mr Ebbers played down his working relationship with Mr Sullivan and denied he frequently met him to discuss company business when questioned by the prosecution.\n",
      "\n",
      "\"In a lot of weeks, we would speak ... three or four times,\" Mr Ebbers said, adding that conversations about finances were rarely one-on-one and were usually discussed by a \"group of people\" instead.\n",
      "\n",
      "Mr Ebbers relationship to Mr Sullivan is key to the case surrounding financial corruption that led to the collapse of the firm in 2002 following the discovery of an $11bn accounting fraud. The prosecution's star witness is Mr Sullivan, one of six WorldCom executives indicted in the case, He has pleaded guilty to fraud and appeared as a prosecution witness as part of an agreement with prosecutors. During his time on the witness stand Mr Sullivan repeatedly told jurors he met frequently with Mr Ebbers, told him about changes made to WorldCom's accounts to hide costs and had warned him such practises were improper. However during the case on Tuesday Mr Ebbers denied the allegations. \"I wasn't advised by Scott Sullivan of anything ever being wrong,\" he told the court. \"He's never told me he made an entry that wasn't right. If he had, we wouldn't be here today.\" Mr Ebbers could face a jail sentence of up to 85 years if convicted of all the charges he is facing. Shareholders lost about $180bn in WorldCom's collapse, 20,000 workers lost their jobs and the company went bankrupt. The company emerged from bankruptcy last year and is now known as MCI.\n",
      ")\n",
      "(file:/Users/drcaptainray/Documents/IMTA/SDS202/TP/TF-IDF/bbctext/business/128.txt,Qantas sees profits fly to record\n",
      "\n",
      "Australian airline Qantas has posted a record fiscal first-half profit thanks to cost-cutting measures.\n",
      "\n",
      "Net profit in the six months ending 31 December rose 28% to A$458.4m ($357.6m; £191m) from a year earlier. Analysts expected a figure closer to A$431m. Qantas shares fell almost 3%, however, after it warned that earnings growth would slow in the second half. Sales will dip by at least A$30m after the Indian ocean tsunami devastated many holiday destinations, Qantas said.\n",
      "\n",
      "\"The tsunami affected travel patterns in ways that we were a bit surprised about,\" chief executive Geoff Dixon explained. \"It certainly affected Japanese travel into Australia. As soon as the tsunami hit we saw ... a lessening with bookings for Australia.\" Higher fuel costs also are expected to eat into earnings in coming months. \"We don't have as much hedging benefit in the second half as we had in the first,\" said chief financial officer Peter Gregg. Qantas is facing increased pressure from rivals such as low-cost carrier Virgin Blue and the Australian government is in talks about whether to allow Singapore Airlines to fly between the Australia and the US - one of Qantas' key routes.\n",
      "\n",
      "Even so, the firm is predicting that full-year earnings will increase from the previous 12 months. Analysts have forecast full-year profit will rise about 11% to around A$720 million ($563 million). Qantas boss Mr Dixon also said he would be reviewing the group's cost-cutting measures. During the first six months of the fiscal year, Qantas made savings of A$245m, and is on track to top its target of A$500m for the full year. Last month, the company warned it may transfer as many as 7,000 jobs out Australia, with Mr Dixon quoted as saying that the carrier could no longer afford to remain \"all-Australian\".\n",
      ")\n",
      "(file:/Users/drcaptainray/Documents/IMTA/SDS202/TP/TF-IDF/bbctext/business/470.txt,Saudi investor picks up the Savoy\n",
      "\n",
      "London's famous Savoy hotel has been sold to a group combining Saudi billionaire investor Prince Alwaleed bin Talal and a unit of HBOS bank.\n",
      "\n",
      "Financial details of the deal, which includes the nearby Simpson's in the Strand restaurant, were not disclosed. The seller - Irish-based property firm Quinlan Private - bought the Savoy along with the Berkeley, Claridge's and the Connaught for £750m last year. Prince Alwaleed's hotel investments include the luxury George V in Paris. He also has substantial stakes in Fairmont Hotels & Resorts, which will manage the Savoy and Simpson's in the Strand, and Four Seasons. Fairmont said it planned to invest $48m (£26m) in renovating parts of the Savoy including the River Room and suites with views over the River Thames. Work was expected to be completed by summer 2006, Fairmont said.\n",
      ")\n",
      "(file:/Users/drcaptainray/Documents/IMTA/SDS202/TP/TF-IDF/bbctext/business/316.txt,Euronext 'poised to make LSE bid'\n",
      "\n",
      "Pan-European group Euronext is poised to launch a bid for the London Stock Exchange, UK media reports say.\n",
      "\n",
      "Last week, the LSE rejected a takeover proposal from German rival Deutsche Boerse - the 530 pence-a-share offer valued the exchange at about £1.35bn. The LSE, which saw its shares rise 25%, said the bid undervalued the business. Euronext - formed after the Brussels, Paris and Amsterdam exchanges merged - is reportedly working with three investment banks on a possible offer. The LSE, Europe's biggest stock market, is a key prize, listing stocks with a total capitalisation of £1.4 trillion.\n",
      "\n",
      "Euronext already has a presence in London due to its 2001 acquisition of London-based options and futures exchange Liffe. Trades on the LSE are cleared via Clearnet, in which Euronext has a quarter stake.\n",
      "\n",
      "Euronext, which also operates an exchange in Lisbon, last week appointed UBS and ABN Amro as additional advisors. It is also working with Morgan Stanley. Despite the rejection of the Deutsche Boerse bid last week, Werner Seifert, chief executive of the Frankfurt-based exchange, may well come back with an improved offer. It has long wanted to link up with London, and the two tried and failed to seal a merger in 2000. Responding to the LSE's rebuff, Deutsche Boerse - whose market capitalisation is more than £3bn - said it believed it could show its proposal offered benefits, and that it still hoped to make a cash bid.\n",
      "\n",
      "Last week the LSE said not only was the bid undervalued, but that it had \"been advised that there can be no assurance that any transaction could be successfully implemented\". However, it has indicated it is open for further talks. Meanwhile, German magazine Der Spiegel said part of Mr Seifert's negotiations with the LSE were about where to base the future board of any merged exchange. While Mr Seifert has suggested a merged company would be run out of London, the mayor of Frankfurt has raised concerns that such a move could cost German jobs. Many analysts believe German Boerse has more financial firepower than Euronext if it came to a bidding war.\n",
      ")\n",
      "(file:/Users/drcaptainray/Documents/IMTA/SDS202/TP/TF-IDF/bbctext/business/302.txt,Cactus diet deal for Phytopharm\n",
      "\n",
      "A slimming aid made from a southern African cactus is set to be developed by UK firm Phytopharm and Unilever.\n",
      "\n",
      "Anglo-Dutch food giant Unilever will help the pharmaceutical firm develop the snacks containing Hoodia extract. Phytopharm shares jumped 10.7% on the news, with analysts saying sales of $600m (£309m) a year were possible. The plant, licensed to Phytopharm in 1997, has been used for thousands of years by the Sans bushmen of the Kalahari desert to stave off hunger. Studies have reportedly shown the plant curbs appetite instead of reducing calorific intake like many existing products.\n",
      "\n",
      "Phytopharm will receive an initial fee of £6.5m from Unilever - out of a potential total of £21m - as well as future royalties on product sales. Under the deal, production of the Hoodia cactus at Phytopharm's nursery in South Africa will also rise from eight million plants to potentially hundreds of millions, said Phytopharm chief executive Richard Dixey. The firm had initially hoped to market a slimming drug from Hoodia with Pfizer. But the research collaboration came to an end in 2003. Analysts said Unilever could launch the new products in 2007. \"This deal goes a long way to restoring the market faith in Phytopharm's pipeline after the Pfizer exit,\" said analyst Erling Refsum at Nomura.\n",
      ")\n",
      "(file:/Users/drcaptainray/Documents/IMTA/SDS202/TP/TF-IDF/bbctext/business/464.txt,Wall Street cool to eBay's profit\n",
      "\n",
      "Shares in online auction house eBay fell 9.8% in after-hours trade on Wednesday, after its quarterly profits failed to meet market expectations.\n",
      "\n",
      "Despite seeing net profits rise by 44% to $205.4m (£110m) during October to December, from $142m a year earlier, Wall Street had expected more. EBay stock fell to $92.9 in after-hours trade, from a $103.05 end on Nasdaq. EBay's net revenue for the quarter rose to $935.8m from $648.4m, boosted by growth at its PayPal payment service.\n",
      "\n",
      "Excluding special items, eBay's profit was 33 cents a share, but analysts had expected 34 cents.\n",
      "\n",
      "\"I think Wall Street has gotten a bit ahead of eBay this quarter and for the 2005 year.\" said Janco Partners analyst Martin Pyykkonen. For 2004 as a whole, eBay earned $778.2m on sales of $3.27bn. EBay president and chief executive Meg Whitman called 2004 an \"outstanding success\" that generated \"tremendous momentum\" for 2005. \"I'm more confident than ever that the decisions and investments we're making today will ensure a bright future for the company and our community of users around the world,\" she said. EBay now forecasts 2005 revenue of $4.2bn to $4.35bn and earnings excluding items of $1.48 to $1.52 per share. Analysts had previously estimated that eBay would achieve 2005 revenues of $4.37bn and earnings of $1.62 per share, excluding items.\n",
      ")\n",
      "(file:/Users/drcaptainray/Documents/IMTA/SDS202/TP/TF-IDF/bbctext/business/458.txt,Parmalat founder offers apology\n",
      "\n",
      "The founder and former boss of Parmalat has apologised to investors who lost money as a result of the Italian dairy firm's collapse.\n",
      "\n",
      "Calisto Tanzi said he would co-operate fully with prosecutors investigating the background to one of Europe's largest financial scandals. Parmalat was placed into bankruptcy protection in 2003 after a 14bn euro black hole was found in its accounts. More than 130,000 people lost money following the firm's collapse. Mr Tanzi, 66, issued a statement through his lawyer after five hours of questioning by prosecutors in Parma on 15 January.\n",
      "\n",
      "Prosecutors are seeking indictments against Mr Tanzi and 28 others - including several members of his family and former Parmalat chief financial officer Fausto Tonna - for alleged manipulation of stock market prices and making misleading statements to accountants and Italy's financial watchdog. Two former Parmalat auditors will stand trial later this month for their role in the firm's collapse.\n",
      "\n",
      "\"I apologise to all who have suffered so much damage as a result of my schemes to make my dream of an industrial project come true,\" Mr Tanzi's statement said. \"It is my duty to collaborate fully with prosecutors to reconstruct the causes of Parmalat's sudden default and who is responsible.\" Mr Tanzi spent several months in jail in the wake of Parmalat's collapse and was kept under house arrest until last September. Parmalat is now being run by a state appointed administrator, Enrico Bondi, who has launched lawsuits against 80 banks in an effort to recover money for the bankrupt company and its shareholders. He has alleged that these companies were aware of the true state of Parmalat's finances but continued to lend money to the company. The companies insist they were the victims of fraudulent book-keeping. Parmalat was declared insolvent after it emerged that 4 billion euros (£2.8bn; $4.8bn) it supposedly held in an offshore account did not in fact exist. The firm's demise sent shock waves through Italy, where its portfolio of top-selling food brands and its position as the owner of leading football club Parma had turned it into a household name.\n",
      ")\n",
      "(file:/Users/drcaptainray/Documents/IMTA/SDS202/TP/TF-IDF/bbctext/business/459.txt,'Golden economic period' to end\n",
      "\n",
      "Ten years of \"golden\" economic performance may come to an end in 2005 with growth slowing markedly, City consultancy Deloitte has warned.\n",
      "\n",
      "The UK economy could suffer a backlash from the slowdown in the housing market, triggering a fall in consumer spending and a rise in unemployment. Deloitte is forecasting economic growth of 2% this year, below Chancellor Gordon Brown's forecast of 3% to 3.5%. It also believes that interest rates will fall to 4% by the end of the year.\n",
      "\n",
      "In its quarterly economic review, Deloitte said the UK economy had enjoyed a \"golden period\" during the past decade with unemployment falling to a near 30 year low and inflation at its lowest since the 1960s.\n",
      "\n",
      "But it warned that this growth had been achieved at the expense of creating major \"imbalances\" in the economy. Deloitte's chief economic advisor Roger Bootle said: \"The biggest hit of all is set to come from the housing market which has already embarked on a major slowdown. \"Whereas the main driver of the economy in recent years has been robust household spending growth, this is likely to suffer as the housing market slowdown gathers pace.\"\n",
      "\n",
      "Economic growth is likely to be constrained during the next few years by increased pressure on household budgets and rising taxes, Deloitte believes. Gordon Brown will need to raise about $10bn a year in order to sustain the public finances in the short term, the firm claims. This will result in a marked slowdown in growth in 2005 and 2006 compared to last year, when the economy expanded by 3.25%. However, Deloitte stressed that the slowdown was unlikely to have any major impact on retail prices while it expected the Bank of England to respond quickly to signs of the economy faltering. It expects a series of \"aggressive\" interest rate cuts over the next two years, with the cost of borrowing falling from its current 4.75% mark to 3.5% by the end of 2006. \"Although 2005 may not be the year when things go completely wrong, it will probably mark the start of a more difficult period for the UK economy,\" Mr Bootle.\n",
      ")\n",
      "(file:/Users/drcaptainray/Documents/IMTA/SDS202/TP/TF-IDF/bbctext/business/303.txt,Brazil plays down Varig rescue\n",
      "\n",
      "The Brazilian government has played down claims that it could step in to save the country's biggest airline.\n",
      "\n",
      "Brazil's airport authority chief Carlos Wilson had claimed the government was on the brink of stepping in to save Varig, Brazil's flagship airline. However, the country's vice president Jose Alencar has said the government still is looking for a solution. Varig is struggling under a huge debt burden of an estimated debt of 6.5 billion reais ($2.3bn or £1.2bn). Asked whether a rescue was on the cards following a meeting of the country's Congress to discuss the airline's crisis, Mr Alencar replied: \"No, I don't think so. We will see.\"\n",
      "\n",
      "Earlier, Mr Wilson had said that president Luiz Inacio Lula da Silva has decided to step in and a decree of some kind of intervention could be signed this week. \"In practice, it will be an intervention, although this is not the technical name used\", he said. An intervention means that the government would take administrative control of the company and its finances. For that to happen Varig's main shareholder, the non-profit Ruben Berta Foundation which represents the airline's employees, would have to be removed, Mr Wilson said. However, no jobs would be lost and the airline would keep on flying, he added. Varig, which operates in 18 countries apart from Brazil, has been driven to the brink of collapse because of the country's economic downturn.\n",
      "\n",
      "The depreciation of Brazil's currency has had a direct impact on the airline's dollar debt as well as some of its costs. Business has improved recently with demand for air travel increasing and a recovery in the Brazilian economy. The airline could also win a sizeable windfall from a compensation claim against the government. On Tuesday the courts awarded Varig 2bn reais ($725m), after ruling in favour of its compensation claim against the government for freezing tariffs from 1985 to 1992. But the government can appeal the decision.\n",
      ")\n",
      "(file:/Users/drcaptainray/Documents/IMTA/SDS202/TP/TF-IDF/bbctext/business/465.txt,WorldCom trial starts in New York\n",
      "\n",
      "The trial of Bernie Ebbers, former chief executive of bankrupt US phone company WorldCom, has started in New York with the selection of the jury.\n",
      "\n",
      "Mr Ebbers, 63, is accused of being the mastermind behind an $11bn (£6bn) accounting fraud that eventually saw the firm collapse in July 2002. His indictment includes charges of securities fraud, conspiracy and filing false reports with regulators. If found guilty, Mr Ebbers could face a substantial jail sentence. He has firmly declared his innocence.\n",
      "\n",
      "Under Mr Ebbers' leadership, WorldCom emerged from Mississippi obscurity to become a $160bn telecoms giant and the darling of late 1990s investors. Yet as competition intensified and the telecoms boom petered out, WorldCom found itself under growing financial stress. When WorldCom finally collapsed, shareholders lost about $180bn and 20,000 workers lost their jobs. Mr Ebbers' trial, which is expected to last two months, is the latest in a series of attempts by US prosecutors to pursue senior executives for fraud. It will coincide with the retrial of former Tyco International chief Dennis Kozlowski and his top lieutenant, accused of looting the industrial conglomerate to the tune of $600m. Trail preparations are also preparing for former executives of shamed US energy firm Enron.\n",
      ")\n",
      "(file:/Users/drcaptainray/Documents/IMTA/SDS202/TP/TF-IDF/bbctext/business/471.txt,Tsunami slows Sri Lanka's growth\n",
      "\n",
      "Sri Lanka's president has launched a reconstruction drive worth $3.5bn (£1.8bn) by appealing for peace and national unity.\n",
      "\n",
      "President Kumaratunga said it was now important to find a peaceful solution to years of internal conflict. Meanwhile, the International Monetary Fund (IMF) said damage from the tsunami would cut one percentage point from Sri Lanka's economic growth this year. It estimated the wave left physical damage equal to 6.5% of the economy.\n",
      "\n",
      "Separately, the International Labour Organisation (ILO) said that at least one million people have lost their livelihoods in Sri Lanka and Indonesia alone. It called for action to create jobs. President Kumaratunga attended a ceremony in the southern town of Hambantota. She was joined by government and opposition politicians, together with Buddhist, Hindu, Muslim and Christian clergy.\n",
      "\n",
      "Prime Minister Mahinda Rajapakse laid the foundation stone on a new housing project intended to provide 6,000 homes for survivors of the tsunami. Mrs Kumaratunga called for the tragedy to be \"the start of a new beginning to rebuild our nation\". \"We are a country blessed with so many natural resources and we have not made use of them fully. Instead we have been squabbling, fighting,\" she added. Norway's peace negotiator Erik Solheim is due to arrive on Wednesday to try to revive peace talks in the decades-long conflict between government forces and the Tamil Tigers, who want a separate state in the north east of the country. Reconstruction efforts in eastern Sri Lanka have been hampered by tensions between the two sides.\n",
      "\n",
      "The IMF said that the Sri Lankan authorities' initial estimates have put the physical damage at $1.3 to $1.5bn, but added that the implications for the economy were much wider than this. \"The broader macroeconomic impact will clearly be substantial but the details are difficult to assess at this early stage,\" the IMF said. Growth, inflation, the balance of payments and foreign exchange reserves are all expected to show the effects of lost businesses and reconstruction costs. \"The fishing industry has been devastated, agricultural production may be affected and tourism will suffer, especially in the short term,\" the report said. The ILO estimated that 400,000 Sri Lankans have lost their jobs, mostly in these three industries. Earnings from tourism this year are expected to be 15% lower than last year. Economic growth this year is expected to be 4%, which is about 1% less than previously forecast. Inflation could climb to 14% compared to a previous estimate of 12%. Although major exports have not suffered, the IMF expects the reconstruction effort will require higher imports which could damage the balance of payments. Foreign exchange reserves may become strained as \"Sri Lanka will be hard pressed to keep international reserves at the pre-tsunami level\" which totalled more than two months worth of imports. Last week, the IMF approved Sri Lanka's request for a freeze on loan repayments.\n",
      ")\n",
      "=====================\n"
     ]
    },
    {
     "data": {
      "text/plain": [
       "groupAllFiles = MapPartitionsRDD[14] at map at <console>:49\n"
      ]
     },
     "metadata": {},
     "output_type": "display_data"
    },
    {
     "data": {
      "text/plain": [
       "MapPartitionsRDD[14] at map at <console>:49"
      ]
     },
     "execution_count": 17,
     "metadata": {},
     "output_type": "execute_result"
    }
   ],
   "source": [
    "val groupAllFiles = all_files.map(file => (file._1, file._2))\n",
    "peek(groupAllFiles)"
   ]
  },
  {
   "cell_type": "markdown",
   "metadata": {},
   "source": [
    "//get words in business folder\n",
    "val bus_text = sc.textFile(\"../TF-IDF/bbctext/business\")\n",
    "peek(bus_text)"
   ]
  },
  {
   "cell_type": "markdown",
   "metadata": {},
   "source": [
    "The number of files when using sc.textFile() give you the number of partitions created."
   ]
  },
  {
   "cell_type": "code",
   "execution_count": 18,
   "metadata": {},
   "outputs": [
    {
     "name": "stdout",
     "output_type": "stream",
     "text": [
      "RDD type signature: MapPartitionsRDD[15] at map at <console>:53\n",
      "\n",
      "=====================\n",
      "(file:/Users/drcaptainray/Documents/IMTA/SDS202/TP/TF-IDF/bbctext/business/289.txt,[Ljava.lang.String;@7df2d0b9)\n",
      "(file:/Users/drcaptainray/Documents/IMTA/SDS202/TP/TF-IDF/bbctext/business/504.txt,[Ljava.lang.String;@6e3c2f24)\n",
      "(file:/Users/drcaptainray/Documents/IMTA/SDS202/TP/TF-IDF/bbctext/business/262.txt,[Ljava.lang.String;@74a30ebb)\n",
      "(file:/Users/drcaptainray/Documents/IMTA/SDS202/TP/TF-IDF/bbctext/business/276.txt,[Ljava.lang.String;@1fbf6f8e)\n",
      "(file:/Users/drcaptainray/Documents/IMTA/SDS202/TP/TF-IDF/bbctext/business/510.txt,[Ljava.lang.String;@6470f509)\n",
      "(file:/Users/drcaptainray/Documents/IMTA/SDS202/TP/TF-IDF/bbctext/business/060.txt,[Ljava.lang.String;@6b3aa3ac)\n",
      "(file:/Users/drcaptainray/Documents/IMTA/SDS202/TP/TF-IDF/bbctext/business/074.txt,[Ljava.lang.String;@780bea6)\n",
      "(file:/Users/drcaptainray/Documents/IMTA/SDS202/TP/TF-IDF/bbctext/business/048.txt,[Ljava.lang.String;@63a772c7)\n",
      "(file:/Users/drcaptainray/Documents/IMTA/SDS202/TP/TF-IDF/bbctext/business/114.txt,[Ljava.lang.String;@1c1b07)\n",
      "(file:/Users/drcaptainray/Documents/IMTA/SDS202/TP/TF-IDF/bbctext/business/100.txt,[Ljava.lang.String;@3e05ff6b)\n",
      "(file:/Users/drcaptainray/Documents/IMTA/SDS202/TP/TF-IDF/bbctext/business/128.txt,[Ljava.lang.String;@3cf20383)\n",
      "(file:/Users/drcaptainray/Documents/IMTA/SDS202/TP/TF-IDF/bbctext/business/470.txt,[Ljava.lang.String;@649b6f90)\n",
      "(file:/Users/drcaptainray/Documents/IMTA/SDS202/TP/TF-IDF/bbctext/business/316.txt,[Ljava.lang.String;@4bf9427)\n",
      "(file:/Users/drcaptainray/Documents/IMTA/SDS202/TP/TF-IDF/bbctext/business/302.txt,[Ljava.lang.String;@1550cd7c)\n",
      "(file:/Users/drcaptainray/Documents/IMTA/SDS202/TP/TF-IDF/bbctext/business/464.txt,[Ljava.lang.String;@39923a4e)\n",
      "(file:/Users/drcaptainray/Documents/IMTA/SDS202/TP/TF-IDF/bbctext/business/458.txt,[Ljava.lang.String;@64a3503)\n",
      "(file:/Users/drcaptainray/Documents/IMTA/SDS202/TP/TF-IDF/bbctext/business/459.txt,[Ljava.lang.String;@7eac8741)\n",
      "(file:/Users/drcaptainray/Documents/IMTA/SDS202/TP/TF-IDF/bbctext/business/303.txt,[Ljava.lang.String;@6d048ec5)\n",
      "(file:/Users/drcaptainray/Documents/IMTA/SDS202/TP/TF-IDF/bbctext/business/465.txt,[Ljava.lang.String;@45ec8961)\n",
      "(file:/Users/drcaptainray/Documents/IMTA/SDS202/TP/TF-IDF/bbctext/business/471.txt,[Ljava.lang.String;@12595ef2)\n",
      "=====================\n"
     ]
    },
    {
     "data": {
      "text/plain": [
       "defined object Tokenizer\n",
       "tokenized_text = MapPartitionsRDD[15] at map at <console>:53\n"
      ]
     },
     "metadata": {},
     "output_type": "display_data"
    },
    {
     "data": {
      "text/plain": [
       "MapPartitionsRDD[15] at map at <console>:53"
      ]
     },
     "execution_count": 18,
     "metadata": {},
     "output_type": "execute_result"
    }
   ],
   "source": [
    "object Tokenizer extends Serializable {\n",
    "    \n",
    "    def tokenize(line:String) : Array[String] = new WrappedString(line).toLowerCase().split(\"\\\\W+\")\n",
    "}\n",
    "val tokenized_text = groupAllFiles.map(file => (file._1.toString,Tokenizer.tokenize(file._2.toString)))\n",
    "\n",
    "peek(tokenized_text)\n",
    "\n"
   ]
  },
  {
   "cell_type": "markdown",
   "metadata": {},
   "source": [
    "functions are objects in Scala, unlike methods"
   ]
  },
  {
   "cell_type": "code",
   "execution_count": 19,
   "metadata": {},
   "outputs": [
    {
     "name": "stdout",
     "output_type": "stream",
     "text": [
      "RDD type signature: MapPartitionsRDD[16] at flatMap at <console>:49\n",
      "\n",
      "=====================\n",
      "uk\n",
      "economy\n",
      "facing\n",
      "major\n",
      "risks\n",
      "the\n",
      "uk\n",
      "manufacturing\n",
      "sector\n",
      "will\n",
      "continue\n",
      "to\n",
      "face\n",
      "serious\n",
      "challenges\n",
      "over\n",
      "the\n",
      "next\n",
      "two\n",
      "years\n",
      "=====================\n"
     ]
    },
    {
     "data": {
      "text/plain": [
       "words = MapPartitionsRDD[16] at flatMap at <console>:49\n"
      ]
     },
     "metadata": {},
     "output_type": "display_data"
    },
    {
     "data": {
      "text/plain": [
       "MapPartitionsRDD[16] at flatMap at <console>:49"
      ]
     },
     "execution_count": 19,
     "metadata": {},
     "output_type": "execute_result"
    }
   ],
   "source": [
    "val words = tokenized_text.flatMap(line => line._2)\n",
    "peek(words)"
   ]
  },
  {
   "cell_type": "code",
   "execution_count": 44,
   "metadata": {},
   "outputs": [
    {
     "data": {
      "text/plain": [
       "peek_array: (name: String, text: List[String], n: Int)Unit\n"
      ]
     },
     "metadata": {},
     "output_type": "display_data"
    }
   ],
   "source": [
    "import org.apache.spark.rdd.RDD\n",
    "\n",
    "def peek_array(name: String , text:List[String], n: Int = 5): Unit = {\n",
    "  //println(\"RDD type signature: \"+rdd+\"\\n\")\n",
    "  println(name)\n",
    "  println(\"=====================\")\n",
    "  text.take(n).foreach(println)\n",
    "  println(\"=====================\")\n",
    "}"
   ]
  },
  {
   "cell_type": "markdown",
   "metadata": {},
   "source": [
    "Stop words are words that are common to all the documents. These words are ignored/removed during a search to reduce the number of documents returned when a search is made."
   ]
  },
  {
   "cell_type": "code",
   "execution_count": 22,
   "metadata": {},
   "outputs": [
    {
     "name": "stdout",
     "output_type": "stream",
     "text": [
      "RDD type signature: MapPartitionsRDD[20] at map at <console>:49\n",
      "\n",
      "=====================\n",
      "(file:/Users/drcaptainray/Documents/IMTA/SDS202/TP/TF-IDF/bbctext/business/289.txt,UK economy facing 'major risks'\n",
      "\n",
      "The UK manufacturing sector will continue to face \"serious challenges\" over the next two years, the British Chamber of Commerce (BCC) has said.\n",
      "\n",
      "The group's quarterly survey of companies found exports had picked up in the last three months of 2004 to their best levels in eight years. The rise came despite exchange rates being cited as a major concern. However, the BCC found the whole UK economy still faced \"major risks\" and warned that growth is set to slow. It recently forecast economic growth will slow from more than 3% in 2004 to a little below 2.5% in both 2005 and 2006.\n",
      "\n",
      "Manufacturers' domestic sales growth fell back slightly in the quarter, the survey of 5,196 firms found. Employment in manufacturing also fell and job expectations were at their lowest level for a year.\n",
      "\n",
      "\"Despite some positive news for the export sector, there are worrying signs for manufacturing,\" the BCC said. \"These results reinforce our concern over the sector's persistent inability to sustain recovery.\" The outlook for the service sector was \"uncertain\" despite an increase in exports and orders over the quarter, the BCC noted.\n",
      "\n",
      "The BCC found confidence increased in the quarter across both the manufacturing and service sectors although overall it failed to reach the levels at the start of 2004. The reduced threat of interest rate increases had contributed to improved confidence, it said. The Bank of England raised interest rates five times between November 2003 and August last year. But rates have been kept on hold since then amid signs of falling consumer confidence and a slowdown in output. \"The pressure on costs and margins, the relentless increase in regulations, and the threat of higher taxes remain serious problems,\" BCC director general David Frost said. \"While consumer spending is set to decelerate significantly over the next 12-18 months, it is unlikely that investment and exports will rise sufficiently strongly to pick up the slack.\"\n",
      ")\n",
      "(file:/Users/drcaptainray/Documents/IMTA/SDS202/TP/TF-IDF/bbctext/business/504.txt,Aids and climate top Davos agenda\n",
      "\n",
      "Climate change and the fight against Aids are leading the list of concerns for the first day of the World Economic Forum in the Swiss resort of Davos.\n",
      "\n",
      "Some 2,000 business and political leaders from around the globe will listen to UK Prime Minister Tony Blair's opening speech on Wednesday. Mr Blair will focus on Africa's development plans and global warming. Earlier in the day came an update on efforts to have 3 million people on anti-Aids drugs by the end of 2005. The World Health Organisation (WHO) said 700,000 people in poor countries were on life-extending drugs - up from 440,000 six months earlier but amounting to only 12% of the 5.8 million who needed them. A $2bn \"funding gap\" still stood in the way of hitting the 2005 target, the WHO said.\n",
      "\n",
      "The themes to be stressed by Mr Blair - whose attendance was announced at the last minute - are those he wants to dominate the UK's chairmanship of the G8 group of industrialised states. Other issues to be discussed at the five-day conference range from China's\n",
      "\n",
      "economic power to Iraq's future after this Sunday's elections. Aside from Mr Blair, more than 20 other world leaders are expected to attend including French President Jacques Chirac - due to speak by video link after bad weather delayed his helicopter - and South African President Thabo Mbeki, whose arrival has been delayed by Ivory Coast peace talks. The Ukraine's new president, Viktor Yushchenko, will also be there - as will newly elected Palestinian leader Mahmoud Abbas. Showbiz figures will also put in an appearance, from U2 frontman Bono - a well-known campaigner on trade and development issues - to Angelina Jolie, a goodwill campaigner for the UN on refugees.\n",
      "\n",
      "Unlike previous years, protests against the WEF are expected to be muted. Anti-globalisation campaigners have called off a demonstration planned for the weekend. At the same time, about 100,000 people are expected to converge on the Brazilian resort of Porto Alegre for the World Social Forum - the so-called \"anti-Davos\" for campaigners against globalisation, for fair trade, and many other causes.\n",
      "\n",
      "In contrast, the Davos forum is dominated by business issues - from outsourcing to corporate leadership - with bosses of more than a fifth of the world's 500 largest companies scheduled to attend. A survey published on the eve of the conference by PricewaterhouseCoopers said four in ten business leaders were \"very confident\" that their companies would see sales rise in 2005. Asian and American executives, however, were much more confident than their European counterparts. But the political discussions, focusing on Iran, Iraq and China, are likely to dominate media attention.\n",
      ")\n",
      "(file:/Users/drcaptainray/Documents/IMTA/SDS202/TP/TF-IDF/bbctext/business/262.txt,Asian quake hits European shares\n",
      "\n",
      "Shares in Europe's leading reinsurers and travel firms have fallen as the scale of the damage wrought by tsunamis across south Asia has become apparent.\n",
      "\n",
      "More than 23,000 people have been killed following a massive underwater earthquake and many of the worst hit areas are popular tourist destinations. Reisurance firms such as Swiss Re and Munich Re lost value as investors worried about rebuilding costs. But the disaster has little impact on stock markets in the US and Asia.\n",
      "\n",
      "Currencies including the Thai baht and Indonesian rupiah weakened as analysts warned that economic growth may slow. \"It came at the worst possible time,\" said Hans Goetti, a Singapore-based fund manager. \"The impact on the tourist industry is pretty devastating, especially in Thailand.\" Travel-related shares dropped in Europe, with companies such as Germany's TUI and Lufthansa and France's Club Mediterranne sliding. Insurers and reinsurance firms were also under pressure in Europe.\n",
      "\n",
      "Shares in Munich Re and Swiss Re - the world's two biggest reinsurers - both fell 1.7% as the market speculated about the cost of rebuilding in Asia. Zurich Financial, Allianz and Axa also suffered a decline in value.\n",
      "\n",
      "However, their losses were much smaller, reflecting the market's view that reinsurers were likely to pick up the bulk of the costs. Worries about the size of insurance liabilities dragged European shares down, although the impact was exacerbated by light post-Christmas trading. Germany's benchmark Dax index closed the day 16.29 points lower at 3.817.69 while France's Cac index of leading shares fell 5.07 points to 3.817.69. Investors pointed out, however, that declines probably would be industry specific, with the travel and insurance firms hit hardest. \"It's still too early for concrete damage figures,\" Swiss Re's spokesman Floiran Woest told Associated Press. \"That also has to do with the fact that the damage is very widely spread geographically.\"\n",
      "\n",
      "The unfolding scale of the disaster in south Asia had little immediate impact on US shares, however. The Dow Jones index had risen 20.54 points, or 0.2%, to 10,847.66 by late morning as analsyts were cheered by more encouraging reports from retailers about post-Christmas sales. In Asian markets, adjustments were made quickly to account for lower earnings and the cost of repairs. Thai Airways shed almost 4%. The country relies on tourism for about 6% of its total economy. Singapore Airlines dropped 2.6%. About 5% of Singapore's annual gross domestic product (GDP) comes from tourism. Malaysia's budget airline, AirAsia fell 2.9%. Resort operator Tanco Holdings slumped 5%.\n",
      "\n",
      "Travel companies also took a hit, with Japan's Kinki Nippon sliding 1.5% and HIS dropping 3.3%. However, the overall impact on Asia's largest stock market, Japan's Nikkei, was slight. Shares fell just 0.03%. Concerns about the strength of economic growth going forward weighed on the currency markets. The Indonesian rupiah lost as much as 0.6% against the US dollar, before bouncing back slightly to trade at 9,300. The Thai baht lost 0.3% against the US currency, trading at 39.10. In India, where more than 2,000 people are thought to have died, the rupee shed 0.1% against the dollar Analysts said that it was difficult to predict the total cost of the disaster and warned that share prices and currencies would come under increasing pressure as the bills mounted.\n",
      ")\n",
      "(file:/Users/drcaptainray/Documents/IMTA/SDS202/TP/TF-IDF/bbctext/business/276.txt,India power shares jump on debut\n",
      "\n",
      "Shares in India's largest power producer, National Thermal Power Corp (NTPC) have risen 13% on their stock market debut.\n",
      "\n",
      "The government's partial sell-off of NTPC is part of a controversial programme to privatise state-run firms. The 865 million share offer, a mix of new shares and sales by the government, raised 54bn rupees($1.2bn). It was India's second $1bn stock debut in three months, coming after the flotation by software firm Tata. The share offer was eleven times oversubscribed. \"It is a good investment bet,\" said Suhas Naik, an investment analyst from ING Mutual Fund. \"Power needs in India are set to rise and NTPC will benefit from that.\" Analysts say the success of the NTPC flotation would encourage the government to reduce stakes in more power companies. NTPC has said it will use the money from the share sale to feed the growing needs of the country's energy-starved economy. The firm is the largest utility company in India, and the sixth largest power producer in the world.\n",
      ")\n",
      "(file:/Users/drcaptainray/Documents/IMTA/SDS202/TP/TF-IDF/bbctext/business/510.txt,Lacroix label bought by US firm\n",
      "\n",
      "Luxury goods group LVMH has sold its loss-making Christian Lacroix clothing label to a US investment group.\n",
      "\n",
      "The Paris-based firm has been shedding non-core businesses and focusing on its most profitable brands including Moet & Chandon champagne and Louis Vuitton. LVMH said the French designer's haute couture and ready-to-wear labels had been purchased by the Falic Group for an unspecified sum. The Falic Group bought two cosmetics labels from LVMH in 2003. The sale of the Lacroix label comes as many fashion houses are struggling to make money from their expensive haute couture ranges. The Florida-based Falic group, which also runs a chain of 90 duty free stores in the US, said it planned to expand the brand by opening new stores. Mr Lacroix said he planned to stay at the label he founded in 1987 although exact details are still to be confirmed.\n",
      ")\n",
      "(file:/Users/drcaptainray/Documents/IMTA/SDS202/TP/TF-IDF/bbctext/business/060.txt,Insurance bosses plead guilty\n",
      "\n",
      "Another three US insurance executives have pleaded guilty to fraud charges stemming from an ongoing investigation into industry malpractice.\n",
      "\n",
      "Two executives from American International Group (AIG) and one from Marsh & McLennan were the latest. The investigation by New York attorney general Eliot Spitzer has now obtained nine guilty pleas. The highest ranking executive pleading guilty on Tuesday was former Marsh senior vice president Joshua Bewlay.\n",
      "\n",
      "He admitted one felony count of scheming to defraud and faces up to four years in prison. A Marsh spokeswoman said Mr Bewlay was no longer with the company. Mr Spitzer's investigation of the US insurance industry looked at whether companies rigged bids and fixed prices. Last month Marsh agreed to pay $850m (£415m) to settle a lawsuit filed by Mr Spitzer, but under the settlement it \"neither admits nor denies the allegations\".\n",
      ")\n",
      "(file:/Users/drcaptainray/Documents/IMTA/SDS202/TP/TF-IDF/bbctext/business/074.txt,Turkey-Iran mobile deal 'at risk'\n",
      "\n",
      "Turkey's investment in Iran's mobile industry looks set to be scrapped after its biggest mobile firm saw its investment there slashed by MPs.\n",
      "\n",
      "Iran's parliament voted by a large majority to cut Turkcell's stake in a new mobile network from 70% to 49%. The move, which was justified on national security grounds, follows an earlier vote by MPs to give themselves a veto over foreign investments. Turkcell said the decision \"increases the risks\" attached to the project. Although the company's statement said it would continue to monitor developments, observers said they thought Turkcell was set to pull out of the $3bn deal. \"The possibility of carrying out this project is next to zero,\" said Atinc Ozkan, analyst at Finans Investment in Istanbul. If Turkcell does back out, MTN - the South African firm which lost out in the original tender - may well be back in the running. The company has said it is prepared to accept a minority stake if Iran will award it the mobile deal.\n",
      "\n",
      "Turkcell's mobile deal is the second Turkish investment in Iran to run into trouble. Turkish-Austrian consortium TAV was chosen to build and run Tehran's new Imam Khomeini International Airport - but the army closed it just hours after it opened in May 2004. In both cases, the justification has been national security, amid allegations that the Turkish firms are too close to Israel. The hardline posture taken by parliament, which is dominated by religious conservatives, could yet impact other inward investments.\n",
      ")\n",
      "(file:/Users/drcaptainray/Documents/IMTA/SDS202/TP/TF-IDF/bbctext/business/048.txt,Parmalat to return to stockmarket\n",
      "\n",
      "Parmalat, the Italian dairy company which went bust after an accounting scandal, hopes to be back on the Italian stock exchange in July.\n",
      "\n",
      "The firm gained protection from creditors in 2003 after revealing debts of 14bn euros ($18.34bn; £9.6bn). This was eight times higher than it had previously stated. In a statement issued on Wednesday night, Parmalat Finanziaria detailed administrators' latest plans for re-listing the shares of the group.\n",
      "\n",
      "As part of the re-listing on the Italian stock exchange, creditors' debts are expected to be converted into shares through two new share issues amounting to more than 2bn euros. The company's creditors will be asked to vote on the plan later this year. The plan is likely to give creditors of Parmalat Finanziaria shares worth about 5.7% of the debts they are owed. This is lower than the 11.3% creditors previously hoped to receive. Creditors of Parmalat, the main operating company, are likely to see the percentage of debt they receive fall from 7.3% to 6.9%.\n",
      "\n",
      "Several former top Parmalat executives are under investigation for the fraud scandal. Lawmakers said on Wednesday night Enrico Bondi, the turnaround specialist appointed by the Italian government as Parmalat's chief executive, spoke positively about the company during a closed-door hearing of the Chamber of Deputies industry commission. \"Bondi supplied us with elements of positive results on the industrial positions and on the history of debt which will find a point of solution through the Parmalat group's quotation on the market in July,\" Italian news agency Apcom quoted several lawmakers as saying in a statement.\n",
      ")\n",
      "(file:/Users/drcaptainray/Documents/IMTA/SDS202/TP/TF-IDF/bbctext/business/114.txt,WorldCom director admits lying\n",
      "\n",
      "The former chief financial officer at US telecoms firm WorldCom has admitted before a New York court that he used to lie to fellow board members.\n",
      "\n",
      "Speaking at the trial of his former boss Bernard Ebbers, Scott Sullivan said he lied to the board to cover up the hole in WorldCom's finances. Mr Ebbers is on trial for fraud and conspiracy in relation to WorldCom's collapse in 2002. He pleads not guilty. The firm had been overstating its accounts by $11bn (£8.5bn). Mr Sullivan, 42, has already pleaded guilty to fraud and will be sentenced following Mr Ebbers' trial, where he is appearing as a prosecution witness. Mr Ebbers, 63, has always insisted that he was unaware of any hidden shortfalls in WorldCom's finances.\n",
      "\n",
      "In the New York court on Wednesday, Mr Ebbers' lawyer Reid Weingarten asked Mr Sullivan: \"If you believe something is in your interest, you are willing and able to lie to accomplish it, isn't that right?\"\n",
      "\n",
      "\"On that date, yes. I was lying,\" replied Mr Sullivan. Mr Weingarten has suggested that Mr Sullivan is implicating Mr Ebbers only to win a lighter sentence, something Mr Sullivan denies. Mr Sullivan also rejects a suggestion that he had once told fellow WorldCom board member Bert Roberts that Mr Ebbers was unaware of the accounting fraud at WorldCom. The trial of Mr Ebbers is now into its third week.\n",
      "\n",
      "Under 23 hours of questioning from a federal prosecutor, Mr Sullivan has previously told the court that he repeatedly warned Mr Ebbers that falsifying the books would be the only way to meet Wall Street revenue and earnings expectations. Mr Sullivan claims that Mr Ebbers refused to stop the fraud. Mr Ebbers could face a sentence of 85 years if convicted of all the charges he is facing. WorldCom's problems appear to have begun with the collapse of the dotcom boom which cut its business from internet companies. Prosecutors allege that the company's top executives responded by orchestrating massive fraud over a two-year period. WorldCom emerged from bankruptcy protection in 2004, and is now known as MCI.\n",
      ")\n",
      "(file:/Users/drcaptainray/Documents/IMTA/SDS202/TP/TF-IDF/bbctext/business/100.txt,Ebbers denies WorldCom fraud\n",
      "\n",
      "Former WorldCom chief Bernie Ebbers has denied claims that he knew accountants were doctoring the books at the firm.\n",
      "\n",
      "Speaking in court, Mr Ebbers rejected allegations he pressured ex-chief financial officer Scott Sullivan to falsify company financial statements. Mr Sullivan \"made accounting decisions,\" he told the federal court, saying his finance chief had \"a keen command of the numbers\". Mr Ebbers has denied charges of fraud and conspiracy. During his second day of questioning in the New York trial Mr Ebbers played down his working relationship with Mr Sullivan and denied he frequently met him to discuss company business when questioned by the prosecution.\n",
      "\n",
      "\"In a lot of weeks, we would speak ... three or four times,\" Mr Ebbers said, adding that conversations about finances were rarely one-on-one and were usually discussed by a \"group of people\" instead.\n",
      "\n",
      "Mr Ebbers relationship to Mr Sullivan is key to the case surrounding financial corruption that led to the collapse of the firm in 2002 following the discovery of an $11bn accounting fraud. The prosecution's star witness is Mr Sullivan, one of six WorldCom executives indicted in the case, He has pleaded guilty to fraud and appeared as a prosecution witness as part of an agreement with prosecutors. During his time on the witness stand Mr Sullivan repeatedly told jurors he met frequently with Mr Ebbers, told him about changes made to WorldCom's accounts to hide costs and had warned him such practises were improper. However during the case on Tuesday Mr Ebbers denied the allegations. \"I wasn't advised by Scott Sullivan of anything ever being wrong,\" he told the court. \"He's never told me he made an entry that wasn't right. If he had, we wouldn't be here today.\" Mr Ebbers could face a jail sentence of up to 85 years if convicted of all the charges he is facing. Shareholders lost about $180bn in WorldCom's collapse, 20,000 workers lost their jobs and the company went bankrupt. The company emerged from bankruptcy last year and is now known as MCI.\n",
      ")\n",
      "(file:/Users/drcaptainray/Documents/IMTA/SDS202/TP/TF-IDF/bbctext/business/128.txt,Qantas sees profits fly to record\n",
      "\n",
      "Australian airline Qantas has posted a record fiscal first-half profit thanks to cost-cutting measures.\n",
      "\n",
      "Net profit in the six months ending 31 December rose 28% to A$458.4m ($357.6m; £191m) from a year earlier. Analysts expected a figure closer to A$431m. Qantas shares fell almost 3%, however, after it warned that earnings growth would slow in the second half. Sales will dip by at least A$30m after the Indian ocean tsunami devastated many holiday destinations, Qantas said.\n",
      "\n",
      "\"The tsunami affected travel patterns in ways that we were a bit surprised about,\" chief executive Geoff Dixon explained. \"It certainly affected Japanese travel into Australia. As soon as the tsunami hit we saw ... a lessening with bookings for Australia.\" Higher fuel costs also are expected to eat into earnings in coming months. \"We don't have as much hedging benefit in the second half as we had in the first,\" said chief financial officer Peter Gregg. Qantas is facing increased pressure from rivals such as low-cost carrier Virgin Blue and the Australian government is in talks about whether to allow Singapore Airlines to fly between the Australia and the US - one of Qantas' key routes.\n",
      "\n",
      "Even so, the firm is predicting that full-year earnings will increase from the previous 12 months. Analysts have forecast full-year profit will rise about 11% to around A$720 million ($563 million). Qantas boss Mr Dixon also said he would be reviewing the group's cost-cutting measures. During the first six months of the fiscal year, Qantas made savings of A$245m, and is on track to top its target of A$500m for the full year. Last month, the company warned it may transfer as many as 7,000 jobs out Australia, with Mr Dixon quoted as saying that the carrier could no longer afford to remain \"all-Australian\".\n",
      ")\n",
      "(file:/Users/drcaptainray/Documents/IMTA/SDS202/TP/TF-IDF/bbctext/business/470.txt,Saudi investor picks up the Savoy\n",
      "\n",
      "London's famous Savoy hotel has been sold to a group combining Saudi billionaire investor Prince Alwaleed bin Talal and a unit of HBOS bank.\n",
      "\n",
      "Financial details of the deal, which includes the nearby Simpson's in the Strand restaurant, were not disclosed. The seller - Irish-based property firm Quinlan Private - bought the Savoy along with the Berkeley, Claridge's and the Connaught for £750m last year. Prince Alwaleed's hotel investments include the luxury George V in Paris. He also has substantial stakes in Fairmont Hotels & Resorts, which will manage the Savoy and Simpson's in the Strand, and Four Seasons. Fairmont said it planned to invest $48m (£26m) in renovating parts of the Savoy including the River Room and suites with views over the River Thames. Work was expected to be completed by summer 2006, Fairmont said.\n",
      ")\n",
      "(file:/Users/drcaptainray/Documents/IMTA/SDS202/TP/TF-IDF/bbctext/business/316.txt,Euronext 'poised to make LSE bid'\n",
      "\n",
      "Pan-European group Euronext is poised to launch a bid for the London Stock Exchange, UK media reports say.\n",
      "\n",
      "Last week, the LSE rejected a takeover proposal from German rival Deutsche Boerse - the 530 pence-a-share offer valued the exchange at about £1.35bn. The LSE, which saw its shares rise 25%, said the bid undervalued the business. Euronext - formed after the Brussels, Paris and Amsterdam exchanges merged - is reportedly working with three investment banks on a possible offer. The LSE, Europe's biggest stock market, is a key prize, listing stocks with a total capitalisation of £1.4 trillion.\n",
      "\n",
      "Euronext already has a presence in London due to its 2001 acquisition of London-based options and futures exchange Liffe. Trades on the LSE are cleared via Clearnet, in which Euronext has a quarter stake.\n",
      "\n",
      "Euronext, which also operates an exchange in Lisbon, last week appointed UBS and ABN Amro as additional advisors. It is also working with Morgan Stanley. Despite the rejection of the Deutsche Boerse bid last week, Werner Seifert, chief executive of the Frankfurt-based exchange, may well come back with an improved offer. It has long wanted to link up with London, and the two tried and failed to seal a merger in 2000. Responding to the LSE's rebuff, Deutsche Boerse - whose market capitalisation is more than £3bn - said it believed it could show its proposal offered benefits, and that it still hoped to make a cash bid.\n",
      "\n",
      "Last week the LSE said not only was the bid undervalued, but that it had \"been advised that there can be no assurance that any transaction could be successfully implemented\". However, it has indicated it is open for further talks. Meanwhile, German magazine Der Spiegel said part of Mr Seifert's negotiations with the LSE were about where to base the future board of any merged exchange. While Mr Seifert has suggested a merged company would be run out of London, the mayor of Frankfurt has raised concerns that such a move could cost German jobs. Many analysts believe German Boerse has more financial firepower than Euronext if it came to a bidding war.\n",
      ")\n",
      "(file:/Users/drcaptainray/Documents/IMTA/SDS202/TP/TF-IDF/bbctext/business/302.txt,Cactus diet deal for Phytopharm\n",
      "\n",
      "A slimming aid made from a southern African cactus is set to be developed by UK firm Phytopharm and Unilever.\n",
      "\n",
      "Anglo-Dutch food giant Unilever will help the pharmaceutical firm develop the snacks containing Hoodia extract. Phytopharm shares jumped 10.7% on the news, with analysts saying sales of $600m (£309m) a year were possible. The plant, licensed to Phytopharm in 1997, has been used for thousands of years by the Sans bushmen of the Kalahari desert to stave off hunger. Studies have reportedly shown the plant curbs appetite instead of reducing calorific intake like many existing products.\n",
      "\n",
      "Phytopharm will receive an initial fee of £6.5m from Unilever - out of a potential total of £21m - as well as future royalties on product sales. Under the deal, production of the Hoodia cactus at Phytopharm's nursery in South Africa will also rise from eight million plants to potentially hundreds of millions, said Phytopharm chief executive Richard Dixey. The firm had initially hoped to market a slimming drug from Hoodia with Pfizer. But the research collaboration came to an end in 2003. Analysts said Unilever could launch the new products in 2007. \"This deal goes a long way to restoring the market faith in Phytopharm's pipeline after the Pfizer exit,\" said analyst Erling Refsum at Nomura.\n",
      ")\n",
      "(file:/Users/drcaptainray/Documents/IMTA/SDS202/TP/TF-IDF/bbctext/business/464.txt,Wall Street cool to eBay's profit\n",
      "\n",
      "Shares in online auction house eBay fell 9.8% in after-hours trade on Wednesday, after its quarterly profits failed to meet market expectations.\n",
      "\n",
      "Despite seeing net profits rise by 44% to $205.4m (£110m) during October to December, from $142m a year earlier, Wall Street had expected more. EBay stock fell to $92.9 in after-hours trade, from a $103.05 end on Nasdaq. EBay's net revenue for the quarter rose to $935.8m from $648.4m, boosted by growth at its PayPal payment service.\n",
      "\n",
      "Excluding special items, eBay's profit was 33 cents a share, but analysts had expected 34 cents.\n",
      "\n",
      "\"I think Wall Street has gotten a bit ahead of eBay this quarter and for the 2005 year.\" said Janco Partners analyst Martin Pyykkonen. For 2004 as a whole, eBay earned $778.2m on sales of $3.27bn. EBay president and chief executive Meg Whitman called 2004 an \"outstanding success\" that generated \"tremendous momentum\" for 2005. \"I'm more confident than ever that the decisions and investments we're making today will ensure a bright future for the company and our community of users around the world,\" she said. EBay now forecasts 2005 revenue of $4.2bn to $4.35bn and earnings excluding items of $1.48 to $1.52 per share. Analysts had previously estimated that eBay would achieve 2005 revenues of $4.37bn and earnings of $1.62 per share, excluding items.\n",
      ")\n",
      "(file:/Users/drcaptainray/Documents/IMTA/SDS202/TP/TF-IDF/bbctext/business/458.txt,Parmalat founder offers apology\n",
      "\n",
      "The founder and former boss of Parmalat has apologised to investors who lost money as a result of the Italian dairy firm's collapse.\n",
      "\n",
      "Calisto Tanzi said he would co-operate fully with prosecutors investigating the background to one of Europe's largest financial scandals. Parmalat was placed into bankruptcy protection in 2003 after a 14bn euro black hole was found in its accounts. More than 130,000 people lost money following the firm's collapse. Mr Tanzi, 66, issued a statement through his lawyer after five hours of questioning by prosecutors in Parma on 15 January.\n",
      "\n",
      "Prosecutors are seeking indictments against Mr Tanzi and 28 others - including several members of his family and former Parmalat chief financial officer Fausto Tonna - for alleged manipulation of stock market prices and making misleading statements to accountants and Italy's financial watchdog. Two former Parmalat auditors will stand trial later this month for their role in the firm's collapse.\n",
      "\n",
      "\"I apologise to all who have suffered so much damage as a result of my schemes to make my dream of an industrial project come true,\" Mr Tanzi's statement said. \"It is my duty to collaborate fully with prosecutors to reconstruct the causes of Parmalat's sudden default and who is responsible.\" Mr Tanzi spent several months in jail in the wake of Parmalat's collapse and was kept under house arrest until last September. Parmalat is now being run by a state appointed administrator, Enrico Bondi, who has launched lawsuits against 80 banks in an effort to recover money for the bankrupt company and its shareholders. He has alleged that these companies were aware of the true state of Parmalat's finances but continued to lend money to the company. The companies insist they were the victims of fraudulent book-keeping. Parmalat was declared insolvent after it emerged that 4 billion euros (£2.8bn; $4.8bn) it supposedly held in an offshore account did not in fact exist. The firm's demise sent shock waves through Italy, where its portfolio of top-selling food brands and its position as the owner of leading football club Parma had turned it into a household name.\n",
      ")\n",
      "(file:/Users/drcaptainray/Documents/IMTA/SDS202/TP/TF-IDF/bbctext/business/459.txt,'Golden economic period' to end\n",
      "\n",
      "Ten years of \"golden\" economic performance may come to an end in 2005 with growth slowing markedly, City consultancy Deloitte has warned.\n",
      "\n",
      "The UK economy could suffer a backlash from the slowdown in the housing market, triggering a fall in consumer spending and a rise in unemployment. Deloitte is forecasting economic growth of 2% this year, below Chancellor Gordon Brown's forecast of 3% to 3.5%. It also believes that interest rates will fall to 4% by the end of the year.\n",
      "\n",
      "In its quarterly economic review, Deloitte said the UK economy had enjoyed a \"golden period\" during the past decade with unemployment falling to a near 30 year low and inflation at its lowest since the 1960s.\n",
      "\n",
      "But it warned that this growth had been achieved at the expense of creating major \"imbalances\" in the economy. Deloitte's chief economic advisor Roger Bootle said: \"The biggest hit of all is set to come from the housing market which has already embarked on a major slowdown. \"Whereas the main driver of the economy in recent years has been robust household spending growth, this is likely to suffer as the housing market slowdown gathers pace.\"\n",
      "\n",
      "Economic growth is likely to be constrained during the next few years by increased pressure on household budgets and rising taxes, Deloitte believes. Gordon Brown will need to raise about $10bn a year in order to sustain the public finances in the short term, the firm claims. This will result in a marked slowdown in growth in 2005 and 2006 compared to last year, when the economy expanded by 3.25%. However, Deloitte stressed that the slowdown was unlikely to have any major impact on retail prices while it expected the Bank of England to respond quickly to signs of the economy faltering. It expects a series of \"aggressive\" interest rate cuts over the next two years, with the cost of borrowing falling from its current 4.75% mark to 3.5% by the end of 2006. \"Although 2005 may not be the year when things go completely wrong, it will probably mark the start of a more difficult period for the UK economy,\" Mr Bootle.\n",
      ")\n",
      "(file:/Users/drcaptainray/Documents/IMTA/SDS202/TP/TF-IDF/bbctext/business/303.txt,Brazil plays down Varig rescue\n",
      "\n",
      "The Brazilian government has played down claims that it could step in to save the country's biggest airline.\n",
      "\n",
      "Brazil's airport authority chief Carlos Wilson had claimed the government was on the brink of stepping in to save Varig, Brazil's flagship airline. However, the country's vice president Jose Alencar has said the government still is looking for a solution. Varig is struggling under a huge debt burden of an estimated debt of 6.5 billion reais ($2.3bn or £1.2bn). Asked whether a rescue was on the cards following a meeting of the country's Congress to discuss the airline's crisis, Mr Alencar replied: \"No, I don't think so. We will see.\"\n",
      "\n",
      "Earlier, Mr Wilson had said that president Luiz Inacio Lula da Silva has decided to step in and a decree of some kind of intervention could be signed this week. \"In practice, it will be an intervention, although this is not the technical name used\", he said. An intervention means that the government would take administrative control of the company and its finances. For that to happen Varig's main shareholder, the non-profit Ruben Berta Foundation which represents the airline's employees, would have to be removed, Mr Wilson said. However, no jobs would be lost and the airline would keep on flying, he added. Varig, which operates in 18 countries apart from Brazil, has been driven to the brink of collapse because of the country's economic downturn.\n",
      "\n",
      "The depreciation of Brazil's currency has had a direct impact on the airline's dollar debt as well as some of its costs. Business has improved recently with demand for air travel increasing and a recovery in the Brazilian economy. The airline could also win a sizeable windfall from a compensation claim against the government. On Tuesday the courts awarded Varig 2bn reais ($725m), after ruling in favour of its compensation claim against the government for freezing tariffs from 1985 to 1992. But the government can appeal the decision.\n",
      ")\n",
      "(file:/Users/drcaptainray/Documents/IMTA/SDS202/TP/TF-IDF/bbctext/business/465.txt,WorldCom trial starts in New York\n",
      "\n",
      "The trial of Bernie Ebbers, former chief executive of bankrupt US phone company WorldCom, has started in New York with the selection of the jury.\n",
      "\n",
      "Mr Ebbers, 63, is accused of being the mastermind behind an $11bn (£6bn) accounting fraud that eventually saw the firm collapse in July 2002. His indictment includes charges of securities fraud, conspiracy and filing false reports with regulators. If found guilty, Mr Ebbers could face a substantial jail sentence. He has firmly declared his innocence.\n",
      "\n",
      "Under Mr Ebbers' leadership, WorldCom emerged from Mississippi obscurity to become a $160bn telecoms giant and the darling of late 1990s investors. Yet as competition intensified and the telecoms boom petered out, WorldCom found itself under growing financial stress. When WorldCom finally collapsed, shareholders lost about $180bn and 20,000 workers lost their jobs. Mr Ebbers' trial, which is expected to last two months, is the latest in a series of attempts by US prosecutors to pursue senior executives for fraud. It will coincide with the retrial of former Tyco International chief Dennis Kozlowski and his top lieutenant, accused of looting the industrial conglomerate to the tune of $600m. Trail preparations are also preparing for former executives of shamed US energy firm Enron.\n",
      ")\n",
      "(file:/Users/drcaptainray/Documents/IMTA/SDS202/TP/TF-IDF/bbctext/business/471.txt,Tsunami slows Sri Lanka's growth\n",
      "\n",
      "Sri Lanka's president has launched a reconstruction drive worth $3.5bn (£1.8bn) by appealing for peace and national unity.\n",
      "\n",
      "President Kumaratunga said it was now important to find a peaceful solution to years of internal conflict. Meanwhile, the International Monetary Fund (IMF) said damage from the tsunami would cut one percentage point from Sri Lanka's economic growth this year. It estimated the wave left physical damage equal to 6.5% of the economy.\n",
      "\n",
      "Separately, the International Labour Organisation (ILO) said that at least one million people have lost their livelihoods in Sri Lanka and Indonesia alone. It called for action to create jobs. President Kumaratunga attended a ceremony in the southern town of Hambantota. She was joined by government and opposition politicians, together with Buddhist, Hindu, Muslim and Christian clergy.\n",
      "\n",
      "Prime Minister Mahinda Rajapakse laid the foundation stone on a new housing project intended to provide 6,000 homes for survivors of the tsunami. Mrs Kumaratunga called for the tragedy to be \"the start of a new beginning to rebuild our nation\". \"We are a country blessed with so many natural resources and we have not made use of them fully. Instead we have been squabbling, fighting,\" she added. Norway's peace negotiator Erik Solheim is due to arrive on Wednesday to try to revive peace talks in the decades-long conflict between government forces and the Tamil Tigers, who want a separate state in the north east of the country. Reconstruction efforts in eastern Sri Lanka have been hampered by tensions between the two sides.\n",
      "\n",
      "The IMF said that the Sri Lankan authorities' initial estimates have put the physical damage at $1.3 to $1.5bn, but added that the implications for the economy were much wider than this. \"The broader macroeconomic impact will clearly be substantial but the details are difficult to assess at this early stage,\" the IMF said. Growth, inflation, the balance of payments and foreign exchange reserves are all expected to show the effects of lost businesses and reconstruction costs. \"The fishing industry has been devastated, agricultural production may be affected and tourism will suffer, especially in the short term,\" the report said. The ILO estimated that 400,000 Sri Lankans have lost their jobs, mostly in these three industries. Earnings from tourism this year are expected to be 15% lower than last year. Economic growth this year is expected to be 4%, which is about 1% less than previously forecast. Inflation could climb to 14% compared to a previous estimate of 12%. Although major exports have not suffered, the IMF expects the reconstruction effort will require higher imports which could damage the balance of payments. Foreign exchange reserves may become strained as \"Sri Lanka will be hard pressed to keep international reserves at the pre-tsunami level\" which totalled more than two months worth of imports. Last week, the IMF approved Sri Lanka's request for a freeze on loan repayments.\n",
      ")\n",
      "=====================\n"
     ]
    },
    {
     "data": {
      "text/plain": [
       "groupFiles = MapPartitionsRDD[20] at map at <console>:49\n"
      ]
     },
     "metadata": {},
     "output_type": "display_data"
    },
    {
     "data": {
      "text/plain": [
       "MapPartitionsRDD[20] at map at <console>:49"
      ]
     },
     "execution_count": 22,
     "metadata": {},
     "output_type": "execute_result"
    }
   ],
   "source": [
    "val groupFiles = groupAllFiles.map(file => (file._1, file._2))\n",
    "peek(groupFiles)"
   ]
  },
  {
   "cell_type": "markdown",
   "metadata": {},
   "source": [
    "The TF(Term Frequency) indicates the frequency of each term in a document."
   ]
  },
  {
   "cell_type": "code",
   "execution_count": 23,
   "metadata": {},
   "outputs": [
    {
     "name": "stdout",
     "output_type": "stream",
     "text": [
      "((file:/Users/drcaptainray/Documents/IMTA/SDS202/TP/TF-IDF/bbctext/sport/397.txt,done),1)\n",
      "((file:/Users/drcaptainray/Documents/IMTA/SDS202/TP/TF-IDF/bbctext/sport/254.txt,big),2)\n",
      "((file:/Users/drcaptainray/Documents/IMTA/SDS202/TP/TF-IDF/bbctext/politics/240.txt,do),2)\n",
      "((file:/Users/drcaptainray/Documents/IMTA/SDS202/TP/TF-IDF/bbctext/sport/293.txt,minute),1)\n",
      "((file:/Users/drcaptainray/Documents/IMTA/SDS202/TP/TF-IDF/bbctext/tech/309.txt,and),21)\n",
      "((file:/Users/drcaptainray/Documents/IMTA/SDS202/TP/TF-IDF/bbctext/sport/023.txt,application),1)\n",
      "((file:/Users/drcaptainray/Documents/IMTA/SDS202/TP/TF-IDF/bbctext/business/087.txt,sullivan),2)\n",
      "((file:/Users/drcaptainray/Documents/IMTA/SDS202/TP/TF-IDF/bbctext/tech/300.txt,d),1)\n",
      "((file:/Users/drcaptainray/Documents/IMTA/SDS202/TP/TF-IDF/bbctext/tech/237.txt,xp),1)\n",
      "((file:/Users/drcaptainray/Documents/IMTA/SDS202/TP/TF-IDF/bbctext/business/334.txt,lt),1)\n"
     ]
    },
    {
     "data": {
      "text/plain": [
       "tf = Map((file:/Users/drcaptainray/Documents/IMTA/SDS202/TP/TF-IDF/bbctext/sport/397.txt,done) -> 1, (file:/Users/drcaptainray/Documents/IMTA/SDS202/TP/TF-IDF/bbctext/sport/254.txt,big) -> 2, (file:/Users/drcaptainray/Documents/IMTA/SDS202/TP/TF-IDF/bbctext/politics/240.txt,do) -> 2, (file:/Users/drcaptainray/Documents/IMTA/SDS202/TP/TF-IDF/bbctext/sport/293.txt,minute) -> 1, (file:/Users/drcaptainray/Documents/IMTA/SDS202/TP/TF-IDF/bbctext/tech/309.txt,and) -> 21, (file:/Users/drcaptainray/Documents/IMTA/SDS202/TP/TF-IDF/bbctext/sport/023.txt,application) -> 1, (file:/Users/drcaptainray/Documents/IMTA/SDS202/TP/TF-IDF/bbctext/business/087.txt,sullivan) -> 2, (file:/Users/drcaptainray/Documents/IMTA/SDS202/TP/TF-IDF/bbctext/tech/300.txt,d) ->...\n"
      ]
     },
     "metadata": {},
     "output_type": "display_data"
    },
    {
     "data": {
      "text/plain": [
       "Map((file:/Users/drcaptainray/Documents/IMTA/SDS202/TP/TF-IDF/bbctext/sport/397.txt,done) -> 1, (file:/Users/drcaptainray/Documents/IMTA/SDS202/TP/TF-IDF/bbctext/sport/254.txt,big) -> 2, (file:/Users/drcaptainray/Documents/IMTA/SDS202/TP/TF-IDF/bbctext/politics/240.txt,do) -> 2, (file:/Users/drcaptainray/Documents/IMTA/SDS202/TP/TF-IDF/bbctext/sport/293.txt,minute) -> 1, (file:/Users/drcaptainray/Documents/IMTA/SDS202/TP/TF-IDF/bbctext/tech/309.txt,and) -> 21, (file:/Users/drcaptainray/Documents/IMTA/SDS202/TP/TF-IDF/bbctext/sport/023.txt,application) -> 1, (file:/Users/drcaptainray/Documents/IMTA/SDS202/TP/TF-IDF/bbctext/business/087.txt,sullivan) -> 2, (file:/Users/drcaptainray/Documents/IMTA/SDS202/TP/TF-IDF/bbctext/tech/300.txt,d) ->..."
      ]
     },
     "execution_count": 23,
     "metadata": {},
     "output_type": "execute_result"
    }
   ],
   "source": [
    "val tf = tokenized_text.flatMapValues(line => line.sorted).countByValue()\n",
    "tf.take(10).foreach(println)"
   ]
  },
  {
   "cell_type": "markdown",
   "metadata": {},
   "source": [
    "The DF(Document Frequency) indicates the number of documents that contain the extected term"
   ]
  },
  {
   "cell_type": "code",
   "execution_count": 24,
   "metadata": {},
   "outputs": [
    {
     "name": "stdout",
     "output_type": "stream",
     "text": [
      "((file:/Users/drcaptainray/Documents/IMTA/SDS202/TP/TF-IDF/bbctext/sport/397.txt,done),1)\n",
      "((file:/Users/drcaptainray/Documents/IMTA/SDS202/TP/TF-IDF/bbctext/sport/254.txt,big),1)\n",
      "((file:/Users/drcaptainray/Documents/IMTA/SDS202/TP/TF-IDF/bbctext/politics/240.txt,do),1)\n",
      "((file:/Users/drcaptainray/Documents/IMTA/SDS202/TP/TF-IDF/bbctext/sport/293.txt,minute),1)\n",
      "((file:/Users/drcaptainray/Documents/IMTA/SDS202/TP/TF-IDF/bbctext/tech/309.txt,and),1)\n"
     ]
    },
    {
     "data": {
      "text/plain": [
       "tf_distinct = Map((file:/Users/drcaptainray/Documents/IMTA/SDS202/TP/TF-IDF/bbctext/sport/397.txt,done) -> 1, (file:/Users/drcaptainray/Documents/IMTA/SDS202/TP/TF-IDF/bbctext/sport/254.txt,big) -> 1, (file:/Users/drcaptainray/Documents/IMTA/SDS202/TP/TF-IDF/bbctext/politics/240.txt,do) -> 1, (file:/Users/drcaptainray/Documents/IMTA/SDS202/TP/TF-IDF/bbctext/sport/293.txt,minute) -> 1, (file:/Users/drcaptainray/Documents/IMTA/SDS202/TP/TF-IDF/bbctext/tech/309.txt,and) -> 1, (file:/Users/drcaptainray/Documents/IMTA/SDS202/TP/TF-IDF/bbctext/sport/023.txt,application) -> 1, (file:/Users/drcaptainray/Documents/IMTA/SDS202/TP/TF-IDF/bbctext/business/087.txt,sullivan) -> 1, (file:/Users/drcaptainray/Documents/IMTA/SDS202/TP/TF-IDF/bbctext/tech/300.t...\n"
      ]
     },
     "metadata": {},
     "output_type": "display_data"
    },
    {
     "data": {
      "text/plain": [
       "Map((file:/Users/drcaptainray/Documents/IMTA/SDS202/TP/TF-IDF/bbctext/sport/397.txt,done) -> 1, (file:/Users/drcaptainray/Documents/IMTA/SDS202/TP/TF-IDF/bbctext/sport/254.txt,big) -> 1, (file:/Users/drcaptainray/Documents/IMTA/SDS202/TP/TF-IDF/bbctext/politics/240.txt,do) -> 1, (file:/Users/drcaptainray/Documents/IMTA/SDS202/TP/TF-IDF/bbctext/sport/293.txt,minute) -> 1, (file:/Users/drcaptainray/Documents/IMTA/SDS202/TP/TF-IDF/bbctext/tech/309.txt,and) -> 1, (file:/Users/drcaptainray/Documents/IMTA/SDS202/TP/TF-IDF/bbctext/sport/023.txt,application) -> 1, (file:/Users/drcaptainray/Documents/IMTA/SDS202/TP/TF-IDF/bbctext/business/087.txt,sullivan) -> 1, (file:/Users/drcaptainray/Documents/IMTA/SDS202/TP/TF-IDF/bbctext/tech/300.t..."
      ]
     },
     "execution_count": 24,
     "metadata": {},
     "output_type": "execute_result"
    }
   ],
   "source": [
    "val tf_distinct = tokenized_text.flatMapValues(x => x).distinct().countByValue()\n",
    "tf_distinct.take(5).foreach(println)"
   ]
  },
  {
   "cell_type": "code",
   "execution_count": 25,
   "metadata": {},
   "outputs": [
    {
     "name": "stdout",
     "output_type": "stream",
     "text": [
      "(dredd,1)\n",
      "(quotient,1)\n",
      "(incident,31)\n",
      "(serious,96)\n",
      "(wgbh,8)\n"
     ]
    },
    {
     "data": {
      "text/plain": [
       "df = Map(dredd -> 1, quotient -> 1, incident -> 31, serious -> 96, wgbh -> 8, brink -> 9, ferociously -> 1, foolproof -> 1, youthful -> 1, sinister -> 4, comply -> 11, ebb -> 1, breaks -> 27, marr -> 8, forgotten -> 15, precious -> 9, mario -> 13, larne -> 2, inflammatory -> 1, adhi -> 1, unkempt -> 1, sectors -> 24, hourly -> 2, thunderous -> 2, embedded -> 7, kechiche -> 2, derided -> 2, bricked -> 1, lifan -> 1, sputtering -> 3, lover -> 10, snazzy -> 1, plentiful -> 1, speaker -> 12, malfunction -> 5, terrible -> 13, cathal -> 1, lion -> 6, pipex -> 2, rate -> 140, 205 -> 3, pepper -> 2, inevitable -> 12, 2014 -> 2, 434m -> 1, michels -> 1, nonetheless -> 6, perceives -> 1, taiwan -> 6, burgle -> 1, assert -> 2, 45 -> 66, 2s -> 1, muggers -> 2, thr...\n"
      ]
     },
     "metadata": {},
     "output_type": "display_data"
    },
    {
     "data": {
      "text/plain": [
       "Map(dredd -> 1, quotient -> 1, incident -> 31, serious -> 96, wgbh -> 8, brink -> 9, ferociously -> 1, foolproof -> 1, youthful -> 1, sinister -> 4, comply -> 11, ebb -> 1, breaks -> 27, marr -> 8, forgotten -> 15, precious -> 9, mario -> 13, larne -> 2, inflammatory -> 1, adhi -> 1, unkempt -> 1, sectors -> 24, hourly -> 2, thunderous -> 2, embedded -> 7, kechiche -> 2, derided -> 2, bricked -> 1, lifan -> 1, sputtering -> 3, lover -> 10, snazzy -> 1, plentiful -> 1, speaker -> 12, malfunction -> 5, terrible -> 13, cathal -> 1, lion -> 6, pipex -> 2, rate -> 140, 205 -> 3, pepper -> 2, inevitable -> 12, 2014 -> 2, 434m -> 1, michels -> 1, nonetheless -> 6, perceives -> 1, taiwan -> 6, burgle -> 1, assert -> 2, 45 -> 66, 2s -> 1, muggers -> 2, thr..."
      ]
     },
     "execution_count": 25,
     "metadata": {},
     "output_type": "execute_result"
    }
   ],
   "source": [
    "val df = tokenized_text.flatMapValues(x => x).distinct().map(word => (word._2,word._1)).countByKey()\n",
    "//peek(df)\n",
    "df.take(5).foreach(println)"
   ]
  },
  {
   "cell_type": "code",
   "execution_count": 47,
   "metadata": {},
   "outputs": [
    {
     "name": "stdout",
     "output_type": "stream",
     "text": [
      "Number of Documents  :2225\n"
     ]
    },
    {
     "data": {
      "text/plain": [
       "tf_idf: (num_of_docs: Long, tf: scala.collection.Map[(String, String),Long], df: scala.collection.Map[String,Long])List[Any]\n",
       "test: List[Any]\n"
      ]
     },
     "metadata": {},
     "output_type": "display_data"
    },
    {
     "name": "stdout",
     "output_type": "stream",
     "text": [
      "Stop Words\n",
      "=====================\n",
      "a\n",
      "about\n",
      "above\n",
      "across\n",
      "after\n",
      "=====================\n",
      "List is empty : false\n",
      "List size: 17\n",
      "(Document Name : file:/Users/drcaptainray/Documents/IMTA/SDS202/TP/TF-IDF/bbctext/sport/293.txt,Term : minute,Tf_idf_value : 3.295836866004329)\n",
      "(Document Name : file:/Users/drcaptainray/Documents/IMTA/SDS202/TP/TF-IDF/bbctext/sport/023.txt,Term : application,Tf_idf_value : 4.174387269895637)\n",
      "(Document Name : file:/Users/drcaptainray/Documents/IMTA/SDS202/TP/TF-IDF/bbctext/business/087.txt,Term : sullivan,Tf_idf_value : 8.738895704934043)\n",
      "(Document Name : file:/Users/drcaptainray/Documents/IMTA/SDS202/TP/TF-IDF/bbctext/tech/237.txt,Term : xp,Tf_idf_value : 4.9344739331306915)\n",
      "(Document Name : file:/Users/drcaptainray/Documents/IMTA/SDS202/TP/TF-IDF/bbctext/business/334.txt,Term : lt,Tf_idf_value : 6.608000625296087)\n",
      "(Document Name : file:/Users/drcaptainray/Documents/IMTA/SDS202/TP/TF-IDF/bbctext/sport/492.txt,Term : federer,Tf_idf_value : 4.709530201312334)\n",
      "(Document Name : file:/Users/drcaptainray/Documents/IMTA/SDS202/TP/TF-IDF/bbctext/entertainment/037.txt,Term : denied,Tf_idf_value : 2.772588722239781)\n",
      "(Document Name : file:/Users/drcaptainray/Documents/IMTA/SDS202/TP/TF-IDF/bbctext/politics/047.txt,Term : studies,Tf_idf_value : 4.48863636973214)\n",
      "(Document Name : file:/Users/drcaptainray/Documents/IMTA/SDS202/TP/TF-IDF/bbctext/sport/277.txt,Term : ones,Tf_idf_value : 3.912023005428146)\n",
      "(Document Name : file:/Users/drcaptainray/Documents/IMTA/SDS202/TP/TF-IDF/bbctext/tech/401.txt,Term : job,Tf_idf_value : 10.556229318461034)\n",
      "(Document Name : file:/Users/drcaptainray/Documents/IMTA/SDS202/TP/TF-IDF/bbctext/politics/214.txt,Term : people,Tf_idf_value : 4.1588830833596715)\n",
      "(Document Name : file:/Users/drcaptainray/Documents/IMTA/SDS202/TP/TF-IDF/bbctext/entertainment/128.txt,Term : rock,Tf_idf_value : 3.4339872044851463)\n",
      "(Document Name : file:/Users/drcaptainray/Documents/IMTA/SDS202/TP/TF-IDF/bbctext/tech/332.txt,Term : mini,Tf_idf_value : 8.120886021092838)\n",
      "(Document Name : file:/Users/drcaptainray/Documents/IMTA/SDS202/TP/TF-IDF/bbctext/entertainment/256.txt,Term : etc,Tf_idf_value : 15.661067475234972)\n",
      "(Document Name : file:/Users/drcaptainray/Documents/IMTA/SDS202/TP/TF-IDF/bbctext/entertainment/285.txt,Term : uk,Tf_idf_value : 4.1588830833596715)\n",
      "(Document Name : file:/Users/drcaptainray/Documents/IMTA/SDS202/TP/TF-IDF/bbctext/politics/189.txt,Term : celebration,Tf_idf_value : 5.402677381872279)\n",
      "(Document Name : file:/Users/drcaptainray/Documents/IMTA/SDS202/TP/TF-IDF/bbctext/entertainment/329.txt,Term : tiger,Tf_idf_value : 5.220355825078324)\n"
     ]
    }
   ],
   "source": [
    "import org.apache.spark.rdd.RDD\n",
    "\n",
    "def tf_idf(num_of_docs: Long , tf : Map[(String, String),Long] ,df:Map[String,Long]): List[Any] = {\n",
    "   var result_list = List[Any]()\n",
    "    println(\"Number of Documents  :\" + num_of_docs )\n",
    "    val stop_words  = sc.textFile(\"../TF-IDF/bbctext/stopwords.txt\",8).map(line => line.toLowerCase)\n",
    "    val stop_words_list : List[String]= stop_words.collect().toList\n",
    "    //val stop_words_tokens = stop_words.map(line => (line._1,Tokenizer.tokenize(line._2.toString)))\n",
    "    val stop_words_count = stop_words.count()\n",
    "    peek_array(\"Stop Words\",stop_words_list)\n",
    "//print(stop_words)\n",
    "    //println(\" \")\n",
    "        for((key,value) <- tf.take(30)){\n",
    "           val document = key._1 // document\n",
    "           val term = key._2 // term\n",
    "           val document_frequency  = df.get(term).getOrElse(0)// document frequency\n",
    "           val document_frequency_long_val = document_frequency.asInstanceOf[Number].longValue \n",
    "            \n",
    "            //println(\"Document : \" + document)\n",
    "            //println(\"Term : \" + term )\n",
    "            //println(\"Term Frequency : \" + value )\n",
    "            //println(\"Document Frequency : \" + document_frequency)\n",
    "            \n",
    "            //Check is the term doesn't exist in the Stop Words List\n",
    "            // If it exists, its tf-idf is not calculated\n",
    "            if(!stop_words_list.contains(term)){\n",
    "            \n",
    "            if(document_frequency_long_val > 0){\n",
    "                val tf_idf_value =  value * (log(num_of_docs/document_frequency_long_val))\n",
    "                //println(\"Tf_idf_value : \" + tf_idf_value)\n",
    "                 //println(\"Result_list_item : \" + result_list_item )\n",
    "                 //println(\" \")\n",
    "                result_list = result_list :+ (\"Document Name : \" + document,\"Term : \" + term,\"Tf_idf_value : \" + tf_idf_value)\n",
    "                \n",
    "                }\n",
    "            }\n",
    "        }\n",
    "    println(\"List is empty : \" + result_list.isEmpty)\n",
    "    println(\"List size: \" + result_list.size)\n",
    "    //println(\"List \" + result_list)\n",
    "    return result_list\n",
    "}\n",
    "// Test the rsult of the TF-IDF\n",
    "def test :List[Any]= tf_idf(totalnumberfiles, tf ,df)\n",
    "\n",
    "//println(\"List_Test : \" + test)\n",
    "test.take(30).foreach(println)\n"
   ]
  },
  {
   "cell_type": "code",
   "execution_count": null,
   "metadata": {},
   "outputs": [],
   "source": []
  }
 ],
 "metadata": {
  "kernelspec": {
   "display_name": "Apache Toree - Scala",
   "language": "scala",
   "name": "apache_toree_scala"
  },
  "language_info": {
   "codemirror_mode": "text/x-scala",
   "file_extension": ".scala",
   "mimetype": "text/x-scala",
   "name": "scala",
   "pygments_lexer": "scala",
   "version": "2.11.12"
  }
 },
 "nbformat": 4,
 "nbformat_minor": 2
}
